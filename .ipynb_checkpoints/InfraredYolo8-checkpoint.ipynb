{
 "cells": [
  {
   "cell_type": "code",
   "execution_count": 1,
   "id": "3bffc32d-b56f-4459-83eb-3b457340d4c8",
   "metadata": {},
   "outputs": [],
   "source": [
    "# imports for the function and conversion\n",
    "import os\n",
    "from collections import defaultdict\n",
    "import json"
   ]
  },
  {
   "cell_type": "code",
   "execution_count": 2,
   "id": "da765bc0-9085-468d-8456-96db345dca8c",
   "metadata": {},
   "outputs": [],
   "source": [
    "# Converts a given COCO formatted json to YOLO formatted labels in a particular labelsFolder\n",
    "def convert_to_YOLO(jsonPath, labelsFolder):\n",
    "    with open(jsonPath, 'r') as f:\n",
    "        data = json.load(f)\n",
    "    \n",
    "    # Group annotations by image_id for faster lookup\n",
    "    annotations_by_image = defaultdict(list)\n",
    "    for annotation in data['annotations']:\n",
    "        annotations_by_image[annotation['image_id']].append(annotation)\n",
    "    \n",
    "    # Process each image\n",
    "    for image in data['images']:\n",
    "        image_id = image['id']\n",
    "        img_width, img_height = image['width'], image['height']\n",
    "        file_name = os.path.splitext(image['file_name'])[0]  # Remove extension\n",
    "    \n",
    "        # Open annotation file only once\n",
    "        with open(f\"{labelsFolder}/{file_name}.txt\", \"w\") as label_file:\n",
    "            for annotation in annotations_by_image.get(image_id, []):  # Lookup in preprocessed dict\n",
    "                category_id = int(annotation['category_id']) - 1\n",
    "                x_min, y_min, box_width, box_height = annotation['bbox']\n",
    "    \n",
    "                # Convert to YOLO format\n",
    "                x_center = (x_min + box_width / 2) / img_width\n",
    "                y_center = (y_min + box_height / 2) / img_height\n",
    "                norm_width = box_width / img_width\n",
    "                norm_height = box_height / img_height\n",
    "    \n",
    "                # Write to label file\n",
    "                label_file.write(f\"{category_id} {x_center} {y_center} {norm_width} {norm_height}\\n\")\n",
    "    print(\"COCO annotations converted to YOLO format!\")"
   ]
  },
  {
   "cell_type": "code",
   "execution_count": 5,
   "id": "efbd8278-70bd-4775-9bce-5dbe15eed0fd",
   "metadata": {},
   "outputs": [
    {
     "name": "stdout",
     "output_type": "stream",
     "text": [
      "COCO annotations converted to YOLO format!\n"
     ]
    }
   ],
   "source": [
    "# Load COCO annotations and convert them to Yolo\n",
    "annotations_file = 'POPClean/val/Annotations/val.json'\n",
    "output_dir = 'POPYolo/labels/val'\n",
    "\n",
    "convert_to_YOLO(annotations_file, output_dir)"
   ]
  },
  {
   "cell_type": "code",
   "execution_count": 1,
   "id": "03f3c65a-d926-491f-99c3-5abcb66deeb2",
   "metadata": {},
   "outputs": [],
   "source": [
    "from ultralytics import YOLO"
   ]
  },
  {
   "cell_type": "code",
   "execution_count": 2,
   "id": "f21964bd-a910-4dcd-922f-9c215f6f66ae",
   "metadata": {},
   "outputs": [],
   "source": [
    "import torch\n",
    "torch.cuda.empty_cache()"
   ]
  },
  {
   "cell_type": "code",
   "execution_count": 4,
   "id": "4b1b7cd2-cf36-4598-862f-dfef92a3b5bb",
   "metadata": {},
   "outputs": [
    {
     "name": "stdout",
     "output_type": "stream",
     "text": [
      "Ultralytics 8.3.78  Python-3.12.9 torch-2.5.1+cu124 CUDA:0 (NVIDIA GeForce GTX 1660 Ti, 6144MiB)\n",
      "\u001b[34m\u001b[1mengine\\trainer: \u001b[0mtask=detect, mode=train, model=yolov8n.pt, data=POPYolo/POPYolo.yaml, epochs=10, time=None, patience=100, batch=8, imgsz=416, save=True, save_period=-1, cache=False, device=None, workers=8, project=Results, name=yolov8Test_model, exist_ok=True, pretrained=True, optimizer=auto, verbose=True, seed=0, deterministic=True, single_cls=False, rect=False, cos_lr=False, close_mosaic=10, resume=False, amp=True, fraction=1.0, profile=False, freeze=None, multi_scale=False, overlap_mask=True, mask_ratio=4, dropout=0.0, val=True, split=val, save_json=False, save_hybrid=False, conf=None, iou=0.7, max_det=300, half=False, dnn=False, plots=True, source=None, vid_stride=1, stream_buffer=False, visualize=False, augment=False, agnostic_nms=False, classes=None, retina_masks=False, embed=None, show=False, save_frames=False, save_txt=False, save_conf=False, save_crop=False, show_labels=True, show_conf=True, show_boxes=True, line_width=None, format=torchscript, keras=False, optimize=False, int8=False, dynamic=False, simplify=True, opset=None, workspace=None, nms=False, lr0=0.01, lrf=0.01, momentum=0.937, weight_decay=0.0005, warmup_epochs=3.0, warmup_momentum=0.8, warmup_bias_lr=0.1, box=7.5, cls=0.5, dfl=1.5, pose=12.0, kobj=1.0, nbs=64, hsv_h=0.015, hsv_s=0.7, hsv_v=0.4, degrees=0.0, translate=0.1, scale=0.5, shear=0.0, perspective=0.0, flipud=0.0, fliplr=0.5, bgr=0.0, mosaic=1.0, mixup=0.0, copy_paste=0.0, copy_paste_mode=flip, auto_augment=randaugment, erasing=0.4, crop_fraction=1.0, cfg=None, tracker=botsort.yaml, save_dir=Results\\yolov8Test_model\n",
      "Overriding model.yaml nc=80 with nc=1\n",
      "\n",
      "                   from  n    params  module                                       arguments                     \n",
      "  0                  -1  1       464  ultralytics.nn.modules.conv.Conv             [3, 16, 3, 2]                 \n",
      "  1                  -1  1      4672  ultralytics.nn.modules.conv.Conv             [16, 32, 3, 2]                \n",
      "  2                  -1  1      7360  ultralytics.nn.modules.block.C2f             [32, 32, 1, True]             \n",
      "  3                  -1  1     18560  ultralytics.nn.modules.conv.Conv             [32, 64, 3, 2]                \n",
      "  4                  -1  2     49664  ultralytics.nn.modules.block.C2f             [64, 64, 2, True]             \n",
      "  5                  -1  1     73984  ultralytics.nn.modules.conv.Conv             [64, 128, 3, 2]               \n",
      "  6                  -1  2    197632  ultralytics.nn.modules.block.C2f             [128, 128, 2, True]           \n",
      "  7                  -1  1    295424  ultralytics.nn.modules.conv.Conv             [128, 256, 3, 2]              \n",
      "  8                  -1  1    460288  ultralytics.nn.modules.block.C2f             [256, 256, 1, True]           \n",
      "  9                  -1  1    164608  ultralytics.nn.modules.block.SPPF            [256, 256, 5]                 \n",
      " 10                  -1  1         0  torch.nn.modules.upsampling.Upsample         [None, 2, 'nearest']          \n",
      " 11             [-1, 6]  1         0  ultralytics.nn.modules.conv.Concat           [1]                           \n",
      " 12                  -1  1    148224  ultralytics.nn.modules.block.C2f             [384, 128, 1]                 \n",
      " 13                  -1  1         0  torch.nn.modules.upsampling.Upsample         [None, 2, 'nearest']          \n",
      " 14             [-1, 4]  1         0  ultralytics.nn.modules.conv.Concat           [1]                           \n",
      " 15                  -1  1     37248  ultralytics.nn.modules.block.C2f             [192, 64, 1]                  \n",
      " 16                  -1  1     36992  ultralytics.nn.modules.conv.Conv             [64, 64, 3, 2]                \n",
      " 17            [-1, 12]  1         0  ultralytics.nn.modules.conv.Concat           [1]                           \n",
      " 18                  -1  1    123648  ultralytics.nn.modules.block.C2f             [192, 128, 1]                 \n",
      " 19                  -1  1    147712  ultralytics.nn.modules.conv.Conv             [128, 128, 3, 2]              \n",
      " 20             [-1, 9]  1         0  ultralytics.nn.modules.conv.Concat           [1]                           \n",
      " 21                  -1  1    493056  ultralytics.nn.modules.block.C2f             [384, 256, 1]                 \n",
      " 22        [15, 18, 21]  1    751507  ultralytics.nn.modules.head.Detect           [1, [64, 128, 256]]           \n",
      "Model summary: 129 layers, 3,011,043 parameters, 3,011,027 gradients, 8.2 GFLOPs\n",
      "\n",
      "Transferred 319/355 items from pretrained weights\n",
      "Freezing layer 'model.22.dfl.conv.weight'\n",
      "\u001b[34m\u001b[1mAMP: \u001b[0mchecks failed . AMP training on NVIDIA GeForce GTX 1660 Ti GPU may cause NaN losses or zero-mAP results, so AMP will be disabled during training.\n"
     ]
    },
    {
     "name": "stderr",
     "output_type": "stream",
     "text": [
      "\u001b[34m\u001b[1mtrain: \u001b[0mScanning C:\\Users\\crazy\\OneDrive\\Desktop\\Coding\\Projects\\HackAI\\POPYolo\\labels\\train.cache... 5548 images, 0 backgrounds, 0 corrupt: 100%|██████████| 5548/5548 [00:00<?, \u001b[0m\n",
      "\u001b[34m\u001b[1mval: \u001b[0mScanning C:\\Users\\crazy\\OneDrive\\Desktop\\Coding\\Projects\\HackAI\\POPYolo\\labels\\val.cache... 2320 images, 0 backgrounds, 0 corrupt: 100%|██████████| 2320/2320 [00:00<?, ?it/\u001b[0m\n"
     ]
    },
    {
     "name": "stdout",
     "output_type": "stream",
     "text": [
      "Plotting labels to Results\\yolov8Test_model\\labels.jpg... \n",
      "\u001b[34m\u001b[1moptimizer:\u001b[0m 'optimizer=auto' found, ignoring 'lr0=0.01' and 'momentum=0.937' and determining best 'optimizer', 'lr0' and 'momentum' automatically... \n",
      "\u001b[34m\u001b[1moptimizer:\u001b[0m AdamW(lr=0.002, momentum=0.9) with parameter groups 57 weight(decay=0.0), 64 weight(decay=0.0005), 63 bias(decay=0.0)\n",
      "Image sizes 416 train, 416 val\n",
      "Using 8 dataloader workers\n",
      "Logging results to \u001b[1mResults\\yolov8Test_model\u001b[0m\n",
      "Starting training for 10 epochs...\n",
      "Closing dataloader mosaic\n",
      "\n",
      "      Epoch    GPU_mem   box_loss   cls_loss   dfl_loss  Instances       Size\n"
     ]
    },
    {
     "name": "stderr",
     "output_type": "stream",
     "text": [
      "       1/10      1.07G      1.542      1.354      0.915         10        416: 100%|██████████| 694/694 [01:27<00:00,  7.97it/s]\n",
      "                 Class     Images  Instances      Box(P          R      mAP50  mAP50-95): 100%|██████████| 145/145 [00:17<00:00,  8.09it/s]\n"
     ]
    },
    {
     "name": "stdout",
     "output_type": "stream",
     "text": [
      "                   all       2320       6546       0.83      0.689      0.773      0.416\n",
      "\n",
      "      Epoch    GPU_mem   box_loss   cls_loss   dfl_loss  Instances       Size\n"
     ]
    },
    {
     "name": "stderr",
     "output_type": "stream",
     "text": [
      "       2/10      1.08G      1.398     0.7957      0.889         11        416: 100%|██████████| 694/694 [01:22<00:00,  8.42it/s]\n",
      "                 Class     Images  Instances      Box(P          R      mAP50  mAP50-95): 100%|██████████| 145/145 [00:17<00:00,  8.29it/s]"
     ]
    },
    {
     "name": "stdout",
     "output_type": "stream",
     "text": [
      "                   all       2320       6546      0.854      0.719       0.79      0.477\n"
     ]
    },
    {
     "name": "stderr",
     "output_type": "stream",
     "text": [
      "\n"
     ]
    },
    {
     "name": "stdout",
     "output_type": "stream",
     "text": [
      "\n",
      "      Epoch    GPU_mem   box_loss   cls_loss   dfl_loss  Instances       Size\n"
     ]
    },
    {
     "name": "stderr",
     "output_type": "stream",
     "text": [
      "       3/10      1.07G       1.34       0.72     0.8806         12        416: 100%|██████████| 694/694 [01:20<00:00,  8.63it/s]\n",
      "                 Class     Images  Instances      Box(P          R      mAP50  mAP50-95): 100%|██████████| 145/145 [00:17<00:00,  8.10it/s]"
     ]
    },
    {
     "name": "stdout",
     "output_type": "stream",
     "text": [
      "                   all       2320       6546      0.811      0.668      0.745      0.349\n"
     ]
    },
    {
     "name": "stderr",
     "output_type": "stream",
     "text": [
      "\n"
     ]
    },
    {
     "name": "stdout",
     "output_type": "stream",
     "text": [
      "\n",
      "      Epoch    GPU_mem   box_loss   cls_loss   dfl_loss  Instances       Size\n"
     ]
    },
    {
     "name": "stderr",
     "output_type": "stream",
     "text": [
      "       4/10      1.08G      1.288     0.6755     0.8734         18        416: 100%|██████████| 694/694 [01:20<00:00,  8.58it/s]\n",
      "                 Class     Images  Instances      Box(P          R      mAP50  mAP50-95): 100%|██████████| 145/145 [00:19<00:00,  7.52it/s]"
     ]
    },
    {
     "name": "stdout",
     "output_type": "stream",
     "text": [
      "                   all       2320       6546      0.862      0.703      0.786      0.494\n"
     ]
    },
    {
     "name": "stderr",
     "output_type": "stream",
     "text": [
      "\n"
     ]
    },
    {
     "name": "stdout",
     "output_type": "stream",
     "text": [
      "\n",
      "      Epoch    GPU_mem   box_loss   cls_loss   dfl_loss  Instances       Size\n"
     ]
    },
    {
     "name": "stderr",
     "output_type": "stream",
     "text": [
      "       5/10      1.08G      1.246     0.6366     0.8701          8        416: 100%|██████████| 694/694 [01:22<00:00,  8.45it/s]\n",
      "                 Class     Images  Instances      Box(P          R      mAP50  mAP50-95): 100%|██████████| 145/145 [00:17<00:00,  8.17it/s]"
     ]
    },
    {
     "name": "stdout",
     "output_type": "stream",
     "text": [
      "                   all       2320       6546       0.87      0.775      0.833      0.526\n"
     ]
    },
    {
     "name": "stderr",
     "output_type": "stream",
     "text": [
      "\n"
     ]
    },
    {
     "name": "stdout",
     "output_type": "stream",
     "text": [
      "\n",
      "      Epoch    GPU_mem   box_loss   cls_loss   dfl_loss  Instances       Size\n"
     ]
    },
    {
     "name": "stderr",
     "output_type": "stream",
     "text": [
      "       6/10      1.08G      1.212     0.6078      0.862         10        416: 100%|██████████| 694/694 [01:22<00:00,  8.44it/s]\n",
      "                 Class     Images  Instances      Box(P          R      mAP50  mAP50-95): 100%|██████████| 145/145 [00:17<00:00,  8.13it/s]"
     ]
    },
    {
     "name": "stdout",
     "output_type": "stream",
     "text": [
      "                   all       2320       6546      0.865      0.722      0.792      0.497\n"
     ]
    },
    {
     "name": "stderr",
     "output_type": "stream",
     "text": [
      "\n"
     ]
    },
    {
     "name": "stdout",
     "output_type": "stream",
     "text": [
      "\n",
      "      Epoch    GPU_mem   box_loss   cls_loss   dfl_loss  Instances       Size\n"
     ]
    },
    {
     "name": "stderr",
     "output_type": "stream",
     "text": [
      "       7/10      1.07G      1.181     0.5758     0.8574         14        416: 100%|██████████| 694/694 [01:20<00:00,  8.67it/s]\n",
      "                 Class     Images  Instances      Box(P          R      mAP50  mAP50-95): 100%|██████████| 145/145 [00:18<00:00,  7.82it/s]"
     ]
    },
    {
     "name": "stdout",
     "output_type": "stream",
     "text": [
      "                   all       2320       6546      0.874       0.76      0.828      0.531\n"
     ]
    },
    {
     "name": "stderr",
     "output_type": "stream",
     "text": [
      "\n"
     ]
    },
    {
     "name": "stdout",
     "output_type": "stream",
     "text": [
      "\n",
      "      Epoch    GPU_mem   box_loss   cls_loss   dfl_loss  Instances       Size\n"
     ]
    },
    {
     "name": "stderr",
     "output_type": "stream",
     "text": [
      "       8/10      1.08G      1.139      0.554     0.8511         13        416: 100%|██████████| 694/694 [01:24<00:00,  8.17it/s]\n",
      "                 Class     Images  Instances      Box(P          R      mAP50  mAP50-95): 100%|██████████| 145/145 [00:18<00:00,  7.73it/s]"
     ]
    },
    {
     "name": "stdout",
     "output_type": "stream",
     "text": [
      "                   all       2320       6546      0.894       0.76      0.833      0.545\n"
     ]
    },
    {
     "name": "stderr",
     "output_type": "stream",
     "text": [
      "\n"
     ]
    },
    {
     "name": "stdout",
     "output_type": "stream",
     "text": [
      "\n",
      "      Epoch    GPU_mem   box_loss   cls_loss   dfl_loss  Instances       Size\n"
     ]
    },
    {
     "name": "stderr",
     "output_type": "stream",
     "text": [
      "       9/10      1.08G      1.104     0.5243     0.8458         14        416: 100%|██████████| 694/694 [01:21<00:00,  8.51it/s]\n",
      "                 Class     Images  Instances      Box(P          R      mAP50  mAP50-95): 100%|██████████| 145/145 [00:18<00:00,  7.63it/s]"
     ]
    },
    {
     "name": "stdout",
     "output_type": "stream",
     "text": [
      "                   all       2320       6546      0.906      0.767       0.84      0.553\n"
     ]
    },
    {
     "name": "stderr",
     "output_type": "stream",
     "text": [
      "\n"
     ]
    },
    {
     "name": "stdout",
     "output_type": "stream",
     "text": [
      "\n",
      "      Epoch    GPU_mem   box_loss   cls_loss   dfl_loss  Instances       Size\n"
     ]
    },
    {
     "name": "stderr",
     "output_type": "stream",
     "text": [
      "      10/10      1.08G      1.074     0.5048     0.8398         14        416: 100%|██████████| 694/694 [01:23<00:00,  8.35it/s]\n",
      "                 Class     Images  Instances      Box(P          R      mAP50  mAP50-95): 100%|██████████| 145/145 [00:17<00:00,  8.08it/s]"
     ]
    },
    {
     "name": "stdout",
     "output_type": "stream",
     "text": [
      "                   all       2320       6546      0.908      0.756      0.833       0.56\n"
     ]
    },
    {
     "name": "stderr",
     "output_type": "stream",
     "text": [
      "\n"
     ]
    },
    {
     "name": "stdout",
     "output_type": "stream",
     "text": [
      "\n",
      "10 epochs completed in 0.290 hours.\n",
      "Optimizer stripped from Results\\yolov8Test_model\\weights\\last.pt, 6.2MB\n",
      "Optimizer stripped from Results\\yolov8Test_model\\weights\\best.pt, 6.2MB\n",
      "\n",
      "Validating Results\\yolov8Test_model\\weights\\best.pt...\n",
      "Ultralytics 8.3.78  Python-3.12.9 torch-2.5.1+cu124 CUDA:0 (NVIDIA GeForce GTX 1660 Ti, 6144MiB)\n",
      "Model summary (fused): 72 layers, 3,005,843 parameters, 0 gradients, 8.1 GFLOPs\n"
     ]
    },
    {
     "name": "stderr",
     "output_type": "stream",
     "text": [
      "                 Class     Images  Instances      Box(P          R      mAP50  mAP50-95): 100%|██████████| 145/145 [00:19<00:00,  7.57it/s]\n"
     ]
    },
    {
     "name": "stdout",
     "output_type": "stream",
     "text": [
      "                   all       2320       6546       0.91      0.756      0.833       0.56\n",
      "Speed: 0.1ms preprocess, 1.8ms inference, 0.0ms loss, 1.3ms postprocess per image\n",
      "Results saved to \u001b[1mResults\\yolov8Test_model\u001b[0m\n"
     ]
    },
    {
     "data": {
      "text/plain": [
       "ultralytics.utils.metrics.DetMetrics object with attributes:\n",
       "\n",
       "ap_class_index: array([0])\n",
       "box: ultralytics.utils.metrics.Metric object\n",
       "confusion_matrix: <ultralytics.utils.metrics.ConfusionMatrix object at 0x0000026DB5D4C080>\n",
       "curves: ['Precision-Recall(B)', 'F1-Confidence(B)', 'Precision-Confidence(B)', 'Recall-Confidence(B)']\n",
       "curves_results: [[array([          0,    0.001001,    0.002002,    0.003003,    0.004004,    0.005005,    0.006006,    0.007007,    0.008008,    0.009009,     0.01001,    0.011011,    0.012012,    0.013013,    0.014014,    0.015015,    0.016016,    0.017017,    0.018018,    0.019019,     0.02002,    0.021021,    0.022022,    0.023023,\n",
       "          0.024024,    0.025025,    0.026026,    0.027027,    0.028028,    0.029029,     0.03003,    0.031031,    0.032032,    0.033033,    0.034034,    0.035035,    0.036036,    0.037037,    0.038038,    0.039039,     0.04004,    0.041041,    0.042042,    0.043043,    0.044044,    0.045045,    0.046046,    0.047047,\n",
       "          0.048048,    0.049049,     0.05005,    0.051051,    0.052052,    0.053053,    0.054054,    0.055055,    0.056056,    0.057057,    0.058058,    0.059059,     0.06006,    0.061061,    0.062062,    0.063063,    0.064064,    0.065065,    0.066066,    0.067067,    0.068068,    0.069069,     0.07007,    0.071071,\n",
       "          0.072072,    0.073073,    0.074074,    0.075075,    0.076076,    0.077077,    0.078078,    0.079079,     0.08008,    0.081081,    0.082082,    0.083083,    0.084084,    0.085085,    0.086086,    0.087087,    0.088088,    0.089089,     0.09009,    0.091091,    0.092092,    0.093093,    0.094094,    0.095095,\n",
       "          0.096096,    0.097097,    0.098098,    0.099099,      0.1001,      0.1011,      0.1021,      0.1031,      0.1041,     0.10511,     0.10611,     0.10711,     0.10811,     0.10911,     0.11011,     0.11111,     0.11211,     0.11311,     0.11411,     0.11512,     0.11612,     0.11712,     0.11812,     0.11912,\n",
       "           0.12012,     0.12112,     0.12212,     0.12312,     0.12412,     0.12513,     0.12613,     0.12713,     0.12813,     0.12913,     0.13013,     0.13113,     0.13213,     0.13313,     0.13413,     0.13514,     0.13614,     0.13714,     0.13814,     0.13914,     0.14014,     0.14114,     0.14214,     0.14314,\n",
       "           0.14414,     0.14515,     0.14615,     0.14715,     0.14815,     0.14915,     0.15015,     0.15115,     0.15215,     0.15315,     0.15415,     0.15516,     0.15616,     0.15716,     0.15816,     0.15916,     0.16016,     0.16116,     0.16216,     0.16316,     0.16416,     0.16517,     0.16617,     0.16717,\n",
       "           0.16817,     0.16917,     0.17017,     0.17117,     0.17217,     0.17317,     0.17417,     0.17518,     0.17618,     0.17718,     0.17818,     0.17918,     0.18018,     0.18118,     0.18218,     0.18318,     0.18418,     0.18519,     0.18619,     0.18719,     0.18819,     0.18919,     0.19019,     0.19119,\n",
       "           0.19219,     0.19319,     0.19419,      0.1952,      0.1962,      0.1972,      0.1982,      0.1992,      0.2002,      0.2012,      0.2022,      0.2032,      0.2042,     0.20521,     0.20621,     0.20721,     0.20821,     0.20921,     0.21021,     0.21121,     0.21221,     0.21321,     0.21421,     0.21522,\n",
       "           0.21622,     0.21722,     0.21822,     0.21922,     0.22022,     0.22122,     0.22222,     0.22322,     0.22422,     0.22523,     0.22623,     0.22723,     0.22823,     0.22923,     0.23023,     0.23123,     0.23223,     0.23323,     0.23423,     0.23524,     0.23624,     0.23724,     0.23824,     0.23924,\n",
       "           0.24024,     0.24124,     0.24224,     0.24324,     0.24424,     0.24525,     0.24625,     0.24725,     0.24825,     0.24925,     0.25025,     0.25125,     0.25225,     0.25325,     0.25425,     0.25526,     0.25626,     0.25726,     0.25826,     0.25926,     0.26026,     0.26126,     0.26226,     0.26326,\n",
       "           0.26426,     0.26527,     0.26627,     0.26727,     0.26827,     0.26927,     0.27027,     0.27127,     0.27227,     0.27327,     0.27427,     0.27528,     0.27628,     0.27728,     0.27828,     0.27928,     0.28028,     0.28128,     0.28228,     0.28328,     0.28428,     0.28529,     0.28629,     0.28729,\n",
       "           0.28829,     0.28929,     0.29029,     0.29129,     0.29229,     0.29329,     0.29429,      0.2953,      0.2963,      0.2973,      0.2983,      0.2993,      0.3003,      0.3013,      0.3023,      0.3033,      0.3043,     0.30531,     0.30631,     0.30731,     0.30831,     0.30931,     0.31031,     0.31131,\n",
       "           0.31231,     0.31331,     0.31431,     0.31532,     0.31632,     0.31732,     0.31832,     0.31932,     0.32032,     0.32132,     0.32232,     0.32332,     0.32432,     0.32533,     0.32633,     0.32733,     0.32833,     0.32933,     0.33033,     0.33133,     0.33233,     0.33333,     0.33433,     0.33534,\n",
       "           0.33634,     0.33734,     0.33834,     0.33934,     0.34034,     0.34134,     0.34234,     0.34334,     0.34434,     0.34535,     0.34635,     0.34735,     0.34835,     0.34935,     0.35035,     0.35135,     0.35235,     0.35335,     0.35435,     0.35536,     0.35636,     0.35736,     0.35836,     0.35936,\n",
       "           0.36036,     0.36136,     0.36236,     0.36336,     0.36436,     0.36537,     0.36637,     0.36737,     0.36837,     0.36937,     0.37037,     0.37137,     0.37237,     0.37337,     0.37437,     0.37538,     0.37638,     0.37738,     0.37838,     0.37938,     0.38038,     0.38138,     0.38238,     0.38338,\n",
       "           0.38438,     0.38539,     0.38639,     0.38739,     0.38839,     0.38939,     0.39039,     0.39139,     0.39239,     0.39339,     0.39439,      0.3954,      0.3964,      0.3974,      0.3984,      0.3994,      0.4004,      0.4014,      0.4024,      0.4034,      0.4044,     0.40541,     0.40641,     0.40741,\n",
       "           0.40841,     0.40941,     0.41041,     0.41141,     0.41241,     0.41341,     0.41441,     0.41542,     0.41642,     0.41742,     0.41842,     0.41942,     0.42042,     0.42142,     0.42242,     0.42342,     0.42442,     0.42543,     0.42643,     0.42743,     0.42843,     0.42943,     0.43043,     0.43143,\n",
       "           0.43243,     0.43343,     0.43443,     0.43544,     0.43644,     0.43744,     0.43844,     0.43944,     0.44044,     0.44144,     0.44244,     0.44344,     0.44444,     0.44545,     0.44645,     0.44745,     0.44845,     0.44945,     0.45045,     0.45145,     0.45245,     0.45345,     0.45445,     0.45546,\n",
       "           0.45646,     0.45746,     0.45846,     0.45946,     0.46046,     0.46146,     0.46246,     0.46346,     0.46446,     0.46547,     0.46647,     0.46747,     0.46847,     0.46947,     0.47047,     0.47147,     0.47247,     0.47347,     0.47447,     0.47548,     0.47648,     0.47748,     0.47848,     0.47948,\n",
       "           0.48048,     0.48148,     0.48248,     0.48348,     0.48448,     0.48549,     0.48649,     0.48749,     0.48849,     0.48949,     0.49049,     0.49149,     0.49249,     0.49349,     0.49449,      0.4955,      0.4965,      0.4975,      0.4985,      0.4995,      0.5005,      0.5015,      0.5025,      0.5035,\n",
       "            0.5045,     0.50551,     0.50651,     0.50751,     0.50851,     0.50951,     0.51051,     0.51151,     0.51251,     0.51351,     0.51451,     0.51552,     0.51652,     0.51752,     0.51852,     0.51952,     0.52052,     0.52152,     0.52252,     0.52352,     0.52452,     0.52553,     0.52653,     0.52753,\n",
       "           0.52853,     0.52953,     0.53053,     0.53153,     0.53253,     0.53353,     0.53453,     0.53554,     0.53654,     0.53754,     0.53854,     0.53954,     0.54054,     0.54154,     0.54254,     0.54354,     0.54454,     0.54555,     0.54655,     0.54755,     0.54855,     0.54955,     0.55055,     0.55155,\n",
       "           0.55255,     0.55355,     0.55455,     0.55556,     0.55656,     0.55756,     0.55856,     0.55956,     0.56056,     0.56156,     0.56256,     0.56356,     0.56456,     0.56557,     0.56657,     0.56757,     0.56857,     0.56957,     0.57057,     0.57157,     0.57257,     0.57357,     0.57457,     0.57558,\n",
       "           0.57658,     0.57758,     0.57858,     0.57958,     0.58058,     0.58158,     0.58258,     0.58358,     0.58458,     0.58559,     0.58659,     0.58759,     0.58859,     0.58959,     0.59059,     0.59159,     0.59259,     0.59359,     0.59459,      0.5956,      0.5966,      0.5976,      0.5986,      0.5996,\n",
       "            0.6006,      0.6016,      0.6026,      0.6036,      0.6046,     0.60561,     0.60661,     0.60761,     0.60861,     0.60961,     0.61061,     0.61161,     0.61261,     0.61361,     0.61461,     0.61562,     0.61662,     0.61762,     0.61862,     0.61962,     0.62062,     0.62162,     0.62262,     0.62362,\n",
       "           0.62462,     0.62563,     0.62663,     0.62763,     0.62863,     0.62963,     0.63063,     0.63163,     0.63263,     0.63363,     0.63463,     0.63564,     0.63664,     0.63764,     0.63864,     0.63964,     0.64064,     0.64164,     0.64264,     0.64364,     0.64464,     0.64565,     0.64665,     0.64765,\n",
       "           0.64865,     0.64965,     0.65065,     0.65165,     0.65265,     0.65365,     0.65465,     0.65566,     0.65666,     0.65766,     0.65866,     0.65966,     0.66066,     0.66166,     0.66266,     0.66366,     0.66466,     0.66567,     0.66667,     0.66767,     0.66867,     0.66967,     0.67067,     0.67167,\n",
       "           0.67267,     0.67367,     0.67467,     0.67568,     0.67668,     0.67768,     0.67868,     0.67968,     0.68068,     0.68168,     0.68268,     0.68368,     0.68468,     0.68569,     0.68669,     0.68769,     0.68869,     0.68969,     0.69069,     0.69169,     0.69269,     0.69369,     0.69469,      0.6957,\n",
       "            0.6967,      0.6977,      0.6987,      0.6997,      0.7007,      0.7017,      0.7027,      0.7037,      0.7047,     0.70571,     0.70671,     0.70771,     0.70871,     0.70971,     0.71071,     0.71171,     0.71271,     0.71371,     0.71471,     0.71572,     0.71672,     0.71772,     0.71872,     0.71972,\n",
       "           0.72072,     0.72172,     0.72272,     0.72372,     0.72472,     0.72573,     0.72673,     0.72773,     0.72873,     0.72973,     0.73073,     0.73173,     0.73273,     0.73373,     0.73473,     0.73574,     0.73674,     0.73774,     0.73874,     0.73974,     0.74074,     0.74174,     0.74274,     0.74374,\n",
       "           0.74474,     0.74575,     0.74675,     0.74775,     0.74875,     0.74975,     0.75075,     0.75175,     0.75275,     0.75375,     0.75475,     0.75576,     0.75676,     0.75776,     0.75876,     0.75976,     0.76076,     0.76176,     0.76276,     0.76376,     0.76476,     0.76577,     0.76677,     0.76777,\n",
       "           0.76877,     0.76977,     0.77077,     0.77177,     0.77277,     0.77377,     0.77477,     0.77578,     0.77678,     0.77778,     0.77878,     0.77978,     0.78078,     0.78178,     0.78278,     0.78378,     0.78478,     0.78579,     0.78679,     0.78779,     0.78879,     0.78979,     0.79079,     0.79179,\n",
       "           0.79279,     0.79379,     0.79479,      0.7958,      0.7968,      0.7978,      0.7988,      0.7998,      0.8008,      0.8018,      0.8028,      0.8038,      0.8048,     0.80581,     0.80681,     0.80781,     0.80881,     0.80981,     0.81081,     0.81181,     0.81281,     0.81381,     0.81481,     0.81582,\n",
       "           0.81682,     0.81782,     0.81882,     0.81982,     0.82082,     0.82182,     0.82282,     0.82382,     0.82482,     0.82583,     0.82683,     0.82783,     0.82883,     0.82983,     0.83083,     0.83183,     0.83283,     0.83383,     0.83483,     0.83584,     0.83684,     0.83784,     0.83884,     0.83984,\n",
       "           0.84084,     0.84184,     0.84284,     0.84384,     0.84484,     0.84585,     0.84685,     0.84785,     0.84885,     0.84985,     0.85085,     0.85185,     0.85285,     0.85385,     0.85485,     0.85586,     0.85686,     0.85786,     0.85886,     0.85986,     0.86086,     0.86186,     0.86286,     0.86386,\n",
       "           0.86486,     0.86587,     0.86687,     0.86787,     0.86887,     0.86987,     0.87087,     0.87187,     0.87287,     0.87387,     0.87487,     0.87588,     0.87688,     0.87788,     0.87888,     0.87988,     0.88088,     0.88188,     0.88288,     0.88388,     0.88488,     0.88589,     0.88689,     0.88789,\n",
       "           0.88889,     0.88989,     0.89089,     0.89189,     0.89289,     0.89389,     0.89489,      0.8959,      0.8969,      0.8979,      0.8989,      0.8999,      0.9009,      0.9019,      0.9029,      0.9039,      0.9049,     0.90591,     0.90691,     0.90791,     0.90891,     0.90991,     0.91091,     0.91191,\n",
       "           0.91291,     0.91391,     0.91491,     0.91592,     0.91692,     0.91792,     0.91892,     0.91992,     0.92092,     0.92192,     0.92292,     0.92392,     0.92492,     0.92593,     0.92693,     0.92793,     0.92893,     0.92993,     0.93093,     0.93193,     0.93293,     0.93393,     0.93493,     0.93594,\n",
       "           0.93694,     0.93794,     0.93894,     0.93994,     0.94094,     0.94194,     0.94294,     0.94394,     0.94494,     0.94595,     0.94695,     0.94795,     0.94895,     0.94995,     0.95095,     0.95195,     0.95295,     0.95395,     0.95495,     0.95596,     0.95696,     0.95796,     0.95896,     0.95996,\n",
       "           0.96096,     0.96196,     0.96296,     0.96396,     0.96496,     0.96597,     0.96697,     0.96797,     0.96897,     0.96997,     0.97097,     0.97197,     0.97297,     0.97397,     0.97497,     0.97598,     0.97698,     0.97798,     0.97898,     0.97998,     0.98098,     0.98198,     0.98298,     0.98398,\n",
       "           0.98498,     0.98599,     0.98699,     0.98799,     0.98899,     0.98999,     0.99099,     0.99199,     0.99299,     0.99399,     0.99499,       0.996,       0.997,       0.998,       0.999,           1]), array([[          1,           1,           1,           1,           1,           1,           1,           1,           1,           1,           1,           1,           1,           1,           1,           1,           1,           1,           1,           1,           1,           1,           1,\n",
       "                  1,           1,           1,           1,           1,           1,           1,           1,           1,           1,           1,           1,           1,           1,           1,           1,           1,           1,           1,           1,           1,           1,           1,\n",
       "                  1,           1,           1,           1,           1,           1,           1,           1,           1,           1,           1,           1,           1,           1,           1,           1,           1,           1,           1,           1,           1,           1,           1,\n",
       "                  1,           1,           1,           1,           1,           1,           1,           1,           1,           1,           1,           1,           1,           1,           1,           1,           1,           1,           1,           1,           1,           1,           1,\n",
       "                  1,           1,           1,           1,           1,           1,           1,           1,           1,           1,           1,           1,           1,           1,           1,           1,           1,           1,           1,           1,           1,           1,           1,\n",
       "                  1,           1,           1,           1,           1,           1,           1,           1,           1,           1,           1,           1,           1,           1,           1,           1,           1,           1,           1,           1,           1,           1,     0.99902,\n",
       "            0.99902,     0.99902,     0.99902,     0.99902,     0.99902,     0.99902,     0.99902,     0.99902,     0.99902,     0.99902,     0.99902,     0.99902,     0.99902,     0.99902,     0.99902,     0.99902,     0.99902,     0.99902,       0.999,       0.999,       0.999,       0.999,       0.999,\n",
       "              0.999,       0.999,       0.999,       0.999,       0.999,       0.999,       0.999,       0.999,       0.999,       0.999,       0.999,       0.999,       0.999,       0.999,       0.999,       0.999,       0.999,       0.999,       0.999,       0.999,       0.999,       0.999,       0.999,\n",
       "              0.999,       0.999,       0.999,       0.999,       0.999,       0.999,       0.999,       0.999,       0.999,       0.999,       0.999,       0.999,       0.999,       0.999,       0.999,       0.999,       0.999,       0.999,       0.999,       0.999,       0.999,       0.999,       0.999,\n",
       "              0.999,       0.999,       0.999,       0.999,       0.999,       0.999,       0.999,       0.999,       0.999,       0.999,       0.999,       0.999,       0.999,       0.999,       0.999,       0.999,       0.999,       0.999,       0.999,       0.999,       0.999,       0.999,       0.999,\n",
       "              0.999,       0.999,       0.999,       0.999,       0.999,       0.999,       0.999,       0.999,       0.999,       0.999,       0.999,       0.999,       0.999,       0.999,       0.999,       0.999,       0.999,       0.999,       0.999,       0.999,       0.999,       0.999,       0.999,\n",
       "              0.999,       0.999,       0.999,       0.999,       0.999,       0.999,       0.999,       0.999,       0.999,       0.999,       0.999,       0.999,       0.999,       0.999,       0.999,       0.999,       0.999,       0.999,       0.999,       0.999,       0.999,       0.999,       0.999,\n",
       "              0.999,       0.999,       0.999,       0.999,       0.999,       0.999,       0.999,       0.999,       0.999,       0.999,       0.999,       0.999,       0.999,       0.999,       0.999,       0.999,       0.999,       0.999,       0.999,       0.999,       0.999,       0.999,       0.999,\n",
       "              0.999,       0.999,       0.999,       0.999,       0.999,       0.999,     0.99803,     0.99803,     0.99803,     0.99803,     0.99803,     0.99778,     0.99778,     0.99778,     0.99778,     0.99778,     0.99778,     0.99778,     0.99778,     0.99778,     0.99778,     0.99778,     0.99778,\n",
       "            0.99778,     0.99778,     0.99778,     0.99778,     0.99778,     0.99778,     0.99778,     0.99778,     0.99778,     0.99778,     0.99778,     0.99778,     0.99778,     0.99778,     0.99778,     0.99778,     0.99778,     0.99778,     0.99778,     0.99778,     0.99778,     0.99778,     0.99735,\n",
       "            0.99735,      0.9971,      0.9971,      0.9971,      0.9971,      0.9971,      0.9971,      0.9971,      0.9971,      0.9971,      0.9971,      0.9971,      0.9971,      0.9971,      0.9971,      0.9971,      0.9971,      0.9971,      0.9971,      0.9971,      0.9971,      0.9971,      0.9971,\n",
       "             0.9971,      0.9971,      0.9971,      0.9971,      0.9971,      0.9971,      0.9971,      0.9971,      0.9971,      0.9971,      0.9971,      0.9971,      0.9971,      0.9971,      0.9971,      0.9971,      0.9971,      0.9971,      0.9971,      0.9971,      0.9971,      0.9971,      0.9971,\n",
       "             0.9971,      0.9971,      0.9971,      0.9971,      0.9971,      0.9971,      0.9971,      0.9971,      0.9971,      0.9971,      0.9971,      0.9971,      0.9971,      0.9971,      0.9971,      0.9971,      0.9971,      0.9971,      0.9971,      0.9971,      0.9971,      0.9971,      0.9971,\n",
       "             0.9971,      0.9971,      0.9971,      0.9971,      0.9971,      0.9971,     0.99678,     0.99678,     0.99678,     0.99678,     0.99678,     0.99678,     0.99664,     0.99664,     0.99664,     0.99664,     0.99664,     0.99664,     0.99664,     0.99664,     0.99664,     0.99664,     0.99664,\n",
       "            0.99664,     0.99664,     0.99664,     0.99664,     0.99664,     0.99664,     0.99664,     0.99664,     0.99664,     0.99664,     0.99664,     0.99664,     0.99664,     0.99664,     0.99664,     0.99664,     0.99633,     0.99633,     0.99633,     0.99611,     0.99611,     0.99611,     0.99611,\n",
       "            0.99611,     0.99611,     0.99611,     0.99611,     0.99611,     0.99611,     0.99611,     0.99611,     0.99611,     0.99611,     0.99584,     0.99584,     0.99584,     0.99584,     0.99584,     0.99561,     0.99561,     0.99561,     0.99561,     0.99561,     0.99561,     0.99561,     0.99561,\n",
       "            0.99561,     0.99561,     0.99502,     0.99502,     0.99502,     0.99502,      0.9948,      0.9948,      0.9948,      0.9948,      0.9948,      0.9948,      0.9948,      0.9948,     0.99451,     0.99427,     0.99427,     0.99427,     0.99427,     0.99427,     0.99427,      0.9941,      0.9941,\n",
       "             0.9941,      0.9941,      0.9941,      0.9941,      0.9941,      0.9941,      0.9941,      0.9941,     0.99382,     0.99382,     0.99355,     0.99326,      0.9931,      0.9931,      0.9931,      0.9931,      0.9931,      0.9931,      0.9931,      0.9931,      0.9931,     0.99282,     0.99256,\n",
       "            0.99256,     0.99232,     0.99232,     0.99232,     0.99205,     0.99179,     0.99153,     0.99128,     0.99128,     0.99102,     0.99102,     0.99077,     0.99052,     0.99027,     0.99027,     0.99001,      0.9895,      0.9895,     0.98927,     0.98927,     0.98875,     0.98848,     0.98823,\n",
       "            0.98772,      0.9872,     0.98674,     0.98674,     0.98674,     0.98603,     0.98603,     0.98603,     0.98576,     0.98568,     0.98568,     0.98568,     0.98568,     0.98568,     0.98568,     0.98568,     0.98547,     0.98547,       0.985,       0.985,     0.98455,     0.98455,     0.98433,\n",
       "            0.98433,     0.98411,     0.98391,     0.98391,     0.98377,     0.98377,     0.98377,     0.98377,     0.98327,     0.98307,     0.98262,     0.98262,     0.98244,     0.98244,     0.98244,     0.98234,     0.98234,     0.98234,     0.98234,     0.98234,     0.98214,     0.98206,     0.98206,\n",
       "            0.98206,     0.98206,     0.98206,     0.98206,     0.98185,     0.98171,     0.98171,     0.98171,     0.98171,     0.98154,     0.98154,     0.98131,     0.98063,     0.98017,     0.97978,     0.97978,     0.97934,     0.97934,     0.97915,     0.97897,     0.97874,     0.97834,     0.97834,\n",
       "             0.9779,      0.9777,     0.97703,     0.97687,     0.97687,     0.97675,     0.97675,     0.97675,     0.97634,     0.97591,     0.97579,     0.97579,     0.97579,     0.97489,     0.97448,     0.97362,      0.9732,     0.97282,     0.97238,     0.97199,     0.97157,     0.97138,      0.9712,\n",
       "            0.97078,      0.9704,     0.96976,     0.96937,     0.96922,     0.96903,     0.96862,     0.96851,     0.96851,     0.96833,       0.968,       0.968,     0.96781,     0.96764,     0.96664,     0.96624,     0.96609,     0.96549,     0.96531,     0.96494,     0.96432,     0.96378,     0.96336,\n",
       "            0.96301,     0.96284,     0.96249,      0.9621,     0.96194,     0.96163,     0.96163,     0.96128,     0.96098,     0.96098,      0.9606,     0.95968,     0.95968,     0.95956,     0.95942,     0.95923,      0.9587,     0.95852,     0.95817,     0.95785,     0.95767,     0.95694,     0.95657,\n",
       "            0.95612,     0.95612,     0.95581,     0.95581,     0.95529,     0.95519,     0.95519,     0.95511,     0.95511,     0.95418,     0.95389,     0.95352,     0.95338,     0.95292,     0.95292,     0.95261,      0.9523,     0.95217,     0.95201,     0.95172,     0.95153,      0.9514,     0.95108,\n",
       "             0.9506,     0.95024,     0.94955,     0.94811,     0.94705,      0.9467,     0.94601,     0.94569,     0.94463,     0.94376,     0.94254,     0.94166,     0.94118,     0.94073,     0.94057,     0.93991,     0.93961,     0.93879,     0.93794,     0.93655,     0.93579,     0.93526,     0.93425,\n",
       "            0.93344,     0.93261,     0.93125,     0.93027,     0.92946,     0.92833,     0.92788,     0.92727,     0.92647,      0.9248,     0.92334,     0.92081,     0.91953,      0.9179,     0.91699,     0.91623,     0.91581,     0.91287,      0.9108,     0.90974,     0.90851,     0.90744,     0.90639,\n",
       "            0.90553,     0.90335,     0.90132,     0.90032,     0.89912,     0.89733,     0.89648,     0.89563,     0.89272,      0.8916,     0.88938,     0.88744,     0.88573,     0.88444,     0.88304,     0.88178,     0.88009,      0.8778,     0.87657,     0.87489,     0.87086,     0.86848,     0.86518,\n",
       "            0.86498,     0.86293,     0.86136,     0.85605,     0.85338,     0.85029,     0.84644,     0.84505,     0.83838,     0.83317,        0.83,     0.82518,     0.82222,     0.81524,     0.81233,     0.80714,     0.80372,     0.80135,      0.8007,     0.79736,     0.79228,      0.7869,     0.78178,\n",
       "             0.7809,     0.77471,     0.77144,     0.76695,      0.7596,     0.75623,     0.75071,     0.74702,     0.74158,      0.7338,     0.72845,     0.72286,     0.71339,     0.70984,     0.69278,     0.68607,     0.67664,     0.66564,     0.65676,     0.64355,     0.63139,     0.61157,     0.60433,\n",
       "            0.59242,      0.5751,     0.55625,     0.53697,     0.53138,     0.51451,     0.50073,     0.47595,      0.4598,     0.44974,     0.42324,     0.40385,     0.37827,     0.36453,     0.35637,     0.34909,     0.33215,     0.32188,     0.30721,     0.29159,     0.28336,     0.24367,      0.2352,\n",
       "            0.23363,     0.23205,     0.23047,     0.22889,     0.22731,     0.22573,     0.22415,     0.22258,       0.221,     0.21942,     0.21784,     0.21626,     0.21468,     0.21311,     0.21153,     0.20995,     0.20837,     0.20679,     0.20521,     0.20363,     0.20206,     0.20048,      0.1989,\n",
       "            0.19732,     0.19574,     0.19416,     0.19258,     0.19101,     0.18943,     0.18785,     0.18627,     0.18469,     0.18311,     0.18153,     0.17996,     0.17838,      0.1768,     0.17522,     0.17364,     0.17206,     0.17048,     0.16891,     0.16733,     0.16575,     0.16417,     0.16259,\n",
       "            0.16101,     0.15943,     0.15786,     0.15628,      0.1547,     0.15312,     0.15154,     0.14996,     0.14838,     0.14681,     0.14523,     0.14365,     0.14207,     0.14049,     0.13891,     0.13733,     0.13576,     0.13418,      0.1326,     0.13102,     0.12944,     0.12786,     0.12628,\n",
       "            0.12471,     0.12313,     0.12155,     0.11997,     0.11839,     0.11681,     0.11523,     0.11366,     0.11208,      0.1105,     0.10892,     0.10734,     0.10576,     0.10418,     0.10261,     0.10103,    0.099449,     0.09787,    0.096292,    0.094713,    0.093135,    0.091556,    0.089978,\n",
       "           0.088399,    0.086821,    0.085242,    0.083663,    0.082085,    0.080506,    0.078928,    0.077349,    0.075771,    0.074192,    0.072614,    0.071035,    0.069456,    0.067878,    0.066299,    0.064721,    0.063142,    0.061564,    0.059985,    0.058407,    0.056828,    0.055249,    0.053671,\n",
       "           0.052092,    0.050514,    0.048935,    0.047357,    0.045778,      0.0442,    0.042621,    0.041042,    0.039464,    0.037885,    0.036307,    0.034728,     0.03315,    0.031571,    0.029993,    0.028414,    0.026835,    0.025257,    0.023678,      0.0221,    0.020521,    0.018943,    0.017364,\n",
       "           0.015786,    0.014207,    0.012628,     0.01105,   0.0094713,   0.0078928,   0.0063142,   0.0047357,   0.0031571,   0.0015786,           0]]), 'Recall', 'Precision'], [array([          0,    0.001001,    0.002002,    0.003003,    0.004004,    0.005005,    0.006006,    0.007007,    0.008008,    0.009009,     0.01001,    0.011011,    0.012012,    0.013013,    0.014014,    0.015015,    0.016016,    0.017017,    0.018018,    0.019019,     0.02002,    0.021021,    0.022022,    0.023023,\n",
       "          0.024024,    0.025025,    0.026026,    0.027027,    0.028028,    0.029029,     0.03003,    0.031031,    0.032032,    0.033033,    0.034034,    0.035035,    0.036036,    0.037037,    0.038038,    0.039039,     0.04004,    0.041041,    0.042042,    0.043043,    0.044044,    0.045045,    0.046046,    0.047047,\n",
       "          0.048048,    0.049049,     0.05005,    0.051051,    0.052052,    0.053053,    0.054054,    0.055055,    0.056056,    0.057057,    0.058058,    0.059059,     0.06006,    0.061061,    0.062062,    0.063063,    0.064064,    0.065065,    0.066066,    0.067067,    0.068068,    0.069069,     0.07007,    0.071071,\n",
       "          0.072072,    0.073073,    0.074074,    0.075075,    0.076076,    0.077077,    0.078078,    0.079079,     0.08008,    0.081081,    0.082082,    0.083083,    0.084084,    0.085085,    0.086086,    0.087087,    0.088088,    0.089089,     0.09009,    0.091091,    0.092092,    0.093093,    0.094094,    0.095095,\n",
       "          0.096096,    0.097097,    0.098098,    0.099099,      0.1001,      0.1011,      0.1021,      0.1031,      0.1041,     0.10511,     0.10611,     0.10711,     0.10811,     0.10911,     0.11011,     0.11111,     0.11211,     0.11311,     0.11411,     0.11512,     0.11612,     0.11712,     0.11812,     0.11912,\n",
       "           0.12012,     0.12112,     0.12212,     0.12312,     0.12412,     0.12513,     0.12613,     0.12713,     0.12813,     0.12913,     0.13013,     0.13113,     0.13213,     0.13313,     0.13413,     0.13514,     0.13614,     0.13714,     0.13814,     0.13914,     0.14014,     0.14114,     0.14214,     0.14314,\n",
       "           0.14414,     0.14515,     0.14615,     0.14715,     0.14815,     0.14915,     0.15015,     0.15115,     0.15215,     0.15315,     0.15415,     0.15516,     0.15616,     0.15716,     0.15816,     0.15916,     0.16016,     0.16116,     0.16216,     0.16316,     0.16416,     0.16517,     0.16617,     0.16717,\n",
       "           0.16817,     0.16917,     0.17017,     0.17117,     0.17217,     0.17317,     0.17417,     0.17518,     0.17618,     0.17718,     0.17818,     0.17918,     0.18018,     0.18118,     0.18218,     0.18318,     0.18418,     0.18519,     0.18619,     0.18719,     0.18819,     0.18919,     0.19019,     0.19119,\n",
       "           0.19219,     0.19319,     0.19419,      0.1952,      0.1962,      0.1972,      0.1982,      0.1992,      0.2002,      0.2012,      0.2022,      0.2032,      0.2042,     0.20521,     0.20621,     0.20721,     0.20821,     0.20921,     0.21021,     0.21121,     0.21221,     0.21321,     0.21421,     0.21522,\n",
       "           0.21622,     0.21722,     0.21822,     0.21922,     0.22022,     0.22122,     0.22222,     0.22322,     0.22422,     0.22523,     0.22623,     0.22723,     0.22823,     0.22923,     0.23023,     0.23123,     0.23223,     0.23323,     0.23423,     0.23524,     0.23624,     0.23724,     0.23824,     0.23924,\n",
       "           0.24024,     0.24124,     0.24224,     0.24324,     0.24424,     0.24525,     0.24625,     0.24725,     0.24825,     0.24925,     0.25025,     0.25125,     0.25225,     0.25325,     0.25425,     0.25526,     0.25626,     0.25726,     0.25826,     0.25926,     0.26026,     0.26126,     0.26226,     0.26326,\n",
       "           0.26426,     0.26527,     0.26627,     0.26727,     0.26827,     0.26927,     0.27027,     0.27127,     0.27227,     0.27327,     0.27427,     0.27528,     0.27628,     0.27728,     0.27828,     0.27928,     0.28028,     0.28128,     0.28228,     0.28328,     0.28428,     0.28529,     0.28629,     0.28729,\n",
       "           0.28829,     0.28929,     0.29029,     0.29129,     0.29229,     0.29329,     0.29429,      0.2953,      0.2963,      0.2973,      0.2983,      0.2993,      0.3003,      0.3013,      0.3023,      0.3033,      0.3043,     0.30531,     0.30631,     0.30731,     0.30831,     0.30931,     0.31031,     0.31131,\n",
       "           0.31231,     0.31331,     0.31431,     0.31532,     0.31632,     0.31732,     0.31832,     0.31932,     0.32032,     0.32132,     0.32232,     0.32332,     0.32432,     0.32533,     0.32633,     0.32733,     0.32833,     0.32933,     0.33033,     0.33133,     0.33233,     0.33333,     0.33433,     0.33534,\n",
       "           0.33634,     0.33734,     0.33834,     0.33934,     0.34034,     0.34134,     0.34234,     0.34334,     0.34434,     0.34535,     0.34635,     0.34735,     0.34835,     0.34935,     0.35035,     0.35135,     0.35235,     0.35335,     0.35435,     0.35536,     0.35636,     0.35736,     0.35836,     0.35936,\n",
       "           0.36036,     0.36136,     0.36236,     0.36336,     0.36436,     0.36537,     0.36637,     0.36737,     0.36837,     0.36937,     0.37037,     0.37137,     0.37237,     0.37337,     0.37437,     0.37538,     0.37638,     0.37738,     0.37838,     0.37938,     0.38038,     0.38138,     0.38238,     0.38338,\n",
       "           0.38438,     0.38539,     0.38639,     0.38739,     0.38839,     0.38939,     0.39039,     0.39139,     0.39239,     0.39339,     0.39439,      0.3954,      0.3964,      0.3974,      0.3984,      0.3994,      0.4004,      0.4014,      0.4024,      0.4034,      0.4044,     0.40541,     0.40641,     0.40741,\n",
       "           0.40841,     0.40941,     0.41041,     0.41141,     0.41241,     0.41341,     0.41441,     0.41542,     0.41642,     0.41742,     0.41842,     0.41942,     0.42042,     0.42142,     0.42242,     0.42342,     0.42442,     0.42543,     0.42643,     0.42743,     0.42843,     0.42943,     0.43043,     0.43143,\n",
       "           0.43243,     0.43343,     0.43443,     0.43544,     0.43644,     0.43744,     0.43844,     0.43944,     0.44044,     0.44144,     0.44244,     0.44344,     0.44444,     0.44545,     0.44645,     0.44745,     0.44845,     0.44945,     0.45045,     0.45145,     0.45245,     0.45345,     0.45445,     0.45546,\n",
       "           0.45646,     0.45746,     0.45846,     0.45946,     0.46046,     0.46146,     0.46246,     0.46346,     0.46446,     0.46547,     0.46647,     0.46747,     0.46847,     0.46947,     0.47047,     0.47147,     0.47247,     0.47347,     0.47447,     0.47548,     0.47648,     0.47748,     0.47848,     0.47948,\n",
       "           0.48048,     0.48148,     0.48248,     0.48348,     0.48448,     0.48549,     0.48649,     0.48749,     0.48849,     0.48949,     0.49049,     0.49149,     0.49249,     0.49349,     0.49449,      0.4955,      0.4965,      0.4975,      0.4985,      0.4995,      0.5005,      0.5015,      0.5025,      0.5035,\n",
       "            0.5045,     0.50551,     0.50651,     0.50751,     0.50851,     0.50951,     0.51051,     0.51151,     0.51251,     0.51351,     0.51451,     0.51552,     0.51652,     0.51752,     0.51852,     0.51952,     0.52052,     0.52152,     0.52252,     0.52352,     0.52452,     0.52553,     0.52653,     0.52753,\n",
       "           0.52853,     0.52953,     0.53053,     0.53153,     0.53253,     0.53353,     0.53453,     0.53554,     0.53654,     0.53754,     0.53854,     0.53954,     0.54054,     0.54154,     0.54254,     0.54354,     0.54454,     0.54555,     0.54655,     0.54755,     0.54855,     0.54955,     0.55055,     0.55155,\n",
       "           0.55255,     0.55355,     0.55455,     0.55556,     0.55656,     0.55756,     0.55856,     0.55956,     0.56056,     0.56156,     0.56256,     0.56356,     0.56456,     0.56557,     0.56657,     0.56757,     0.56857,     0.56957,     0.57057,     0.57157,     0.57257,     0.57357,     0.57457,     0.57558,\n",
       "           0.57658,     0.57758,     0.57858,     0.57958,     0.58058,     0.58158,     0.58258,     0.58358,     0.58458,     0.58559,     0.58659,     0.58759,     0.58859,     0.58959,     0.59059,     0.59159,     0.59259,     0.59359,     0.59459,      0.5956,      0.5966,      0.5976,      0.5986,      0.5996,\n",
       "            0.6006,      0.6016,      0.6026,      0.6036,      0.6046,     0.60561,     0.60661,     0.60761,     0.60861,     0.60961,     0.61061,     0.61161,     0.61261,     0.61361,     0.61461,     0.61562,     0.61662,     0.61762,     0.61862,     0.61962,     0.62062,     0.62162,     0.62262,     0.62362,\n",
       "           0.62462,     0.62563,     0.62663,     0.62763,     0.62863,     0.62963,     0.63063,     0.63163,     0.63263,     0.63363,     0.63463,     0.63564,     0.63664,     0.63764,     0.63864,     0.63964,     0.64064,     0.64164,     0.64264,     0.64364,     0.64464,     0.64565,     0.64665,     0.64765,\n",
       "           0.64865,     0.64965,     0.65065,     0.65165,     0.65265,     0.65365,     0.65465,     0.65566,     0.65666,     0.65766,     0.65866,     0.65966,     0.66066,     0.66166,     0.66266,     0.66366,     0.66466,     0.66567,     0.66667,     0.66767,     0.66867,     0.66967,     0.67067,     0.67167,\n",
       "           0.67267,     0.67367,     0.67467,     0.67568,     0.67668,     0.67768,     0.67868,     0.67968,     0.68068,     0.68168,     0.68268,     0.68368,     0.68468,     0.68569,     0.68669,     0.68769,     0.68869,     0.68969,     0.69069,     0.69169,     0.69269,     0.69369,     0.69469,      0.6957,\n",
       "            0.6967,      0.6977,      0.6987,      0.6997,      0.7007,      0.7017,      0.7027,      0.7037,      0.7047,     0.70571,     0.70671,     0.70771,     0.70871,     0.70971,     0.71071,     0.71171,     0.71271,     0.71371,     0.71471,     0.71572,     0.71672,     0.71772,     0.71872,     0.71972,\n",
       "           0.72072,     0.72172,     0.72272,     0.72372,     0.72472,     0.72573,     0.72673,     0.72773,     0.72873,     0.72973,     0.73073,     0.73173,     0.73273,     0.73373,     0.73473,     0.73574,     0.73674,     0.73774,     0.73874,     0.73974,     0.74074,     0.74174,     0.74274,     0.74374,\n",
       "           0.74474,     0.74575,     0.74675,     0.74775,     0.74875,     0.74975,     0.75075,     0.75175,     0.75275,     0.75375,     0.75475,     0.75576,     0.75676,     0.75776,     0.75876,     0.75976,     0.76076,     0.76176,     0.76276,     0.76376,     0.76476,     0.76577,     0.76677,     0.76777,\n",
       "           0.76877,     0.76977,     0.77077,     0.77177,     0.77277,     0.77377,     0.77477,     0.77578,     0.77678,     0.77778,     0.77878,     0.77978,     0.78078,     0.78178,     0.78278,     0.78378,     0.78478,     0.78579,     0.78679,     0.78779,     0.78879,     0.78979,     0.79079,     0.79179,\n",
       "           0.79279,     0.79379,     0.79479,      0.7958,      0.7968,      0.7978,      0.7988,      0.7998,      0.8008,      0.8018,      0.8028,      0.8038,      0.8048,     0.80581,     0.80681,     0.80781,     0.80881,     0.80981,     0.81081,     0.81181,     0.81281,     0.81381,     0.81481,     0.81582,\n",
       "           0.81682,     0.81782,     0.81882,     0.81982,     0.82082,     0.82182,     0.82282,     0.82382,     0.82482,     0.82583,     0.82683,     0.82783,     0.82883,     0.82983,     0.83083,     0.83183,     0.83283,     0.83383,     0.83483,     0.83584,     0.83684,     0.83784,     0.83884,     0.83984,\n",
       "           0.84084,     0.84184,     0.84284,     0.84384,     0.84484,     0.84585,     0.84685,     0.84785,     0.84885,     0.84985,     0.85085,     0.85185,     0.85285,     0.85385,     0.85485,     0.85586,     0.85686,     0.85786,     0.85886,     0.85986,     0.86086,     0.86186,     0.86286,     0.86386,\n",
       "           0.86486,     0.86587,     0.86687,     0.86787,     0.86887,     0.86987,     0.87087,     0.87187,     0.87287,     0.87387,     0.87487,     0.87588,     0.87688,     0.87788,     0.87888,     0.87988,     0.88088,     0.88188,     0.88288,     0.88388,     0.88488,     0.88589,     0.88689,     0.88789,\n",
       "           0.88889,     0.88989,     0.89089,     0.89189,     0.89289,     0.89389,     0.89489,      0.8959,      0.8969,      0.8979,      0.8989,      0.8999,      0.9009,      0.9019,      0.9029,      0.9039,      0.9049,     0.90591,     0.90691,     0.90791,     0.90891,     0.90991,     0.91091,     0.91191,\n",
       "           0.91291,     0.91391,     0.91491,     0.91592,     0.91692,     0.91792,     0.91892,     0.91992,     0.92092,     0.92192,     0.92292,     0.92392,     0.92492,     0.92593,     0.92693,     0.92793,     0.92893,     0.92993,     0.93093,     0.93193,     0.93293,     0.93393,     0.93493,     0.93594,\n",
       "           0.93694,     0.93794,     0.93894,     0.93994,     0.94094,     0.94194,     0.94294,     0.94394,     0.94494,     0.94595,     0.94695,     0.94795,     0.94895,     0.94995,     0.95095,     0.95195,     0.95295,     0.95395,     0.95495,     0.95596,     0.95696,     0.95796,     0.95896,     0.95996,\n",
       "           0.96096,     0.96196,     0.96296,     0.96396,     0.96496,     0.96597,     0.96697,     0.96797,     0.96897,     0.96997,     0.97097,     0.97197,     0.97297,     0.97397,     0.97497,     0.97598,     0.97698,     0.97798,     0.97898,     0.97998,     0.98098,     0.98198,     0.98298,     0.98398,\n",
       "           0.98498,     0.98599,     0.98699,     0.98799,     0.98899,     0.98999,     0.99099,     0.99199,     0.99299,     0.99399,     0.99499,       0.996,       0.997,       0.998,       0.999,           1]), array([[    0.36872,     0.36886,      0.4493,     0.49724,     0.53206,     0.55803,     0.57928,     0.59774,     0.61115,     0.62469,      0.6347,     0.64371,     0.65192,     0.65844,      0.6662,     0.67299,     0.67874,     0.68388,     0.68894,     0.69318,     0.69851,     0.70196,     0.70579,\n",
       "            0.71002,     0.71353,       0.717,     0.72029,     0.72378,     0.72673,     0.72957,     0.73151,     0.73431,     0.73685,     0.73937,      0.7416,     0.74333,     0.74572,     0.74703,     0.74899,     0.75091,     0.75273,      0.7547,     0.75687,     0.75831,     0.76003,     0.76106,\n",
       "            0.76244,     0.76358,     0.76509,     0.76632,     0.76757,     0.76927,     0.77043,     0.77145,     0.77226,     0.77355,     0.77474,     0.77533,     0.77619,     0.77697,     0.77803,     0.77855,     0.77914,     0.78011,     0.78091,     0.78195,     0.78253,     0.78348,     0.78377,\n",
       "            0.78453,     0.78524,     0.78636,       0.787,     0.78738,     0.78753,      0.7883,     0.78919,     0.78996,     0.79044,     0.79115,     0.79148,      0.7921,     0.79227,      0.7927,     0.79308,      0.7932,     0.79346,     0.79407,     0.79484,     0.79528,     0.79566,     0.79629,\n",
       "            0.79685,     0.79714,     0.79742,     0.79798,     0.79851,     0.79899,     0.79908,     0.79939,     0.79956,     0.80022,     0.80039,     0.80065,     0.80055,      0.8006,     0.80076,     0.80112,     0.80155,     0.80188,     0.80209,     0.80271,     0.80314,     0.80356,     0.80392,\n",
       "            0.80442,      0.8049,     0.80525,     0.80553,     0.80543,     0.80574,     0.80589,      0.8064,     0.80673,     0.80697,     0.80732,     0.80755,     0.80804,      0.8085,     0.80865,     0.80919,     0.80951,     0.80962,     0.81017,     0.81055,     0.81083,     0.81096,     0.81134,\n",
       "            0.81145,     0.81166,     0.81189,     0.81188,      0.8122,     0.81271,     0.81284,     0.81319,      0.8133,     0.81367,     0.81388,     0.81412,     0.81436,     0.81461,     0.81527,     0.81558,     0.81565,     0.81602,     0.81635,     0.81645,      0.8168,     0.81674,      0.8167,\n",
       "            0.81659,      0.8167,     0.81709,     0.81738,      0.8178,     0.81781,       0.818,     0.81818,     0.81833,     0.81847,     0.81878,     0.81884,     0.81884,     0.81893,       0.819,     0.81916,     0.81961,     0.81984,     0.81982,     0.82001,     0.82042,     0.82057,     0.82081,\n",
       "            0.82119,     0.82119,     0.82131,     0.82127,     0.82141,     0.82155,     0.82141,     0.82159,     0.82167,     0.82174,     0.82178,     0.82183,     0.82178,      0.8213,     0.82175,     0.82184,     0.82202,     0.82221,     0.82227,     0.82221,     0.82227,     0.82248,     0.82252,\n",
       "            0.82282,     0.82299,     0.82328,     0.82352,     0.82372,     0.82383,      0.8241,     0.82387,     0.82412,     0.82432,     0.82422,     0.82424,     0.82421,     0.82417,     0.82415,     0.82423,     0.82421,     0.82406,     0.82416,     0.82438,     0.82453,     0.82467,     0.82444,\n",
       "            0.82459,     0.82455,     0.82474,     0.82471,     0.82472,      0.8246,     0.82463,     0.82483,     0.82492,     0.82479,     0.82486,     0.82482,      0.8248,     0.82499,     0.82482,     0.82493,     0.82481,     0.82504,     0.82493,     0.82516,     0.82524,      0.8254,     0.82536,\n",
       "            0.82525,     0.82525,     0.82552,     0.82568,      0.8255,     0.82534,      0.8255,     0.82555,      0.8255,     0.82545,     0.82542,     0.82558,     0.82572,     0.82585,     0.82588,     0.82603,     0.82609,     0.82628,     0.82618,     0.82625,     0.82607,     0.82607,      0.8259,\n",
       "             0.8258,     0.82578,      0.8258,     0.82585,     0.82589,     0.82599,       0.826,     0.82593,     0.82586,     0.82598,     0.82587,     0.82608,     0.82593,     0.82574,     0.82573,     0.82578,     0.82597,     0.82585,      0.8262,     0.82636,     0.82636,     0.82627,     0.82624,\n",
       "            0.82611,      0.8262,     0.82611,     0.82603,     0.82587,     0.82578,     0.82578,     0.82589,     0.82577,     0.82572,      0.8257,     0.82574,     0.82569,     0.82565,     0.82569,     0.82579,     0.82551,     0.82546,     0.82544,      0.8255,     0.82525,     0.82544,     0.82544,\n",
       "            0.82553,     0.82573,     0.82582,     0.82587,     0.82587,     0.82596,     0.82609,     0.82595,     0.82601,     0.82624,     0.82596,     0.82579,     0.82596,     0.82583,     0.82579,     0.82582,     0.82572,     0.82553,     0.82552,     0.82535,     0.82534,     0.82529,     0.82523,\n",
       "            0.82519,     0.82544,     0.82535,     0.82539,     0.82542,     0.82532,     0.82529,      0.8254,     0.82549,     0.82565,     0.82565,     0.82579,     0.82545,     0.82551,     0.82576,     0.82554,     0.82549,     0.82581,     0.82568,     0.82561,     0.82552,     0.82555,     0.82512,\n",
       "            0.82515,     0.82486,     0.82496,     0.82456,     0.82433,     0.82433,     0.82406,     0.82413,     0.82398,      0.8241,      0.8239,       0.824,     0.82389,     0.82387,     0.82384,      0.8236,     0.82355,     0.82345,     0.82345,     0.82339,      0.8234,     0.82336,     0.82322,\n",
       "             0.8232,     0.82306,     0.82316,     0.82293,     0.82301,     0.82306,     0.82293,     0.82265,     0.82229,     0.82232,     0.82213,     0.82217,      0.8222,     0.82197,     0.82217,     0.82231,     0.82211,     0.82196,     0.82189,     0.82164,     0.82143,     0.82149,     0.82107,\n",
       "            0.82094,     0.82072,     0.82053,     0.82059,     0.82042,     0.82037,        0.82,     0.81956,     0.81938,     0.81917,      0.8191,     0.81906,     0.81898,       0.819,     0.81871,     0.81851,     0.81861,     0.81866,     0.81839,     0.81843,     0.81842,     0.81804,     0.81805,\n",
       "            0.81785,     0.81768,     0.81755,     0.81756,      0.8173,     0.81722,     0.81707,     0.81714,     0.81697,     0.81668,     0.81644,     0.81668,     0.81629,     0.81642,     0.81651,     0.81638,     0.81636,     0.81631,     0.81606,     0.81589,     0.81583,     0.81512,     0.81487,\n",
       "            0.81442,     0.81429,     0.81419,     0.81375,     0.81357,     0.81297,     0.81264,     0.81247,      0.8124,     0.81206,     0.81186,     0.81148,     0.81099,     0.81065,     0.81042,     0.81041,      0.8102,     0.80982,     0.80934,     0.80919,     0.80897,     0.80848,     0.80836,\n",
       "             0.8077,     0.80737,     0.80738,     0.80721,     0.80707,       0.807,     0.80687,     0.80645,     0.80592,     0.80582,     0.80525,     0.80474,     0.80459,     0.80436,     0.80393,     0.80376,      0.8034,     0.80294,     0.80229,     0.80168,     0.80115,     0.80084,     0.80056,\n",
       "            0.80031,     0.79997,      0.7998,     0.79966,      0.7995,      0.7989,     0.79885,     0.79832,     0.79803,      0.7979,     0.79785,     0.79767,     0.79755,     0.79691,     0.79687,     0.79635,     0.79595,     0.79536,     0.79505,     0.79499,      0.7947,     0.79427,     0.79406,\n",
       "             0.7939,     0.79345,      0.7932,     0.79275,      0.7925,     0.79215,     0.79179,     0.79151,     0.79075,     0.79028,     0.79011,     0.78953,      0.7894,     0.78895,     0.78824,     0.78805,     0.78789,     0.78774,      0.7874,     0.78699,     0.78677,     0.78669,     0.78635,\n",
       "            0.78578,     0.78541,     0.78502,     0.78444,     0.78405,     0.78342,     0.78359,     0.78316,     0.78247,     0.78181,     0.78141,     0.78117,     0.78067,     0.78004,     0.77972,     0.77928,     0.77855,     0.77844,     0.77809,     0.77765,     0.77725,     0.77668,     0.77622,\n",
       "             0.7759,     0.77547,       0.775,     0.77463,     0.77418,     0.77372,     0.77328,     0.77292,      0.7728,     0.77201,     0.77196,     0.77166,     0.77158,     0.77071,     0.77041,     0.77014,     0.76973,     0.76938,     0.76908,     0.76879,     0.76879,     0.76816,     0.76765,\n",
       "            0.76688,     0.76656,     0.76598,     0.76546,     0.76494,     0.76439,     0.76396,      0.7636,     0.76312,     0.76272,     0.76158,     0.76077,     0.76051,     0.75996,     0.75927,     0.75845,     0.75821,       0.758,     0.75757,     0.75662,     0.75596,     0.75576,     0.75531,\n",
       "            0.75468,     0.75425,     0.75337,     0.75314,     0.75255,     0.75204,      0.7515,     0.75044,     0.74962,     0.74877,     0.74798,     0.74749,     0.74694,     0.74624,     0.74521,     0.74445,      0.7434,     0.74316,     0.74264,     0.74219,     0.74144,     0.74059,     0.73974,\n",
       "            0.73912,     0.73834,     0.73773,     0.73663,     0.73588,     0.73487,       0.734,     0.73381,     0.73286,     0.73231,     0.73126,     0.73045,     0.72941,     0.72823,     0.72773,     0.72719,     0.72672,     0.72629,     0.72545,     0.72448,     0.72335,     0.72223,      0.7216,\n",
       "            0.71999,     0.71854,      0.7174,     0.71649,     0.71573,     0.71534,     0.71423,     0.71348,     0.71202,     0.71134,     0.71026,     0.70938,     0.70881,     0.70828,     0.70795,     0.70678,     0.70592,     0.70499,     0.70408,     0.70305,     0.70244,     0.70128,     0.70064,\n",
       "            0.70018,     0.69967,     0.69802,      0.6971,     0.69652,     0.69576,     0.69457,     0.69362,     0.69234,     0.69152,     0.69088,     0.69026,     0.68918,     0.68837,     0.68744,     0.68526,     0.68442,     0.68283,     0.68211,     0.68116,     0.68046,     0.67864,     0.67693,\n",
       "            0.67497,     0.67401,     0.67247,     0.67012,     0.66888,     0.66775,      0.6666,     0.66449,     0.66317,      0.6619,     0.65989,     0.65773,     0.65604,     0.65423,     0.65239,     0.65046,     0.64839,     0.64569,     0.64384,     0.64253,     0.64082,     0.63934,     0.63825,\n",
       "            0.63626,     0.63449,     0.63245,     0.63065,     0.62923,     0.62664,     0.62456,     0.62246,     0.62062,      0.6185,      0.6162,      0.6137,     0.61143,     0.60805,     0.60618,     0.60268,     0.60023,     0.59893,     0.59678,     0.59471,     0.59189,     0.58988,     0.58716,\n",
       "            0.58471,     0.58167,     0.57966,      0.5769,     0.57319,      0.5712,     0.56794,     0.56396,     0.56182,     0.55867,     0.55601,     0.55318,     0.54988,     0.54694,     0.54217,     0.53883,     0.53566,     0.53302,     0.53112,     0.52744,     0.52538,     0.52185,     0.51848,\n",
       "            0.51512,     0.51311,     0.50822,     0.50496,     0.50237,      0.5001,     0.49672,     0.49391,     0.49072,     0.48795,     0.48387,     0.47945,     0.47569,     0.47234,     0.46754,     0.46398,     0.46085,     0.45613,      0.4514,      0.4474,     0.44182,     0.43808,     0.43275,\n",
       "            0.42759,     0.42357,     0.41907,     0.41411,     0.40821,     0.40355,     0.39792,     0.39378,     0.38945,     0.38339,     0.37838,     0.37197,     0.36669,     0.36069,     0.35451,     0.34769,     0.34061,       0.336,     0.32983,     0.32342,     0.31752,     0.31383,     0.30753,\n",
       "            0.30334,     0.29612,     0.28982,     0.28391,     0.27692,      0.2696,     0.26343,      0.2567,     0.24992,     0.24392,     0.23714,     0.22925,     0.22153,     0.21579,     0.20996,     0.20114,     0.19581,     0.18904,     0.18432,     0.17745,     0.17078,     0.16564,     0.16061,\n",
       "            0.15361,     0.14497,     0.14106,     0.13614,     0.13078,     0.12424,     0.12019,     0.11644,     0.11092,     0.10465,    0.098839,    0.094005,    0.088797,      0.0821,    0.077098,    0.073239,    0.069197,    0.065851,    0.062658,    0.057777,    0.055282,    0.052074,     0.04795,\n",
       "           0.045398,    0.042314,    0.038837,    0.036237,    0.034175,    0.032777,    0.030275,     0.02818,    0.026174,    0.024833,    0.022533,     0.02051,    0.020091,    0.019583,    0.018105,    0.017555,    0.017182,    0.016886,    0.016302,    0.015751,    0.015185,     0.01496,    0.013976,\n",
       "           0.012951,    0.011335,    0.010705,    0.010076,   0.0090158,   0.0088489,   0.0086538,   0.0084698,   0.0083202,   0.0081357,   0.0078834,   0.0077039,    0.007185,   0.0069405,    0.006861,   0.0067816,   0.0067021,   0.0061215,   0.0054393,   0.0050269,   0.0046051,   0.0029984,   0.0028942,\n",
       "            0.00279,   0.0023376,   0.0020911,   0.0019061,   0.0017172,   0.0015249,   0.0012066,   0.0011274,   0.0010483,  0.00096911,  0.00087832,  0.00076408,  0.00064982,   0.0005355,  0.00042114,  0.00030677,           0,           0,           0,           0,           0,           0,           0,\n",
       "                  0,           0,           0,           0,           0,           0,           0,           0,           0,           0,           0,           0,           0,           0,           0,           0,           0,           0,           0,           0,           0,           0,           0,\n",
       "                  0,           0,           0,           0,           0,           0,           0,           0,           0,           0,           0,           0,           0,           0,           0,           0,           0,           0,           0,           0,           0,           0,           0,\n",
       "                  0,           0,           0,           0,           0,           0,           0,           0,           0,           0,           0]]), 'Confidence', 'F1'], [array([          0,    0.001001,    0.002002,    0.003003,    0.004004,    0.005005,    0.006006,    0.007007,    0.008008,    0.009009,     0.01001,    0.011011,    0.012012,    0.013013,    0.014014,    0.015015,    0.016016,    0.017017,    0.018018,    0.019019,     0.02002,    0.021021,    0.022022,    0.023023,\n",
       "          0.024024,    0.025025,    0.026026,    0.027027,    0.028028,    0.029029,     0.03003,    0.031031,    0.032032,    0.033033,    0.034034,    0.035035,    0.036036,    0.037037,    0.038038,    0.039039,     0.04004,    0.041041,    0.042042,    0.043043,    0.044044,    0.045045,    0.046046,    0.047047,\n",
       "          0.048048,    0.049049,     0.05005,    0.051051,    0.052052,    0.053053,    0.054054,    0.055055,    0.056056,    0.057057,    0.058058,    0.059059,     0.06006,    0.061061,    0.062062,    0.063063,    0.064064,    0.065065,    0.066066,    0.067067,    0.068068,    0.069069,     0.07007,    0.071071,\n",
       "          0.072072,    0.073073,    0.074074,    0.075075,    0.076076,    0.077077,    0.078078,    0.079079,     0.08008,    0.081081,    0.082082,    0.083083,    0.084084,    0.085085,    0.086086,    0.087087,    0.088088,    0.089089,     0.09009,    0.091091,    0.092092,    0.093093,    0.094094,    0.095095,\n",
       "          0.096096,    0.097097,    0.098098,    0.099099,      0.1001,      0.1011,      0.1021,      0.1031,      0.1041,     0.10511,     0.10611,     0.10711,     0.10811,     0.10911,     0.11011,     0.11111,     0.11211,     0.11311,     0.11411,     0.11512,     0.11612,     0.11712,     0.11812,     0.11912,\n",
       "           0.12012,     0.12112,     0.12212,     0.12312,     0.12412,     0.12513,     0.12613,     0.12713,     0.12813,     0.12913,     0.13013,     0.13113,     0.13213,     0.13313,     0.13413,     0.13514,     0.13614,     0.13714,     0.13814,     0.13914,     0.14014,     0.14114,     0.14214,     0.14314,\n",
       "           0.14414,     0.14515,     0.14615,     0.14715,     0.14815,     0.14915,     0.15015,     0.15115,     0.15215,     0.15315,     0.15415,     0.15516,     0.15616,     0.15716,     0.15816,     0.15916,     0.16016,     0.16116,     0.16216,     0.16316,     0.16416,     0.16517,     0.16617,     0.16717,\n",
       "           0.16817,     0.16917,     0.17017,     0.17117,     0.17217,     0.17317,     0.17417,     0.17518,     0.17618,     0.17718,     0.17818,     0.17918,     0.18018,     0.18118,     0.18218,     0.18318,     0.18418,     0.18519,     0.18619,     0.18719,     0.18819,     0.18919,     0.19019,     0.19119,\n",
       "           0.19219,     0.19319,     0.19419,      0.1952,      0.1962,      0.1972,      0.1982,      0.1992,      0.2002,      0.2012,      0.2022,      0.2032,      0.2042,     0.20521,     0.20621,     0.20721,     0.20821,     0.20921,     0.21021,     0.21121,     0.21221,     0.21321,     0.21421,     0.21522,\n",
       "           0.21622,     0.21722,     0.21822,     0.21922,     0.22022,     0.22122,     0.22222,     0.22322,     0.22422,     0.22523,     0.22623,     0.22723,     0.22823,     0.22923,     0.23023,     0.23123,     0.23223,     0.23323,     0.23423,     0.23524,     0.23624,     0.23724,     0.23824,     0.23924,\n",
       "           0.24024,     0.24124,     0.24224,     0.24324,     0.24424,     0.24525,     0.24625,     0.24725,     0.24825,     0.24925,     0.25025,     0.25125,     0.25225,     0.25325,     0.25425,     0.25526,     0.25626,     0.25726,     0.25826,     0.25926,     0.26026,     0.26126,     0.26226,     0.26326,\n",
       "           0.26426,     0.26527,     0.26627,     0.26727,     0.26827,     0.26927,     0.27027,     0.27127,     0.27227,     0.27327,     0.27427,     0.27528,     0.27628,     0.27728,     0.27828,     0.27928,     0.28028,     0.28128,     0.28228,     0.28328,     0.28428,     0.28529,     0.28629,     0.28729,\n",
       "           0.28829,     0.28929,     0.29029,     0.29129,     0.29229,     0.29329,     0.29429,      0.2953,      0.2963,      0.2973,      0.2983,      0.2993,      0.3003,      0.3013,      0.3023,      0.3033,      0.3043,     0.30531,     0.30631,     0.30731,     0.30831,     0.30931,     0.31031,     0.31131,\n",
       "           0.31231,     0.31331,     0.31431,     0.31532,     0.31632,     0.31732,     0.31832,     0.31932,     0.32032,     0.32132,     0.32232,     0.32332,     0.32432,     0.32533,     0.32633,     0.32733,     0.32833,     0.32933,     0.33033,     0.33133,     0.33233,     0.33333,     0.33433,     0.33534,\n",
       "           0.33634,     0.33734,     0.33834,     0.33934,     0.34034,     0.34134,     0.34234,     0.34334,     0.34434,     0.34535,     0.34635,     0.34735,     0.34835,     0.34935,     0.35035,     0.35135,     0.35235,     0.35335,     0.35435,     0.35536,     0.35636,     0.35736,     0.35836,     0.35936,\n",
       "           0.36036,     0.36136,     0.36236,     0.36336,     0.36436,     0.36537,     0.36637,     0.36737,     0.36837,     0.36937,     0.37037,     0.37137,     0.37237,     0.37337,     0.37437,     0.37538,     0.37638,     0.37738,     0.37838,     0.37938,     0.38038,     0.38138,     0.38238,     0.38338,\n",
       "           0.38438,     0.38539,     0.38639,     0.38739,     0.38839,     0.38939,     0.39039,     0.39139,     0.39239,     0.39339,     0.39439,      0.3954,      0.3964,      0.3974,      0.3984,      0.3994,      0.4004,      0.4014,      0.4024,      0.4034,      0.4044,     0.40541,     0.40641,     0.40741,\n",
       "           0.40841,     0.40941,     0.41041,     0.41141,     0.41241,     0.41341,     0.41441,     0.41542,     0.41642,     0.41742,     0.41842,     0.41942,     0.42042,     0.42142,     0.42242,     0.42342,     0.42442,     0.42543,     0.42643,     0.42743,     0.42843,     0.42943,     0.43043,     0.43143,\n",
       "           0.43243,     0.43343,     0.43443,     0.43544,     0.43644,     0.43744,     0.43844,     0.43944,     0.44044,     0.44144,     0.44244,     0.44344,     0.44444,     0.44545,     0.44645,     0.44745,     0.44845,     0.44945,     0.45045,     0.45145,     0.45245,     0.45345,     0.45445,     0.45546,\n",
       "           0.45646,     0.45746,     0.45846,     0.45946,     0.46046,     0.46146,     0.46246,     0.46346,     0.46446,     0.46547,     0.46647,     0.46747,     0.46847,     0.46947,     0.47047,     0.47147,     0.47247,     0.47347,     0.47447,     0.47548,     0.47648,     0.47748,     0.47848,     0.47948,\n",
       "           0.48048,     0.48148,     0.48248,     0.48348,     0.48448,     0.48549,     0.48649,     0.48749,     0.48849,     0.48949,     0.49049,     0.49149,     0.49249,     0.49349,     0.49449,      0.4955,      0.4965,      0.4975,      0.4985,      0.4995,      0.5005,      0.5015,      0.5025,      0.5035,\n",
       "            0.5045,     0.50551,     0.50651,     0.50751,     0.50851,     0.50951,     0.51051,     0.51151,     0.51251,     0.51351,     0.51451,     0.51552,     0.51652,     0.51752,     0.51852,     0.51952,     0.52052,     0.52152,     0.52252,     0.52352,     0.52452,     0.52553,     0.52653,     0.52753,\n",
       "           0.52853,     0.52953,     0.53053,     0.53153,     0.53253,     0.53353,     0.53453,     0.53554,     0.53654,     0.53754,     0.53854,     0.53954,     0.54054,     0.54154,     0.54254,     0.54354,     0.54454,     0.54555,     0.54655,     0.54755,     0.54855,     0.54955,     0.55055,     0.55155,\n",
       "           0.55255,     0.55355,     0.55455,     0.55556,     0.55656,     0.55756,     0.55856,     0.55956,     0.56056,     0.56156,     0.56256,     0.56356,     0.56456,     0.56557,     0.56657,     0.56757,     0.56857,     0.56957,     0.57057,     0.57157,     0.57257,     0.57357,     0.57457,     0.57558,\n",
       "           0.57658,     0.57758,     0.57858,     0.57958,     0.58058,     0.58158,     0.58258,     0.58358,     0.58458,     0.58559,     0.58659,     0.58759,     0.58859,     0.58959,     0.59059,     0.59159,     0.59259,     0.59359,     0.59459,      0.5956,      0.5966,      0.5976,      0.5986,      0.5996,\n",
       "            0.6006,      0.6016,      0.6026,      0.6036,      0.6046,     0.60561,     0.60661,     0.60761,     0.60861,     0.60961,     0.61061,     0.61161,     0.61261,     0.61361,     0.61461,     0.61562,     0.61662,     0.61762,     0.61862,     0.61962,     0.62062,     0.62162,     0.62262,     0.62362,\n",
       "           0.62462,     0.62563,     0.62663,     0.62763,     0.62863,     0.62963,     0.63063,     0.63163,     0.63263,     0.63363,     0.63463,     0.63564,     0.63664,     0.63764,     0.63864,     0.63964,     0.64064,     0.64164,     0.64264,     0.64364,     0.64464,     0.64565,     0.64665,     0.64765,\n",
       "           0.64865,     0.64965,     0.65065,     0.65165,     0.65265,     0.65365,     0.65465,     0.65566,     0.65666,     0.65766,     0.65866,     0.65966,     0.66066,     0.66166,     0.66266,     0.66366,     0.66466,     0.66567,     0.66667,     0.66767,     0.66867,     0.66967,     0.67067,     0.67167,\n",
       "           0.67267,     0.67367,     0.67467,     0.67568,     0.67668,     0.67768,     0.67868,     0.67968,     0.68068,     0.68168,     0.68268,     0.68368,     0.68468,     0.68569,     0.68669,     0.68769,     0.68869,     0.68969,     0.69069,     0.69169,     0.69269,     0.69369,     0.69469,      0.6957,\n",
       "            0.6967,      0.6977,      0.6987,      0.6997,      0.7007,      0.7017,      0.7027,      0.7037,      0.7047,     0.70571,     0.70671,     0.70771,     0.70871,     0.70971,     0.71071,     0.71171,     0.71271,     0.71371,     0.71471,     0.71572,     0.71672,     0.71772,     0.71872,     0.71972,\n",
       "           0.72072,     0.72172,     0.72272,     0.72372,     0.72472,     0.72573,     0.72673,     0.72773,     0.72873,     0.72973,     0.73073,     0.73173,     0.73273,     0.73373,     0.73473,     0.73574,     0.73674,     0.73774,     0.73874,     0.73974,     0.74074,     0.74174,     0.74274,     0.74374,\n",
       "           0.74474,     0.74575,     0.74675,     0.74775,     0.74875,     0.74975,     0.75075,     0.75175,     0.75275,     0.75375,     0.75475,     0.75576,     0.75676,     0.75776,     0.75876,     0.75976,     0.76076,     0.76176,     0.76276,     0.76376,     0.76476,     0.76577,     0.76677,     0.76777,\n",
       "           0.76877,     0.76977,     0.77077,     0.77177,     0.77277,     0.77377,     0.77477,     0.77578,     0.77678,     0.77778,     0.77878,     0.77978,     0.78078,     0.78178,     0.78278,     0.78378,     0.78478,     0.78579,     0.78679,     0.78779,     0.78879,     0.78979,     0.79079,     0.79179,\n",
       "           0.79279,     0.79379,     0.79479,      0.7958,      0.7968,      0.7978,      0.7988,      0.7998,      0.8008,      0.8018,      0.8028,      0.8038,      0.8048,     0.80581,     0.80681,     0.80781,     0.80881,     0.80981,     0.81081,     0.81181,     0.81281,     0.81381,     0.81481,     0.81582,\n",
       "           0.81682,     0.81782,     0.81882,     0.81982,     0.82082,     0.82182,     0.82282,     0.82382,     0.82482,     0.82583,     0.82683,     0.82783,     0.82883,     0.82983,     0.83083,     0.83183,     0.83283,     0.83383,     0.83483,     0.83584,     0.83684,     0.83784,     0.83884,     0.83984,\n",
       "           0.84084,     0.84184,     0.84284,     0.84384,     0.84484,     0.84585,     0.84685,     0.84785,     0.84885,     0.84985,     0.85085,     0.85185,     0.85285,     0.85385,     0.85485,     0.85586,     0.85686,     0.85786,     0.85886,     0.85986,     0.86086,     0.86186,     0.86286,     0.86386,\n",
       "           0.86486,     0.86587,     0.86687,     0.86787,     0.86887,     0.86987,     0.87087,     0.87187,     0.87287,     0.87387,     0.87487,     0.87588,     0.87688,     0.87788,     0.87888,     0.87988,     0.88088,     0.88188,     0.88288,     0.88388,     0.88488,     0.88589,     0.88689,     0.88789,\n",
       "           0.88889,     0.88989,     0.89089,     0.89189,     0.89289,     0.89389,     0.89489,      0.8959,      0.8969,      0.8979,      0.8989,      0.8999,      0.9009,      0.9019,      0.9029,      0.9039,      0.9049,     0.90591,     0.90691,     0.90791,     0.90891,     0.90991,     0.91091,     0.91191,\n",
       "           0.91291,     0.91391,     0.91491,     0.91592,     0.91692,     0.91792,     0.91892,     0.91992,     0.92092,     0.92192,     0.92292,     0.92392,     0.92492,     0.92593,     0.92693,     0.92793,     0.92893,     0.92993,     0.93093,     0.93193,     0.93293,     0.93393,     0.93493,     0.93594,\n",
       "           0.93694,     0.93794,     0.93894,     0.93994,     0.94094,     0.94194,     0.94294,     0.94394,     0.94494,     0.94595,     0.94695,     0.94795,     0.94895,     0.94995,     0.95095,     0.95195,     0.95295,     0.95395,     0.95495,     0.95596,     0.95696,     0.95796,     0.95896,     0.95996,\n",
       "           0.96096,     0.96196,     0.96296,     0.96396,     0.96496,     0.96597,     0.96697,     0.96797,     0.96897,     0.96997,     0.97097,     0.97197,     0.97297,     0.97397,     0.97497,     0.97598,     0.97698,     0.97798,     0.97898,     0.97998,     0.98098,     0.98198,     0.98298,     0.98398,\n",
       "           0.98498,     0.98599,     0.98699,     0.98799,     0.98899,     0.98999,     0.99099,     0.99199,     0.99299,     0.99399,     0.99499,       0.996,       0.997,       0.998,       0.999,           1]), array([[    0.23537,     0.23548,     0.30575,     0.35254,     0.38926,     0.41804,     0.44261,       0.465,     0.48174,       0.499,     0.51227,     0.52432,     0.53588,     0.54507,     0.55594,     0.56574,     0.57405,     0.58167,     0.58911,     0.59597,     0.60413,     0.60973,     0.61579,\n",
       "            0.62234,     0.62802,     0.63359,     0.63911,     0.64482,     0.64971,     0.65425,     0.65788,     0.66282,     0.66736,     0.67182,     0.67556,      0.6787,      0.6828,     0.68532,     0.68883,     0.69252,     0.69595,     0.69933,     0.70307,      0.7059,     0.70912,     0.71149,\n",
       "            0.71414,     0.71634,     0.71916,     0.72169,     0.72427,     0.72743,     0.73011,     0.73219,     0.73403,     0.73636,     0.73877,     0.73996,     0.74192,     0.74374,     0.74593,     0.74714,      0.7485,      0.7507,     0.75235,     0.75449,     0.75621,     0.75855,     0.75922,\n",
       "            0.76079,     0.76226,     0.76451,     0.76571,     0.76687,     0.76754,     0.76928,     0.77141,       0.773,     0.77463,     0.77613,     0.77706,     0.77855,     0.77901,     0.77984,     0.78072,     0.78167,     0.78261,     0.78424,     0.78589,     0.78689,     0.78792,     0.78932,\n",
       "            0.79057,     0.79128,     0.79199,     0.79339,     0.79444,     0.79539,     0.79602,     0.79678,     0.79742,     0.79889,     0.79969,     0.80036,     0.80107,     0.80148,     0.80211,     0.80298,     0.80446,     0.80559,     0.80602,     0.80774,     0.80877,     0.80978,     0.81083,\n",
       "            0.81233,     0.81346,     0.81417,     0.81523,     0.81535,     0.81614,     0.81694,     0.81798,     0.81881,     0.81932,      0.8202,     0.82068,     0.82169,      0.8228,     0.82393,     0.82522,     0.82605,     0.82661,     0.82794,     0.82888,     0.82964,     0.82999,     0.83105,\n",
       "            0.83146,     0.83191,     0.83255,     0.83286,     0.83371,     0.83512,     0.83555,      0.8363,     0.83688,     0.83783,     0.83827,     0.83895,     0.83947,     0.84011,     0.84158,     0.84242,     0.84292,      0.8437,     0.84474,     0.84514,     0.84624,     0.84633,     0.84643,\n",
       "             0.8465,     0.84692,     0.84776,     0.84873,     0.84981,     0.85028,     0.85077,     0.85136,     0.85189,      0.8525,     0.85338,     0.85389,     0.85414,     0.85441,     0.85493,     0.85545,     0.85661,      0.8573,     0.85741,     0.85786,     0.85875,     0.85925,     0.85994,\n",
       "             0.8608,     0.86132,      0.8618,     0.86185,      0.8622,      0.8627,     0.86296,     0.86335,     0.86388,     0.86443,     0.86452,     0.86482,     0.86508,     0.86531,     0.86632,      0.8667,      0.8671,     0.86753,     0.86804,     0.86848,     0.86917,     0.86971,     0.87012,\n",
       "            0.87078,     0.87134,     0.87201,     0.87274,     0.87357,     0.87401,     0.87463,     0.87486,     0.87542,     0.87588,     0.87623,     0.87648,      0.8766,      0.8771,     0.87722,     0.87763,     0.87778,      0.8782,     0.87863,     0.87913,     0.87947,     0.88008,     0.88031,\n",
       "             0.8808,     0.88088,     0.88152,     0.88185,     0.88208,      0.8822,     0.88246,     0.88303,     0.88354,     0.88403,      0.8843,     0.88451,     0.88466,     0.88531,      0.8857,     0.88637,     0.88649,     0.88741,     0.88798,     0.88861,      0.8889,     0.88926,     0.88936,\n",
       "            0.88953,     0.88994,     0.89058,     0.89115,     0.89155,     0.89159,     0.89198,     0.89228,     0.89258,      0.8927,     0.89302,     0.89338,     0.89371,     0.89403,      0.8943,     0.89464,       0.895,     0.89549,     0.89564,       0.896,     0.89632,     0.89682,     0.89706,\n",
       "            0.89731,     0.89763,      0.8979,     0.89865,     0.89894,     0.89938,     0.89962,     0.89971,     0.89969,     0.90017,     0.90029,     0.90087,     0.90106,     0.90113,     0.90175,      0.9023,     0.90275,      0.9033,     0.90415,     0.90476,     0.90497,     0.90505,      0.9055,\n",
       "            0.90563,     0.90612,     0.90624,     0.90635,     0.90642,      0.9068,     0.90706,     0.90744,     0.90747,     0.90756,     0.90818,     0.90829,      0.9086,     0.90916,     0.90941,     0.90974,     0.90969,     0.91004,      0.9102,     0.91057,     0.91074,     0.91132,     0.91176,\n",
       "             0.9122,      0.9127,     0.91337,     0.91348,      0.9137,     0.91416,     0.91471,     0.91481,     0.91496,     0.91553,     0.91575,     0.91572,     0.91619,     0.91633,     0.91646,     0.91685,     0.91696,     0.91717,      0.9176,     0.91788,     0.91838,     0.91841,     0.91872,\n",
       "            0.91885,     0.91948,     0.91972,     0.91982,     0.92034,     0.92056,      0.9208,     0.92123,     0.92169,     0.92232,     0.92255,     0.92333,     0.92344,     0.92359,     0.92464,     0.92484,     0.92526,      0.9263,     0.92645,     0.92644,     0.92669,     0.92724,     0.92737,\n",
       "            0.92766,     0.92786,     0.92819,     0.92878,     0.92892,     0.92961,     0.92975,     0.93026,     0.93043,     0.93077,     0.93091,     0.93171,     0.93193,     0.93209,     0.93275,     0.93309,     0.93343,     0.93347,     0.93358,     0.93381,     0.93392,     0.93398,     0.93407,\n",
       "            0.93424,     0.93466,      0.9351,     0.93532,     0.93554,     0.93578,     0.93576,     0.93573,      0.9359,     0.93621,     0.93623,     0.93634,     0.93654,     0.93651,     0.93708,     0.93771,     0.93793,     0.93804,     0.93861,     0.93893,     0.93943,     0.93959,     0.93974,\n",
       "             0.9399,     0.94005,     0.94014,     0.94054,     0.94055,     0.94072,     0.94086,     0.94081,     0.94114,     0.94112,     0.94149,     0.94191,     0.94221,     0.94253,     0.94278,     0.94284,     0.94331,     0.94375,     0.94376,     0.94409,     0.94462,     0.94477,     0.94521,\n",
       "            0.94566,     0.94579,     0.94599,     0.94652,     0.94652,     0.94669,     0.94679,     0.94705,     0.94703,       0.947,     0.94724,     0.94787,     0.94806,     0.94863,     0.94919,     0.94948,     0.94955,     0.94954,     0.94952,     0.94977,     0.95042,     0.95066,     0.95106,\n",
       "            0.95104,     0.95139,     0.95139,     0.95135,      0.9517,     0.95165,     0.95199,     0.95217,     0.95216,     0.95213,     0.95211,     0.95226,     0.95222,     0.95256,     0.95262,     0.95287,      0.9529,     0.95286,     0.95301,     0.95313,     0.95336,      0.9535,     0.95388,\n",
       "            0.95382,     0.95398,     0.95431,     0.95435,     0.95472,     0.95491,     0.95509,     0.95505,       0.955,     0.95519,     0.95514,     0.95518,     0.95527,     0.95525,     0.95521,     0.95578,     0.95575,      0.9561,     0.95605,     0.95619,     0.95654,      0.9571,     0.95727,\n",
       "            0.95784,     0.95782,     0.95784,     0.95799,     0.95816,     0.95832,     0.95852,     0.95867,     0.95865,     0.95864,     0.95882,     0.95922,     0.95941,     0.95942,     0.95955,     0.95951,     0.95968,     0.95963,     0.95977,     0.96021,     0.96059,     0.96096,     0.96094,\n",
       "            0.96093,      0.9609,     0.96088,     0.96125,     0.96143,     0.96161,     0.96158,     0.96175,     0.96191,     0.96208,     0.96248,     0.96244,     0.96284,      0.9628,     0.96296,     0.96348,     0.96376,     0.96375,     0.96373,      0.9639,     0.96451,     0.96493,     0.96511,\n",
       "            0.96528,     0.96546,     0.96607,     0.96624,     0.96621,     0.96667,     0.96721,     0.96764,     0.96775,     0.96798,     0.96795,     0.96793,     0.96823,     0.96829,     0.96848,     0.96846,     0.96841,     0.96876,     0.96903,       0.969,     0.96919,     0.96915,     0.96934,\n",
       "            0.96973,     0.97039,     0.97058,     0.97077,     0.97119,     0.97116,     0.97135,     0.97155,     0.97178,     0.97194,     0.97227,     0.97238,      0.9728,     0.97276,     0.97341,     0.97362,     0.97369,      0.9738,     0.97468,     0.97497,     0.97572,     0.97576,     0.97573,\n",
       "             0.9757,     0.97576,     0.97633,     0.97631,     0.97674,     0.97671,     0.97669,     0.97667,     0.97665,     0.97686,     0.97681,       0.977,     0.97768,     0.97789,     0.97832,     0.97828,     0.97856,     0.97896,     0.97894,     0.97913,     0.97913,     0.97933,     0.97931,\n",
       "            0.97976,     0.97974,     0.97974,     0.98017,     0.98085,     0.98107,     0.98153,     0.98149,      0.9817,     0.98166,     0.98163,     0.98161,     0.98183,     0.98205,     0.98201,     0.98198,     0.98194,     0.98193,     0.98191,      0.9819,     0.98211,     0.98233,     0.98229,\n",
       "            0.98227,     0.98224,     0.98222,     0.98242,      0.9824,     0.98261,     0.98258,     0.98307,     0.98303,     0.98377,     0.98373,      0.9837,     0.98367,     0.98388,     0.98386,      0.9841,     0.98408,     0.98432,     0.98455,     0.98452,     0.98499,     0.98505,     0.98545,\n",
       "            0.98566,     0.98562,     0.98558,     0.98555,     0.98553,     0.98552,     0.98601,     0.98599,     0.98674,     0.98672,     0.98669,     0.98666,     0.98772,     0.98797,     0.98823,     0.98874,     0.98926,     0.98924,     0.98949,     0.98947,        0.99,     0.99025,     0.99051,\n",
       "             0.9905,     0.99076,     0.99101,     0.99127,     0.99126,     0.99152,     0.99178,     0.99229,      0.9923,     0.99229,     0.99228,     0.99255,     0.99282,     0.99309,     0.99307,     0.99304,     0.99303,       0.993,     0.99299,     0.99298,     0.99352,     0.99381,     0.99408,\n",
       "            0.99406,     0.99404,     0.99402,     0.99399,     0.99397,     0.99426,     0.99424,     0.99422,      0.9945,     0.99479,     0.99477,     0.99474,     0.99472,     0.99501,     0.99499,     0.99559,     0.99557,     0.99554,     0.99552,     0.99583,     0.99581,      0.9958,     0.99611,\n",
       "            0.99609,     0.99608,     0.99606,     0.99604,     0.99603,     0.99601,     0.99632,     0.99664,     0.99662,      0.9966,     0.99659,     0.99657,     0.99655,     0.99652,      0.9965,     0.99648,     0.99646,     0.99644,     0.99643,     0.99677,     0.99674,     0.99709,     0.99707,\n",
       "            0.99705,     0.99703,     0.99702,       0.997,     0.99697,     0.99696,     0.99693,      0.9969,     0.99689,     0.99686,     0.99684,     0.99682,     0.99679,     0.99677,     0.99673,      0.9967,     0.99667,     0.99665,     0.99664,      0.9966,     0.99701,     0.99698,     0.99696,\n",
       "            0.99693,     0.99691,     0.99776,     0.99775,     0.99773,     0.99772,      0.9977,     0.99768,     0.99766,     0.99764,     0.99761,     0.99759,     0.99756,     0.99803,       0.998,     0.99899,     0.99898,     0.99897,     0.99895,     0.99894,     0.99892,     0.99891,      0.9989,\n",
       "            0.99888,     0.99886,     0.99885,     0.99883,     0.99881,     0.99879,     0.99877,     0.99876,     0.99874,     0.99871,     0.99869,     0.99866,     0.99864,     0.99861,     0.99858,     0.99855,     0.99851,     0.99849,     0.99846,     0.99842,     0.99838,     0.99836,     0.99832,\n",
       "            0.99829,     0.99825,      0.9982,     0.99816,      0.9981,     0.99804,     0.99899,     0.99896,     0.99893,      0.9989,           1,           1,           1,           1,           1,           1,           1,           1,           1,           1,           1,           1,           1,\n",
       "                  1,           1,           1,           1,           1,           1,           1,           1,           1,           1,           1,           1,           1,           1,           1,           1,           1,           1,           1,           1,           1,           1,           1,\n",
       "                  1,           1,           1,           1,           1,           1,           1,           1,           1,           1,           1,           1,           1,           1,           1,           1,           1,           1,           1,           1,           1,           1,           1,\n",
       "                  1,           1,           1,           1,           1,           1,           1,           1,           1,           1,           1,           1,           1,           1,           1,           1,           1,           1,           1,           1,           1,           1,           1,\n",
       "                  1,           1,           1,           1,           1,           1,           1,           1,           1,           1,           1,           1,           1,           1,           1,           1,           1,           1,           1,           1,           1,           1,           1,\n",
       "                  1,           1,           1,           1,           1,           1,           1,           1,           1,           1,           1,           1,           1,           1,           1,           1,           1,           1,           1,           1,           1,           1,           1,\n",
       "                  1,           1,           1,           1,           1,           1,           1,           1,           1,           1,           1,           1,           1,           1,           1,           1,           1,           1,           1,           1,           1,           1,           1,\n",
       "                  1,           1,           1,           1,           1,           1,           1,           1,           1,           1,           1]]), 'Confidence', 'Precision'], [array([          0,    0.001001,    0.002002,    0.003003,    0.004004,    0.005005,    0.006006,    0.007007,    0.008008,    0.009009,     0.01001,    0.011011,    0.012012,    0.013013,    0.014014,    0.015015,    0.016016,    0.017017,    0.018018,    0.019019,     0.02002,    0.021021,    0.022022,    0.023023,\n",
       "          0.024024,    0.025025,    0.026026,    0.027027,    0.028028,    0.029029,     0.03003,    0.031031,    0.032032,    0.033033,    0.034034,    0.035035,    0.036036,    0.037037,    0.038038,    0.039039,     0.04004,    0.041041,    0.042042,    0.043043,    0.044044,    0.045045,    0.046046,    0.047047,\n",
       "          0.048048,    0.049049,     0.05005,    0.051051,    0.052052,    0.053053,    0.054054,    0.055055,    0.056056,    0.057057,    0.058058,    0.059059,     0.06006,    0.061061,    0.062062,    0.063063,    0.064064,    0.065065,    0.066066,    0.067067,    0.068068,    0.069069,     0.07007,    0.071071,\n",
       "          0.072072,    0.073073,    0.074074,    0.075075,    0.076076,    0.077077,    0.078078,    0.079079,     0.08008,    0.081081,    0.082082,    0.083083,    0.084084,    0.085085,    0.086086,    0.087087,    0.088088,    0.089089,     0.09009,    0.091091,    0.092092,    0.093093,    0.094094,    0.095095,\n",
       "          0.096096,    0.097097,    0.098098,    0.099099,      0.1001,      0.1011,      0.1021,      0.1031,      0.1041,     0.10511,     0.10611,     0.10711,     0.10811,     0.10911,     0.11011,     0.11111,     0.11211,     0.11311,     0.11411,     0.11512,     0.11612,     0.11712,     0.11812,     0.11912,\n",
       "           0.12012,     0.12112,     0.12212,     0.12312,     0.12412,     0.12513,     0.12613,     0.12713,     0.12813,     0.12913,     0.13013,     0.13113,     0.13213,     0.13313,     0.13413,     0.13514,     0.13614,     0.13714,     0.13814,     0.13914,     0.14014,     0.14114,     0.14214,     0.14314,\n",
       "           0.14414,     0.14515,     0.14615,     0.14715,     0.14815,     0.14915,     0.15015,     0.15115,     0.15215,     0.15315,     0.15415,     0.15516,     0.15616,     0.15716,     0.15816,     0.15916,     0.16016,     0.16116,     0.16216,     0.16316,     0.16416,     0.16517,     0.16617,     0.16717,\n",
       "           0.16817,     0.16917,     0.17017,     0.17117,     0.17217,     0.17317,     0.17417,     0.17518,     0.17618,     0.17718,     0.17818,     0.17918,     0.18018,     0.18118,     0.18218,     0.18318,     0.18418,     0.18519,     0.18619,     0.18719,     0.18819,     0.18919,     0.19019,     0.19119,\n",
       "           0.19219,     0.19319,     0.19419,      0.1952,      0.1962,      0.1972,      0.1982,      0.1992,      0.2002,      0.2012,      0.2022,      0.2032,      0.2042,     0.20521,     0.20621,     0.20721,     0.20821,     0.20921,     0.21021,     0.21121,     0.21221,     0.21321,     0.21421,     0.21522,\n",
       "           0.21622,     0.21722,     0.21822,     0.21922,     0.22022,     0.22122,     0.22222,     0.22322,     0.22422,     0.22523,     0.22623,     0.22723,     0.22823,     0.22923,     0.23023,     0.23123,     0.23223,     0.23323,     0.23423,     0.23524,     0.23624,     0.23724,     0.23824,     0.23924,\n",
       "           0.24024,     0.24124,     0.24224,     0.24324,     0.24424,     0.24525,     0.24625,     0.24725,     0.24825,     0.24925,     0.25025,     0.25125,     0.25225,     0.25325,     0.25425,     0.25526,     0.25626,     0.25726,     0.25826,     0.25926,     0.26026,     0.26126,     0.26226,     0.26326,\n",
       "           0.26426,     0.26527,     0.26627,     0.26727,     0.26827,     0.26927,     0.27027,     0.27127,     0.27227,     0.27327,     0.27427,     0.27528,     0.27628,     0.27728,     0.27828,     0.27928,     0.28028,     0.28128,     0.28228,     0.28328,     0.28428,     0.28529,     0.28629,     0.28729,\n",
       "           0.28829,     0.28929,     0.29029,     0.29129,     0.29229,     0.29329,     0.29429,      0.2953,      0.2963,      0.2973,      0.2983,      0.2993,      0.3003,      0.3013,      0.3023,      0.3033,      0.3043,     0.30531,     0.30631,     0.30731,     0.30831,     0.30931,     0.31031,     0.31131,\n",
       "           0.31231,     0.31331,     0.31431,     0.31532,     0.31632,     0.31732,     0.31832,     0.31932,     0.32032,     0.32132,     0.32232,     0.32332,     0.32432,     0.32533,     0.32633,     0.32733,     0.32833,     0.32933,     0.33033,     0.33133,     0.33233,     0.33333,     0.33433,     0.33534,\n",
       "           0.33634,     0.33734,     0.33834,     0.33934,     0.34034,     0.34134,     0.34234,     0.34334,     0.34434,     0.34535,     0.34635,     0.34735,     0.34835,     0.34935,     0.35035,     0.35135,     0.35235,     0.35335,     0.35435,     0.35536,     0.35636,     0.35736,     0.35836,     0.35936,\n",
       "           0.36036,     0.36136,     0.36236,     0.36336,     0.36436,     0.36537,     0.36637,     0.36737,     0.36837,     0.36937,     0.37037,     0.37137,     0.37237,     0.37337,     0.37437,     0.37538,     0.37638,     0.37738,     0.37838,     0.37938,     0.38038,     0.38138,     0.38238,     0.38338,\n",
       "           0.38438,     0.38539,     0.38639,     0.38739,     0.38839,     0.38939,     0.39039,     0.39139,     0.39239,     0.39339,     0.39439,      0.3954,      0.3964,      0.3974,      0.3984,      0.3994,      0.4004,      0.4014,      0.4024,      0.4034,      0.4044,     0.40541,     0.40641,     0.40741,\n",
       "           0.40841,     0.40941,     0.41041,     0.41141,     0.41241,     0.41341,     0.41441,     0.41542,     0.41642,     0.41742,     0.41842,     0.41942,     0.42042,     0.42142,     0.42242,     0.42342,     0.42442,     0.42543,     0.42643,     0.42743,     0.42843,     0.42943,     0.43043,     0.43143,\n",
       "           0.43243,     0.43343,     0.43443,     0.43544,     0.43644,     0.43744,     0.43844,     0.43944,     0.44044,     0.44144,     0.44244,     0.44344,     0.44444,     0.44545,     0.44645,     0.44745,     0.44845,     0.44945,     0.45045,     0.45145,     0.45245,     0.45345,     0.45445,     0.45546,\n",
       "           0.45646,     0.45746,     0.45846,     0.45946,     0.46046,     0.46146,     0.46246,     0.46346,     0.46446,     0.46547,     0.46647,     0.46747,     0.46847,     0.46947,     0.47047,     0.47147,     0.47247,     0.47347,     0.47447,     0.47548,     0.47648,     0.47748,     0.47848,     0.47948,\n",
       "           0.48048,     0.48148,     0.48248,     0.48348,     0.48448,     0.48549,     0.48649,     0.48749,     0.48849,     0.48949,     0.49049,     0.49149,     0.49249,     0.49349,     0.49449,      0.4955,      0.4965,      0.4975,      0.4985,      0.4995,      0.5005,      0.5015,      0.5025,      0.5035,\n",
       "            0.5045,     0.50551,     0.50651,     0.50751,     0.50851,     0.50951,     0.51051,     0.51151,     0.51251,     0.51351,     0.51451,     0.51552,     0.51652,     0.51752,     0.51852,     0.51952,     0.52052,     0.52152,     0.52252,     0.52352,     0.52452,     0.52553,     0.52653,     0.52753,\n",
       "           0.52853,     0.52953,     0.53053,     0.53153,     0.53253,     0.53353,     0.53453,     0.53554,     0.53654,     0.53754,     0.53854,     0.53954,     0.54054,     0.54154,     0.54254,     0.54354,     0.54454,     0.54555,     0.54655,     0.54755,     0.54855,     0.54955,     0.55055,     0.55155,\n",
       "           0.55255,     0.55355,     0.55455,     0.55556,     0.55656,     0.55756,     0.55856,     0.55956,     0.56056,     0.56156,     0.56256,     0.56356,     0.56456,     0.56557,     0.56657,     0.56757,     0.56857,     0.56957,     0.57057,     0.57157,     0.57257,     0.57357,     0.57457,     0.57558,\n",
       "           0.57658,     0.57758,     0.57858,     0.57958,     0.58058,     0.58158,     0.58258,     0.58358,     0.58458,     0.58559,     0.58659,     0.58759,     0.58859,     0.58959,     0.59059,     0.59159,     0.59259,     0.59359,     0.59459,      0.5956,      0.5966,      0.5976,      0.5986,      0.5996,\n",
       "            0.6006,      0.6016,      0.6026,      0.6036,      0.6046,     0.60561,     0.60661,     0.60761,     0.60861,     0.60961,     0.61061,     0.61161,     0.61261,     0.61361,     0.61461,     0.61562,     0.61662,     0.61762,     0.61862,     0.61962,     0.62062,     0.62162,     0.62262,     0.62362,\n",
       "           0.62462,     0.62563,     0.62663,     0.62763,     0.62863,     0.62963,     0.63063,     0.63163,     0.63263,     0.63363,     0.63463,     0.63564,     0.63664,     0.63764,     0.63864,     0.63964,     0.64064,     0.64164,     0.64264,     0.64364,     0.64464,     0.64565,     0.64665,     0.64765,\n",
       "           0.64865,     0.64965,     0.65065,     0.65165,     0.65265,     0.65365,     0.65465,     0.65566,     0.65666,     0.65766,     0.65866,     0.65966,     0.66066,     0.66166,     0.66266,     0.66366,     0.66466,     0.66567,     0.66667,     0.66767,     0.66867,     0.66967,     0.67067,     0.67167,\n",
       "           0.67267,     0.67367,     0.67467,     0.67568,     0.67668,     0.67768,     0.67868,     0.67968,     0.68068,     0.68168,     0.68268,     0.68368,     0.68468,     0.68569,     0.68669,     0.68769,     0.68869,     0.68969,     0.69069,     0.69169,     0.69269,     0.69369,     0.69469,      0.6957,\n",
       "            0.6967,      0.6977,      0.6987,      0.6997,      0.7007,      0.7017,      0.7027,      0.7037,      0.7047,     0.70571,     0.70671,     0.70771,     0.70871,     0.70971,     0.71071,     0.71171,     0.71271,     0.71371,     0.71471,     0.71572,     0.71672,     0.71772,     0.71872,     0.71972,\n",
       "           0.72072,     0.72172,     0.72272,     0.72372,     0.72472,     0.72573,     0.72673,     0.72773,     0.72873,     0.72973,     0.73073,     0.73173,     0.73273,     0.73373,     0.73473,     0.73574,     0.73674,     0.73774,     0.73874,     0.73974,     0.74074,     0.74174,     0.74274,     0.74374,\n",
       "           0.74474,     0.74575,     0.74675,     0.74775,     0.74875,     0.74975,     0.75075,     0.75175,     0.75275,     0.75375,     0.75475,     0.75576,     0.75676,     0.75776,     0.75876,     0.75976,     0.76076,     0.76176,     0.76276,     0.76376,     0.76476,     0.76577,     0.76677,     0.76777,\n",
       "           0.76877,     0.76977,     0.77077,     0.77177,     0.77277,     0.77377,     0.77477,     0.77578,     0.77678,     0.77778,     0.77878,     0.77978,     0.78078,     0.78178,     0.78278,     0.78378,     0.78478,     0.78579,     0.78679,     0.78779,     0.78879,     0.78979,     0.79079,     0.79179,\n",
       "           0.79279,     0.79379,     0.79479,      0.7958,      0.7968,      0.7978,      0.7988,      0.7998,      0.8008,      0.8018,      0.8028,      0.8038,      0.8048,     0.80581,     0.80681,     0.80781,     0.80881,     0.80981,     0.81081,     0.81181,     0.81281,     0.81381,     0.81481,     0.81582,\n",
       "           0.81682,     0.81782,     0.81882,     0.81982,     0.82082,     0.82182,     0.82282,     0.82382,     0.82482,     0.82583,     0.82683,     0.82783,     0.82883,     0.82983,     0.83083,     0.83183,     0.83283,     0.83383,     0.83483,     0.83584,     0.83684,     0.83784,     0.83884,     0.83984,\n",
       "           0.84084,     0.84184,     0.84284,     0.84384,     0.84484,     0.84585,     0.84685,     0.84785,     0.84885,     0.84985,     0.85085,     0.85185,     0.85285,     0.85385,     0.85485,     0.85586,     0.85686,     0.85786,     0.85886,     0.85986,     0.86086,     0.86186,     0.86286,     0.86386,\n",
       "           0.86486,     0.86587,     0.86687,     0.86787,     0.86887,     0.86987,     0.87087,     0.87187,     0.87287,     0.87387,     0.87487,     0.87588,     0.87688,     0.87788,     0.87888,     0.87988,     0.88088,     0.88188,     0.88288,     0.88388,     0.88488,     0.88589,     0.88689,     0.88789,\n",
       "           0.88889,     0.88989,     0.89089,     0.89189,     0.89289,     0.89389,     0.89489,      0.8959,      0.8969,      0.8979,      0.8989,      0.8999,      0.9009,      0.9019,      0.9029,      0.9039,      0.9049,     0.90591,     0.90691,     0.90791,     0.90891,     0.90991,     0.91091,     0.91191,\n",
       "           0.91291,     0.91391,     0.91491,     0.91592,     0.91692,     0.91792,     0.91892,     0.91992,     0.92092,     0.92192,     0.92292,     0.92392,     0.92492,     0.92593,     0.92693,     0.92793,     0.92893,     0.92993,     0.93093,     0.93193,     0.93293,     0.93393,     0.93493,     0.93594,\n",
       "           0.93694,     0.93794,     0.93894,     0.93994,     0.94094,     0.94194,     0.94294,     0.94394,     0.94494,     0.94595,     0.94695,     0.94795,     0.94895,     0.94995,     0.95095,     0.95195,     0.95295,     0.95395,     0.95495,     0.95596,     0.95696,     0.95796,     0.95896,     0.95996,\n",
       "           0.96096,     0.96196,     0.96296,     0.96396,     0.96496,     0.96597,     0.96697,     0.96797,     0.96897,     0.96997,     0.97097,     0.97197,     0.97297,     0.97397,     0.97497,     0.97598,     0.97698,     0.97798,     0.97898,     0.97998,     0.98098,     0.98198,     0.98298,     0.98398,\n",
       "           0.98498,     0.98599,     0.98699,     0.98799,     0.98899,     0.98999,     0.99099,     0.99199,     0.99299,     0.99399,     0.99499,       0.996,       0.997,       0.998,       0.999,           1]), array([[    0.85075,     0.85075,     0.84693,     0.84342,     0.84036,     0.83899,     0.83807,     0.83654,     0.83562,     0.83501,     0.83403,     0.83349,     0.83211,     0.83135,       0.831,     0.83043,     0.83013,     0.82967,     0.82951,     0.82829,     0.82783,     0.82707,     0.82661,\n",
       "            0.82646,       0.826,      0.8257,     0.82508,     0.82478,     0.82447,     0.82447,     0.82369,      0.8231,     0.82249,     0.82203,     0.82195,     0.82157,     0.82142,     0.82096,     0.82065,     0.82004,     0.81958,     0.81958,     0.81958,     0.81913,     0.81882,     0.81806,\n",
       "            0.81775,      0.8175,     0.81729,     0.81683,     0.81638,     0.81622,     0.81546,     0.81515,      0.8147,      0.8147,     0.81439,     0.81424,     0.81378,     0.81332,     0.81302,     0.81271,      0.8124,     0.81192,     0.81171,     0.81149,     0.81076,     0.81011,     0.80996,\n",
       "            0.80981,     0.80965,      0.8095,      0.8095,     0.80903,     0.80859,     0.80828,     0.80781,     0.80767,      0.8069,     0.80675,     0.80645,     0.80614,     0.80599,     0.80599,     0.80584,     0.80508,     0.80461,     0.80416,       0.804,     0.80385,     0.80354,     0.80339,\n",
       "            0.80324,     0.80309,     0.80293,     0.80263,     0.80263,     0.80263,     0.80217,     0.80201,     0.80171,     0.80156,      0.8011,     0.80095,     0.80003,     0.79973,     0.79942,     0.79927,     0.79866,      0.7982,      0.7982,     0.79774,     0.79759,     0.79743,     0.79713,\n",
       "            0.79667,     0.79652,     0.79652,     0.79606,     0.79575,      0.7956,     0.79514,     0.79514,     0.79499,     0.79499,     0.79484,     0.79484,     0.79484,     0.79468,     0.79392,     0.79377,     0.79361,     0.79331,     0.79315,       0.793,     0.79285,     0.79279,     0.79255,\n",
       "            0.79239,     0.79237,     0.79222,     0.79193,     0.79178,     0.79148,     0.79132,     0.79132,     0.79102,     0.79086,     0.79086,     0.79071,     0.79071,     0.79061,     0.79056,     0.79041,      0.7901,      0.7901,      0.7898,     0.78964,     0.78934,     0.78916,     0.78898,\n",
       "            0.78873,     0.78857,     0.78857,     0.78827,     0.78811,     0.78773,     0.78766,     0.78749,      0.7873,     0.78705,     0.78687,     0.78656,     0.78634,     0.78628,     0.78598,     0.78582,     0.78567,     0.78552,     0.78539,     0.78537,     0.78537,     0.78522,     0.78508,\n",
       "            0.78506,     0.78464,     0.78445,     0.78434,      0.7843,     0.78414,     0.78368,     0.78368,      0.7834,     0.78307,     0.78307,     0.78292,      0.7826,     0.78155,     0.78155,     0.78139,     0.78139,     0.78139,     0.78109,     0.78063,     0.78017,     0.78011,     0.77987,\n",
       "            0.77987,     0.77971,     0.77971,     0.77956,     0.77925,      0.7791,     0.77909,     0.77849,     0.77849,     0.77849,     0.77803,     0.77788,     0.77773,     0.77727,     0.77713,     0.77696,     0.77681,      0.7762,     0.77605,     0.77605,     0.77605,     0.77582,     0.77523,\n",
       "            0.77513,     0.77499,     0.77482,     0.77452,     0.77437,     0.77406,     0.77391,     0.77383,      0.7736,     0.77299,     0.77292,     0.77269,     0.77253,     0.77237,     0.77178,     0.77146,     0.77116,     0.77085,     0.77024,     0.77017,     0.77009,     0.77009,     0.76995,\n",
       "            0.76963,     0.76932,     0.76932,     0.76917,     0.76856,     0.76826,     0.76824,      0.7681,      0.7678,     0.76762,     0.76734,     0.76734,     0.76734,     0.76734,     0.76719,     0.76719,     0.76703,     0.76701,     0.76673,     0.76658,     0.76602,     0.76566,      0.7652,\n",
       "            0.76485,     0.76459,     0.76443,     0.76396,     0.76383,     0.76367,     0.76352,     0.76334,     0.76322,      0.7631,     0.76281,     0.76276,     0.76237,     0.76199,     0.76153,     0.76123,     0.76123,     0.76062,     0.76062,     0.76046,     0.76031,      0.7601,     0.75973,\n",
       "            0.75942,     0.75924,     0.75899,     0.75878,     0.75848,     0.75805,     0.75787,      0.7578,     0.75756,     0.75743,     0.75695,     0.75695,     0.75665,     0.75619,     0.75608,     0.75602,     0.75559,     0.75527,     0.75512,     0.75496,     0.75443,     0.75435,     0.75405,\n",
       "             0.7539,      0.7539,     0.75359,     0.75359,     0.75344,     0.75328,     0.75313,     0.75283,     0.75283,     0.75283,     0.75221,     0.75194,     0.75191,      0.7516,     0.75145,     0.75123,     0.75099,     0.75053,     0.75023,     0.74977,     0.74942,     0.74931,     0.74901,\n",
       "            0.74885,     0.74885,     0.74855,     0.74855,     0.74824,     0.74794,     0.74774,     0.74763,     0.74748,     0.74732,     0.74717,     0.74688,     0.74626,     0.74626,     0.74599,     0.74549,     0.74515,     0.74498,     0.74468,     0.74458,     0.74427,     0.74397,     0.74318,\n",
       "            0.74305,     0.74244,     0.74239,     0.74137,     0.74091,     0.74046,     0.73995,     0.73974,     0.73938,     0.73937,     0.73896,     0.73862,     0.73831,     0.73816,      0.7377,     0.73711,     0.73682,     0.73663,     0.73655,     0.73633,     0.73627,     0.73617,     0.73588,\n",
       "            0.73575,     0.73526,     0.73516,     0.73465,     0.73465,     0.73458,     0.73438,     0.73396,     0.73327,     0.73313,     0.73281,     0.73281,     0.73274,     0.73239,     0.73236,      0.7322,     0.73175,     0.73144,     0.73098,     0.73041,     0.72977,     0.72976,       0.729,\n",
       "            0.72871,     0.72828,     0.72793,     0.72777,      0.7275,     0.72732,     0.72666,       0.726,     0.72552,     0.72521,     0.72487,     0.72456,     0.72426,     0.72409,      0.7235,     0.72316,     0.72304,     0.72284,     0.72243,     0.72229,     0.72197,     0.72129,     0.72105,\n",
       "            0.72048,     0.72013,     0.71981,     0.71952,     0.71912,      0.7189,     0.71861,     0.71858,     0.71832,     0.71789,     0.71738,     0.71738,     0.71668,     0.71655,     0.71638,     0.71601,     0.71594,     0.71586,      0.7155,     0.71509,     0.71463,     0.71341,      0.7128,\n",
       "            0.71212,     0.71173,     0.71157,     0.71093,     0.71045,     0.70956,     0.70888,     0.70852,     0.70842,     0.70792,     0.70763,     0.70696,     0.70625,     0.70554,     0.70516,     0.70501,     0.70467,     0.70411,     0.70332,     0.70302,     0.70257,     0.70174,     0.70137,\n",
       "             0.7004,     0.69982,     0.69966,     0.69938,     0.69897,     0.69877,     0.69847,     0.69787,      0.6971,     0.69685,     0.69602,     0.69523,     0.69497,     0.69463,     0.69402,     0.69346,     0.69295,     0.69207,     0.69114,     0.69016,     0.68919,     0.68845,     0.68795,\n",
       "            0.68727,     0.68678,     0.68653,     0.68624,     0.68592,     0.68496,     0.68479,     0.68393,     0.68352,     0.68332,     0.68317,     0.68269,     0.68242,     0.68148,     0.68136,     0.68062,     0.67995,     0.67911,     0.67858,     0.67828,     0.67767,     0.67686,     0.67656,\n",
       "            0.67634,      0.6757,     0.67535,     0.67451,     0.67406,     0.67347,     0.67296,     0.67247,      0.6713,     0.67054,      0.6701,     0.66929,     0.66891,     0.66828,     0.66718,     0.66667,     0.66631,      0.6661,     0.66562,     0.66495,     0.66434,     0.66403,     0.66346,\n",
       "            0.66256,     0.66195,     0.66112,     0.66022,     0.65968,     0.65857,     0.65857,     0.65776,     0.65674,      0.6557,     0.65514,     0.65483,     0.65399,     0.65307,     0.65253,     0.65193,     0.65093,     0.65063,     0.65001,     0.64942,     0.64877,     0.64798,     0.64727,\n",
       "            0.64665,     0.64577,     0.64502,     0.64443,     0.64362,     0.64299,     0.64231,     0.64172,     0.64146,      0.6403,     0.64009,     0.63963,     0.63933,     0.63816,     0.63747,     0.63701,     0.63642,     0.63589,     0.63512,     0.63459,     0.63428,      0.6334,     0.63271,\n",
       "            0.63169,     0.63123,      0.6302,     0.62951,     0.62863,     0.62789,     0.62733,     0.62685,     0.62621,     0.62558,     0.62407,     0.62291,     0.62229,     0.62146,     0.62037,     0.61928,     0.61885,     0.61841,     0.61785,     0.61652,     0.61564,     0.61529,     0.61471,\n",
       "             0.6137,     0.61313,     0.61198,     0.61151,     0.61046,      0.6097,     0.60882,     0.60744,      0.6063,      0.6052,     0.60417,     0.60354,     0.60274,     0.60174,     0.60043,     0.59945,      0.5981,      0.5978,     0.59714,     0.59655,      0.5955,     0.59434,     0.59326,\n",
       "            0.59247,     0.59147,     0.59069,     0.58921,     0.58826,     0.58689,      0.5858,     0.58538,     0.58418,     0.58323,     0.58191,      0.5809,      0.5796,     0.57804,     0.57742,     0.57665,     0.57606,     0.57544,     0.57432,      0.5731,     0.57153,     0.57012,      0.5692,\n",
       "            0.56713,     0.56534,     0.56395,     0.56283,      0.5619,     0.56143,      0.5599,     0.55899,     0.55696,     0.55613,     0.55483,     0.55375,     0.55273,     0.55201,     0.55153,     0.54996,     0.54875,     0.54763,     0.54646,     0.54523,     0.54433,     0.54287,     0.54202,\n",
       "            0.54147,     0.54079,     0.53874,     0.53757,     0.53688,     0.53591,     0.53442,     0.53315,     0.53164,     0.53067,     0.52992,     0.52912,     0.52777,     0.52674,     0.52566,     0.52312,     0.52214,     0.52031,     0.51947,     0.51838,     0.51742,     0.51524,      0.5132,\n",
       "            0.51096,     0.50986,      0.5081,     0.50544,     0.50403,     0.50268,     0.50137,       0.499,     0.49744,     0.49595,     0.49369,     0.49129,      0.4894,     0.48733,     0.48529,     0.48301,     0.48074,     0.47778,     0.47577,     0.47427,     0.47242,     0.47081,     0.46956,\n",
       "            0.46741,     0.46551,     0.46332,     0.46139,     0.45987,     0.45712,     0.45485,     0.45255,     0.45062,     0.44838,     0.44597,     0.44336,       0.441,      0.4375,     0.43557,     0.43197,     0.42946,     0.42814,     0.42594,     0.42378,     0.42092,     0.41883,      0.4161,\n",
       "            0.41364,     0.41061,     0.40861,     0.40588,     0.40222,     0.40027,     0.39708,      0.3932,     0.39113,     0.38808,     0.38552,     0.38281,     0.37966,     0.37687,     0.37236,     0.36921,     0.36625,     0.36379,     0.36202,     0.35861,     0.35666,     0.35342,     0.35034,\n",
       "            0.34728,     0.34546,     0.34094,     0.33802,      0.3357,     0.33367,     0.33068,      0.3282,     0.32538,     0.32296,     0.31939,     0.31555,     0.31231,     0.30938,     0.30528,     0.30216,     0.29951,     0.29554,     0.29158,     0.28825,     0.28364,     0.28056,      0.2762,\n",
       "            0.27202,     0.26877,     0.26516,      0.2612,     0.25652,     0.25285,     0.24845,     0.24523,     0.24188,     0.23723,      0.2334,     0.22855,     0.22458,     0.22009,     0.21551,     0.21049,     0.20533,     0.20198,     0.19754,     0.19297,     0.18878,     0.18618,     0.18176,\n",
       "            0.17884,     0.17385,     0.16952,     0.16549,     0.16076,     0.15585,     0.15172,     0.14727,     0.14283,     0.13892,     0.13452,     0.12946,     0.12456,     0.12094,     0.11729,     0.11181,     0.10853,     0.10439,     0.10152,    0.097363,     0.09336,    0.090298,    0.087317,\n",
       "           0.083197,    0.078152,     0.07588,    0.073044,    0.069963,    0.066236,     0.06394,    0.061821,    0.058716,    0.055214,    0.051989,    0.049321,    0.046461,    0.042807,    0.040095,    0.038011,    0.035838,    0.034046,    0.032342,    0.029748,    0.028427,    0.026733,    0.024564,\n",
       "           0.023226,    0.021614,    0.019803,    0.018453,    0.017385,    0.016662,     0.01537,    0.014292,    0.013261,    0.012572,    0.011395,    0.010361,    0.010147,   0.0098885,   0.0091354,   0.0088555,   0.0086656,   0.0085151,   0.0082179,   0.0079381,   0.0076503,   0.0075364,   0.0070372,\n",
       "          0.0065175,   0.0056998,   0.0053814,   0.0050633,   0.0045283,   0.0044441,   0.0043457,   0.0042529,   0.0041775,   0.0040845,   0.0039573,   0.0038669,   0.0036054,   0.0034823,   0.0034423,   0.0034023,   0.0033623,   0.0030701,   0.0027271,   0.0025198,   0.0023079,   0.0015014,   0.0014492,\n",
       "          0.0013969,   0.0011702,   0.0010467,  0.00095398,  0.00085935,  0.00076303,  0.00060365,  0.00056403,  0.00052441,  0.00048479,  0.00043935,  0.00038219,  0.00032502,  0.00026782,  0.00021062,  0.00015341,           0,           0,           0,           0,           0,           0,           0,\n",
       "                  0,           0,           0,           0,           0,           0,           0,           0,           0,           0,           0,           0,           0,           0,           0,           0,           0,           0,           0,           0,           0,           0,           0,\n",
       "                  0,           0,           0,           0,           0,           0,           0,           0,           0,           0,           0,           0,           0,           0,           0,           0,           0,           0,           0,           0,           0,           0,           0,\n",
       "                  0,           0,           0,           0,           0,           0,           0,           0,           0,           0,           0]]), 'Confidence', 'Recall']]\n",
       "fitness: 0.5870996310916193\n",
       "keys: ['metrics/precision(B)', 'metrics/recall(B)', 'metrics/mAP50(B)', 'metrics/mAP50-95(B)']\n",
       "maps: array([    0.55979])\n",
       "names: {0: 'person'}\n",
       "plot: True\n",
       "results_dict: {'metrics/precision(B)': 0.9097408079464923, 'metrics/recall(B)': 0.7560172889120214, 'metrics/mAP50(B)': 0.8329149843969604, 'metrics/mAP50-95(B)': 0.5597868140576925, 'fitness': 0.5870996310916193}\n",
       "save_dir: WindowsPath('Results/yolov8Test_model')\n",
       "speed: {'preprocess': 0.12889176724135315, 'inference': 1.7523815517246875, 'loss': 0.0005952155168313703, 'postprocess': 1.3031613793102756}\n",
       "task: 'detect'"
      ]
     },
     "execution_count": 4,
     "metadata": {},
     "output_type": "execute_result"
    }
   ],
   "source": [
    "# Load pre-trained YOLOv8 model (you can replace 'yolov8n.pt' with other variants like 'yolov8s.pt', 'yolov8m.pt', etc.)\n",
    "model = YOLO(\"yolov8n.pt\")  # yolov8n.pt is the small version, you can try others like yolov8s.pt (medium), yolov8l.pt (large)\n",
    "\n",
    "# Train the YOLOv8 model\n",
    "model.train(\n",
    "    data=\"POPYolo/POPYolo.yaml\",  # Path to your dataset.yaml\n",
    "    epochs=10,                                          # Number of epochs to train\n",
    "    #batch=8,                                      # Batch size (adjust based on your system's memory)\n",
    "    imgsz=640,                                          # Image size (640x640 is the typical size)\n",
    "    # workers=4,                                          # Number of workers (use more if you have sufficient CPU power)\n",
    "    project=\"Results\",     # Directory to save results (logs, weights, etc.)\n",
    "    name=\"yolov8Test_model\",                                # Name for this training run\n",
    "    exist_ok=True,                                      # Overwrite existing results folder if any\n",
    ")"
   ]
  },
  {
   "cell_type": "code",
   "execution_count": 5,
   "id": "3cc4ee93-f846-415a-af6e-5afc0e24a4d5",
   "metadata": {},
   "outputs": [
    {
     "name": "stdout",
     "output_type": "stream",
     "text": [
      "Ultralytics 8.3.78  Python-3.12.9 torch-2.5.1+cu124 CUDA:0 (NVIDIA GeForce GTX 1660 Ti, 6144MiB)\n",
      "Model summary (fused): 72 layers, 3,005,843 parameters, 0 gradients, 8.1 GFLOPs\n"
     ]
    },
    {
     "name": "stderr",
     "output_type": "stream",
     "text": [
      "\u001b[34m\u001b[1mval: \u001b[0mScanning C:\\Users\\crazy\\OneDrive\\Desktop\\Coding\\Projects\\HackAI\\POPYolo\\labels\\val.cache... 2320 images, 0 backgrounds, 0 corrupt: 100%|██████████| 2320/2320 [00:00<?, ?it/\u001b[0m\n",
      "                 Class     Images  Instances      Box(P          R      mAP50  mAP50-95): 100%|██████████| 145/145 [00:16<00:00,  9.04it/s]\n"
     ]
    },
    {
     "name": "stdout",
     "output_type": "stream",
     "text": [
      "                   all       2320       6546       0.91      0.756      0.833       0.56\n",
      "Speed: 0.1ms preprocess, 1.8ms inference, 0.0ms loss, 0.9ms postprocess per image\n",
      "Results saved to \u001b[1mruns\\detect\\val\u001b[0m\n",
      "0.5597868140576925\n",
      "0.8329149843969604\n",
      "0.6616022500871386\n",
      "[    0.55979]\n"
     ]
    }
   ],
   "source": [
    "\n",
    "bestModel = YOLO(\"Results/yolov8Test_model/weights/best.pt\")\n",
    "metrics = bestModel.val(\n",
    "    data = \"POPYolo/POPYolo.yaml\"\n",
    ")\n",
    "\n"
   ]
  },
  {
   "cell_type": "code",
   "execution_count": 6,
   "id": "9fba4704-5027-49bf-a742-1c0ff01ac214",
   "metadata": {},
   "outputs": [
    {
     "name": "stdout",
     "output_type": "stream",
     "text": [
      "0.5597868140576925\n",
      "0.8329149843969604\n",
      "0.6616022500871386\n",
      "[    0.55979]\n"
     ]
    }
   ],
   "source": [
    "print(metrics.box.map)  # map50-95\n",
    "print(metrics.box.map50)  # map50\n",
    "print(metrics.box.map75)  # map75\n",
    "print(metrics.box.maps)  # a list contains map50-95 of each category"
   ]
  },
  {
   "cell_type": "code",
   "execution_count": 13,
   "id": "bef6169d-a0c0-4dd0-a741-5c53deac87a0",
   "metadata": {},
   "outputs": [],
   "source": [
    "from glob import glob\n",
    "\n",
    "testImages = glob(\"POPClean/test/JPEGImages/*.JPG\")"
   ]
  },
  {
   "cell_type": "code",
   "execution_count": 16,
   "id": "6152331f-9345-4ce6-9688-5d2e1820f9a0",
   "metadata": {},
   "outputs": [],
   "source": [
    "import random\n",
    "from PIL import Image"
   ]
  },
  {
   "cell_type": "code",
   "execution_count": null,
   "id": "b72343d7-f16c-4b11-ac74-ab7a58174463",
   "metadata": {},
   "outputs": [],
   "source": [
    "# Run inference on 'bus.jpg'\n",
    "results = bestModel(random.sample(testImages, 15))  # results list\n",
    "\n",
    "# Visualize the results\n",
    "for i, r in enumerate(results):\n",
    "    # Plot results image\n",
    "    im_bgr = r.plot()  # BGR-order numpy array\n",
    "    im_rgb = Image.fromarray(im_bgr[..., ::-1])  # RGB-order PIL image\n",
    "\n",
    "    # Show results to screen (in supported environments)\n",
    "    r.show()\n",
    "\n",
    "    # Save results to disk\n",
    "    r.save(filename=f\"results{i}.jpg\")"
   ]
  },
  {
   "cell_type": "code",
   "execution_count": null,
   "id": "3a10cc73-e295-4c6d-b8d6-8ccb5923410b",
   "metadata": {},
   "outputs": [],
   "source": []
  }
 ],
 "metadata": {
  "kernelspec": {
   "display_name": "Python 3 (ipykernel)",
   "language": "python",
   "name": "python3"
  },
  "language_info": {
   "codemirror_mode": {
    "name": "ipython",
    "version": 3
   },
   "file_extension": ".py",
   "mimetype": "text/x-python",
   "name": "python",
   "nbconvert_exporter": "python",
   "pygments_lexer": "ipython3",
   "version": "3.12.9"
  }
 },
 "nbformat": 4,
 "nbformat_minor": 5
}

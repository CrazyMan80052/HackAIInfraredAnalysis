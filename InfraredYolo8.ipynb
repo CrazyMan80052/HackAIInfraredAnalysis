{
 "cells": [
  {
   "cell_type": "code",
   "execution_count": 1,
   "id": "3bffc32d-b56f-4459-83eb-3b457340d4c8",
   "metadata": {},
   "outputs": [],
   "source": [
    "# imports for the function and conversion\n",
    "import os\n",
    "from collections import defaultdict\n",
    "import json"
   ]
  },
  {
   "cell_type": "code",
   "execution_count": 2,
   "id": "da765bc0-9085-468d-8456-96db345dca8c",
   "metadata": {},
   "outputs": [],
   "source": [
    "# Converts a given COCO formatted json to YOLO formatted labels in a particular labelsFolder\n",
    "def convert_to_YOLO(jsonPath, labelsFolder):\n",
    "    with open(jsonPath, 'r') as f:\n",
    "        data = json.load(f)\n",
    "    \n",
    "    # Group annotations by image_id for faster lookup\n",
    "    annotations_by_image = defaultdict(list)\n",
    "    for annotation in data['annotations']:\n",
    "        annotations_by_image[annotation['image_id']].append(annotation)\n",
    "    \n",
    "    # Process each image\n",
    "    for image in data['images']:\n",
    "        image_id = image['id']\n",
    "        img_width, img_height = image['width'], image['height']\n",
    "        file_name = os.path.splitext(image['file_name'])[0]  # Remove extension\n",
    "    \n",
    "        # Open annotation file only once\n",
    "        with open(f\"{labelsFolder}/{file_name}.txt\", \"w\") as label_file:\n",
    "            for annotation in annotations_by_image.get(image_id, []):  # Lookup in preprocessed dict\n",
    "                category_id = int(annotation['category_id']) - 1\n",
    "                x_min, y_min, box_width, box_height = annotation['bbox']\n",
    "    \n",
    "                # Convert to YOLO format (class x center y center box width box height)\n",
    "                x_center = (x_min + box_width / 2) / img_width\n",
    "                y_center = (y_min + box_height / 2) / img_height\n",
    "                norm_width = box_width / img_width\n",
    "                norm_height = box_height / img_height\n",
    "    \n",
    "                # Write to label file\n",
    "                label_file.write(f\"{category_id} {x_center} {y_center} {norm_width} {norm_height}\\n\")\n",
    "    print(\"COCO annotations converted to YOLO format!\")"
   ]
  },
  {
   "cell_type": "code",
   "execution_count": 5,
   "id": "efbd8278-70bd-4775-9bce-5dbe15eed0fd",
   "metadata": {},
   "outputs": [
    {
     "name": "stdout",
     "output_type": "stream",
     "text": [
      "COCO annotations converted to YOLO format!\n"
     ]
    }
   ],
   "source": [
    "# Load COCO annotations and convert them to Yolo\n",
    "annotations_file = 'POPClean/val/Annotations/val.json'\n",
    "output_dir = 'POPYolo/labels/val'\n",
    "\n",
    "convert_to_YOLO(annotations_file, output_dir)"
   ]
  },
  {
   "cell_type": "code",
   "execution_count": 1,
   "id": "03f3c65a-d926-491f-99c3-5abcb66deeb2",
   "metadata": {},
   "outputs": [],
   "source": [
    "from ultralytics import YOLO"
   ]
  },
  {
   "cell_type": "code",
   "execution_count": 2,
   "id": "f21964bd-a910-4dcd-922f-9c215f6f66ae",
   "metadata": {},
   "outputs": [],
   "source": [
    "import torch\n",
    "torch.cuda.empty_cache()"
   ]
  },
  {
   "cell_type": "code",
   "execution_count": 9,
   "id": "4b1b7cd2-cf36-4598-862f-dfef92a3b5bb",
   "metadata": {
    "scrolled": true
   },
   "outputs": [
    {
     "name": "stdout",
     "output_type": "stream",
     "text": [
      "Ultralytics 8.3.78  Python-3.12.9 torch-2.5.1+cu124 CUDA:0 (NVIDIA GeForce GTX 1660 Ti, 6144MiB)\n",
      "\u001b[34m\u001b[1mengine\\trainer: \u001b[0mtask=detect, mode=train, model=yolov8n.pt, data=POPYolo/POPYolo.yaml, epochs=20, time=None, patience=100, batch=16, imgsz=640, save=True, save_period=-1, cache=False, device=None, workers=8, project=Try2, name=yolov8Test_model, exist_ok=True, pretrained=True, optimizer=auto, verbose=True, seed=0, deterministic=True, single_cls=False, rect=False, cos_lr=False, close_mosaic=10, resume=False, amp=True, fraction=1.0, profile=False, freeze=None, multi_scale=False, overlap_mask=True, mask_ratio=4, dropout=0.0, val=True, split=val, save_json=False, save_hybrid=False, conf=None, iou=0.7, max_det=300, half=False, dnn=False, plots=True, source=None, vid_stride=1, stream_buffer=False, visualize=False, augment=False, agnostic_nms=False, classes=None, retina_masks=False, embed=None, show=False, save_frames=False, save_txt=False, save_conf=False, save_crop=False, show_labels=True, show_conf=True, show_boxes=True, line_width=None, format=torchscript, keras=False, optimize=False, int8=False, dynamic=False, simplify=True, opset=None, workspace=None, nms=False, lr0=0.01, lrf=0.01, momentum=0.937, weight_decay=0.0005, warmup_epochs=3.0, warmup_momentum=0.8, warmup_bias_lr=0.1, box=7.5, cls=0.5, dfl=1.5, pose=12.0, kobj=1.0, nbs=64, hsv_h=0.015, hsv_s=0.7, hsv_v=0.4, degrees=0.0, translate=0.1, scale=0.5, shear=0.0, perspective=0.0, flipud=0.0, fliplr=0.5, bgr=0.0, mosaic=1.0, mixup=0.0, copy_paste=0.0, copy_paste_mode=flip, auto_augment=randaugment, erasing=0.4, crop_fraction=1.0, cfg=None, tracker=botsort.yaml, save_dir=Try2\\yolov8Test_model\n",
      "Overriding model.yaml nc=80 with nc=1\n",
      "\n",
      "                   from  n    params  module                                       arguments                     \n",
      "  0                  -1  1       464  ultralytics.nn.modules.conv.Conv             [3, 16, 3, 2]                 \n",
      "  1                  -1  1      4672  ultralytics.nn.modules.conv.Conv             [16, 32, 3, 2]                \n",
      "  2                  -1  1      7360  ultralytics.nn.modules.block.C2f             [32, 32, 1, True]             \n",
      "  3                  -1  1     18560  ultralytics.nn.modules.conv.Conv             [32, 64, 3, 2]                \n",
      "  4                  -1  2     49664  ultralytics.nn.modules.block.C2f             [64, 64, 2, True]             \n",
      "  5                  -1  1     73984  ultralytics.nn.modules.conv.Conv             [64, 128, 3, 2]               \n",
      "  6                  -1  2    197632  ultralytics.nn.modules.block.C2f             [128, 128, 2, True]           \n",
      "  7                  -1  1    295424  ultralytics.nn.modules.conv.Conv             [128, 256, 3, 2]              \n",
      "  8                  -1  1    460288  ultralytics.nn.modules.block.C2f             [256, 256, 1, True]           \n",
      "  9                  -1  1    164608  ultralytics.nn.modules.block.SPPF            [256, 256, 5]                 \n",
      " 10                  -1  1         0  torch.nn.modules.upsampling.Upsample         [None, 2, 'nearest']          \n",
      " 11             [-1, 6]  1         0  ultralytics.nn.modules.conv.Concat           [1]                           \n",
      " 12                  -1  1    148224  ultralytics.nn.modules.block.C2f             [384, 128, 1]                 \n",
      " 13                  -1  1         0  torch.nn.modules.upsampling.Upsample         [None, 2, 'nearest']          \n",
      " 14             [-1, 4]  1         0  ultralytics.nn.modules.conv.Concat           [1]                           \n",
      " 15                  -1  1     37248  ultralytics.nn.modules.block.C2f             [192, 64, 1]                  \n",
      " 16                  -1  1     36992  ultralytics.nn.modules.conv.Conv             [64, 64, 3, 2]                \n",
      " 17            [-1, 12]  1         0  ultralytics.nn.modules.conv.Concat           [1]                           \n",
      " 18                  -1  1    123648  ultralytics.nn.modules.block.C2f             [192, 128, 1]                 \n",
      " 19                  -1  1    147712  ultralytics.nn.modules.conv.Conv             [128, 128, 3, 2]              \n",
      " 20             [-1, 9]  1         0  ultralytics.nn.modules.conv.Concat           [1]                           \n",
      " 21                  -1  1    493056  ultralytics.nn.modules.block.C2f             [384, 256, 1]                 \n",
      " 22        [15, 18, 21]  1    751507  ultralytics.nn.modules.head.Detect           [1, [64, 128, 256]]           \n",
      "Model summary: 129 layers, 3,011,043 parameters, 3,011,027 gradients, 8.2 GFLOPs\n",
      "\n",
      "Transferred 319/355 items from pretrained weights\n",
      "Freezing layer 'model.22.dfl.conv.weight'\n",
      "\u001b[34m\u001b[1mAMP: \u001b[0mchecks failed . AMP training on NVIDIA GeForce GTX 1660 Ti GPU may cause NaN losses or zero-mAP results, so AMP will be disabled during training.\n"
     ]
    },
    {
     "name": "stderr",
     "output_type": "stream",
     "text": [
      "\u001b[34m\u001b[1mtrain: \u001b[0mScanning C:\\Users\\crazy\\OneDrive\\Desktop\\Coding\\Projects\\HackAI\\POPYolo\\labels\\train.cache... 5548 images, 0 backgrounds, 0 corrupt: 100%|██████████| 5548/5548 [00:00<?, \u001b[0m\n",
      "\u001b[34m\u001b[1mval: \u001b[0mScanning C:\\Users\\crazy\\OneDrive\\Desktop\\Coding\\Projects\\HackAI\\POPYolo\\labels\\val.cache... 2320 images, 0 backgrounds, 0 corrupt: 100%|██████████| 2320/2320 [00:00<?, ?it/\u001b[0m\n"
     ]
    },
    {
     "name": "stdout",
     "output_type": "stream",
     "text": [
      "Plotting labels to Try2\\yolov8Test_model\\labels.jpg... \n",
      "\u001b[34m\u001b[1moptimizer:\u001b[0m 'optimizer=auto' found, ignoring 'lr0=0.01' and 'momentum=0.937' and determining best 'optimizer', 'lr0' and 'momentum' automatically... \n",
      "\u001b[34m\u001b[1moptimizer:\u001b[0m AdamW(lr=0.002, momentum=0.9) with parameter groups 57 weight(decay=0.0), 64 weight(decay=0.0005), 63 bias(decay=0.0)\n",
      "Image sizes 640 train, 640 val\n",
      "Using 8 dataloader workers\n",
      "Logging results to \u001b[1mTry2\\yolov8Test_model\u001b[0m\n",
      "Starting training for 20 epochs...\n",
      "\n",
      "      Epoch    GPU_mem   box_loss   cls_loss   dfl_loss  Instances       Size\n"
     ]
    },
    {
     "name": "stderr",
     "output_type": "stream",
     "text": [
      "       1/20      3.62G      1.427      1.414     0.9506         71        640: 100%|██████████| 347/347 [01:41<00:00,  3.43it/s]\n",
      "                 Class     Images  Instances      Box(P          R      mAP50  mAP50-95): 100%|██████████| 73/73 [00:20<00:00,  3.50it/s]\n"
     ]
    },
    {
     "name": "stdout",
     "output_type": "stream",
     "text": [
      "                   all       2320       6546      0.836      0.735      0.788      0.483\n",
      "\n",
      "      Epoch    GPU_mem   box_loss   cls_loss   dfl_loss  Instances       Size\n"
     ]
    },
    {
     "name": "stderr",
     "output_type": "stream",
     "text": [
      "       2/20      3.67G      1.303     0.7788     0.9319         59        640: 100%|██████████| 347/347 [01:38<00:00,  3.54it/s]\n",
      "                 Class     Images  Instances      Box(P          R      mAP50  mAP50-95): 100%|██████████| 73/73 [00:20<00:00,  3.60it/s]\n"
     ]
    },
    {
     "name": "stdout",
     "output_type": "stream",
     "text": [
      "                   all       2320       6546      0.879      0.769      0.837      0.543\n",
      "\n",
      "      Epoch    GPU_mem   box_loss   cls_loss   dfl_loss  Instances       Size\n"
     ]
    },
    {
     "name": "stderr",
     "output_type": "stream",
     "text": [
      "       3/20      3.63G       1.27     0.7043     0.9255         55        640: 100%|██████████| 347/347 [01:36<00:00,  3.58it/s]\n",
      "                 Class     Images  Instances      Box(P          R      mAP50  mAP50-95): 100%|██████████| 73/73 [00:20<00:00,  3.61it/s]"
     ]
    },
    {
     "name": "stdout",
     "output_type": "stream",
     "text": [
      "                   all       2320       6546      0.875      0.756      0.831       0.54\n"
     ]
    },
    {
     "name": "stderr",
     "output_type": "stream",
     "text": [
      "\n"
     ]
    },
    {
     "name": "stdout",
     "output_type": "stream",
     "text": [
      "\n",
      "      Epoch    GPU_mem   box_loss   cls_loss   dfl_loss  Instances       Size\n"
     ]
    },
    {
     "name": "stderr",
     "output_type": "stream",
     "text": [
      "       4/20      3.63G      1.235     0.6706     0.9154         65        640: 100%|██████████| 347/347 [01:36<00:00,  3.59it/s]\n",
      "                 Class     Images  Instances      Box(P          R      mAP50  mAP50-95): 100%|██████████| 73/73 [00:20<00:00,  3.62it/s]\n"
     ]
    },
    {
     "name": "stdout",
     "output_type": "stream",
     "text": [
      "                   all       2320       6546      0.861      0.751      0.828      0.515\n",
      "\n",
      "      Epoch    GPU_mem   box_loss   cls_loss   dfl_loss  Instances       Size\n"
     ]
    },
    {
     "name": "stderr",
     "output_type": "stream",
     "text": [
      "       5/20      3.63G      1.195     0.6298     0.9095         81        640: 100%|██████████| 347/347 [01:36<00:00,  3.58it/s]\n",
      "                 Class     Images  Instances      Box(P          R      mAP50  mAP50-95): 100%|██████████| 73/73 [00:21<00:00,  3.41it/s]"
     ]
    },
    {
     "name": "stdout",
     "output_type": "stream",
     "text": [
      "                   all       2320       6546      0.886      0.753      0.832      0.538\n"
     ]
    },
    {
     "name": "stderr",
     "output_type": "stream",
     "text": [
      "\n"
     ]
    },
    {
     "name": "stdout",
     "output_type": "stream",
     "text": [
      "\n",
      "      Epoch    GPU_mem   box_loss   cls_loss   dfl_loss  Instances       Size\n"
     ]
    },
    {
     "name": "stderr",
     "output_type": "stream",
     "text": [
      "       6/20      3.63G      1.165     0.6054     0.9017         64        640: 100%|██████████| 347/347 [01:37<00:00,  3.57it/s]\n",
      "                 Class     Images  Instances      Box(P          R      mAP50  mAP50-95): 100%|██████████| 73/73 [00:20<00:00,  3.60it/s]"
     ]
    },
    {
     "name": "stdout",
     "output_type": "stream",
     "text": [
      "                   all       2320       6546      0.818      0.712      0.768      0.502\n"
     ]
    },
    {
     "name": "stderr",
     "output_type": "stream",
     "text": [
      "\n"
     ]
    },
    {
     "name": "stdout",
     "output_type": "stream",
     "text": [
      "\n",
      "      Epoch    GPU_mem   box_loss   cls_loss   dfl_loss  Instances       Size\n"
     ]
    },
    {
     "name": "stderr",
     "output_type": "stream",
     "text": [
      "       7/20      3.63G      1.145     0.5862        0.9         88        640: 100%|██████████| 347/347 [01:37<00:00,  3.58it/s]\n",
      "                 Class     Images  Instances      Box(P          R      mAP50  mAP50-95): 100%|██████████| 73/73 [00:20<00:00,  3.60it/s]"
     ]
    },
    {
     "name": "stdout",
     "output_type": "stream",
     "text": [
      "                   all       2320       6546      0.851      0.744      0.823      0.544\n"
     ]
    },
    {
     "name": "stderr",
     "output_type": "stream",
     "text": [
      "\n"
     ]
    },
    {
     "name": "stdout",
     "output_type": "stream",
     "text": [
      "\n",
      "      Epoch    GPU_mem   box_loss   cls_loss   dfl_loss  Instances       Size\n"
     ]
    },
    {
     "name": "stderr",
     "output_type": "stream",
     "text": [
      "       8/20      3.62G       1.13     0.5677     0.8959         46        640: 100%|██████████| 347/347 [01:37<00:00,  3.55it/s]\n",
      "                 Class     Images  Instances      Box(P          R      mAP50  mAP50-95): 100%|██████████| 73/73 [00:20<00:00,  3.64it/s]"
     ]
    },
    {
     "name": "stdout",
     "output_type": "stream",
     "text": [
      "                   all       2320       6546      0.891      0.764      0.845      0.586\n"
     ]
    },
    {
     "name": "stderr",
     "output_type": "stream",
     "text": [
      "\n"
     ]
    },
    {
     "name": "stdout",
     "output_type": "stream",
     "text": [
      "\n",
      "      Epoch    GPU_mem   box_loss   cls_loss   dfl_loss  Instances       Size\n"
     ]
    },
    {
     "name": "stderr",
     "output_type": "stream",
     "text": [
      "       9/20      3.62G      1.113     0.5538     0.8934         76        640: 100%|██████████| 347/347 [01:36<00:00,  3.58it/s]\n",
      "                 Class     Images  Instances      Box(P          R      mAP50  mAP50-95): 100%|██████████| 73/73 [00:20<00:00,  3.58it/s]"
     ]
    },
    {
     "name": "stdout",
     "output_type": "stream",
     "text": [
      "                   all       2320       6546      0.898      0.766      0.844      0.584\n"
     ]
    },
    {
     "name": "stderr",
     "output_type": "stream",
     "text": [
      "\n"
     ]
    },
    {
     "name": "stdout",
     "output_type": "stream",
     "text": [
      "\n",
      "      Epoch    GPU_mem   box_loss   cls_loss   dfl_loss  Instances       Size\n"
     ]
    },
    {
     "name": "stderr",
     "output_type": "stream",
     "text": [
      "      10/20      3.63G      1.093     0.5352     0.8876         60        640: 100%|██████████| 347/347 [01:36<00:00,  3.60it/s]\n",
      "                 Class     Images  Instances      Box(P          R      mAP50  mAP50-95): 100%|██████████| 73/73 [00:20<00:00,  3.64it/s]"
     ]
    },
    {
     "name": "stdout",
     "output_type": "stream",
     "text": [
      "                   all       2320       6546      0.898      0.779      0.843       0.59\n"
     ]
    },
    {
     "name": "stderr",
     "output_type": "stream",
     "text": [
      "\n"
     ]
    },
    {
     "name": "stdout",
     "output_type": "stream",
     "text": [
      "Closing dataloader mosaic\n",
      "\n",
      "      Epoch    GPU_mem   box_loss   cls_loss   dfl_loss  Instances       Size\n"
     ]
    },
    {
     "name": "stderr",
     "output_type": "stream",
     "text": [
      "      11/20      3.59G      1.065     0.5271     0.8999         38        640: 100%|██████████| 347/347 [01:36<00:00,  3.61it/s]\n",
      "                 Class     Images  Instances      Box(P          R      mAP50  mAP50-95): 100%|██████████| 73/73 [00:19<00:00,  3.68it/s]"
     ]
    },
    {
     "name": "stdout",
     "output_type": "stream",
     "text": [
      "                   all       2320       6546      0.897       0.79      0.857      0.572\n"
     ]
    },
    {
     "name": "stderr",
     "output_type": "stream",
     "text": [
      "\n"
     ]
    },
    {
     "name": "stdout",
     "output_type": "stream",
     "text": [
      "\n",
      "      Epoch    GPU_mem   box_loss   cls_loss   dfl_loss  Instances       Size\n"
     ]
    },
    {
     "name": "stderr",
     "output_type": "stream",
     "text": [
      "      12/20       3.6G      1.044     0.5063     0.8966         44        640: 100%|██████████| 347/347 [01:36<00:00,  3.60it/s]\n",
      "                 Class     Images  Instances      Box(P          R      mAP50  mAP50-95): 100%|██████████| 73/73 [00:19<00:00,  3.66it/s]"
     ]
    },
    {
     "name": "stdout",
     "output_type": "stream",
     "text": [
      "                   all       2320       6546       0.87      0.746      0.831      0.573\n"
     ]
    },
    {
     "name": "stderr",
     "output_type": "stream",
     "text": [
      "\n"
     ]
    },
    {
     "name": "stdout",
     "output_type": "stream",
     "text": [
      "\n",
      "      Epoch    GPU_mem   box_loss   cls_loss   dfl_loss  Instances       Size\n"
     ]
    },
    {
     "name": "stderr",
     "output_type": "stream",
     "text": [
      "      13/20      3.63G      1.028     0.4963      0.891         39        640: 100%|██████████| 347/347 [01:36<00:00,  3.61it/s]\n",
      "                 Class     Images  Instances      Box(P          R      mAP50  mAP50-95): 100%|██████████| 73/73 [00:20<00:00,  3.62it/s]"
     ]
    },
    {
     "name": "stdout",
     "output_type": "stream",
     "text": [
      "                   all       2320       6546      0.887       0.77      0.855      0.586\n"
     ]
    },
    {
     "name": "stderr",
     "output_type": "stream",
     "text": [
      "\n"
     ]
    },
    {
     "name": "stdout",
     "output_type": "stream",
     "text": [
      "\n",
      "      Epoch    GPU_mem   box_loss   cls_loss   dfl_loss  Instances       Size\n"
     ]
    },
    {
     "name": "stderr",
     "output_type": "stream",
     "text": [
      "      14/20      3.59G      1.019     0.4848     0.8884         35        640: 100%|██████████| 347/347 [01:36<00:00,  3.61it/s]\n",
      "                 Class     Images  Instances      Box(P          R      mAP50  mAP50-95): 100%|██████████| 73/73 [00:20<00:00,  3.53it/s]\n"
     ]
    },
    {
     "name": "stdout",
     "output_type": "stream",
     "text": [
      "                   all       2320       6546      0.886      0.795      0.858      0.608\n",
      "\n",
      "      Epoch    GPU_mem   box_loss   cls_loss   dfl_loss  Instances       Size\n"
     ]
    },
    {
     "name": "stderr",
     "output_type": "stream",
     "text": [
      "      15/20      3.59G      1.006     0.4763     0.8885         40        640: 100%|██████████| 347/347 [01:37<00:00,  3.55it/s]\n",
      "                 Class     Images  Instances      Box(P          R      mAP50  mAP50-95): 100%|██████████| 73/73 [00:20<00:00,  3.58it/s]"
     ]
    },
    {
     "name": "stdout",
     "output_type": "stream",
     "text": [
      "                   all       2320       6546      0.872      0.765      0.841      0.594\n"
     ]
    },
    {
     "name": "stderr",
     "output_type": "stream",
     "text": [
      "\n"
     ]
    },
    {
     "name": "stdout",
     "output_type": "stream",
     "text": [
      "\n",
      "      Epoch    GPU_mem   box_loss   cls_loss   dfl_loss  Instances       Size\n"
     ]
    },
    {
     "name": "stderr",
     "output_type": "stream",
     "text": [
      "      16/20       3.6G     0.9911     0.4641     0.8821         34        640: 100%|██████████| 347/347 [01:35<00:00,  3.62it/s]\n",
      "                 Class     Images  Instances      Box(P          R      mAP50  mAP50-95): 100%|██████████| 73/73 [00:20<00:00,  3.64it/s]"
     ]
    },
    {
     "name": "stdout",
     "output_type": "stream",
     "text": [
      "                   all       2320       6546      0.873      0.787      0.836      0.586\n"
     ]
    },
    {
     "name": "stderr",
     "output_type": "stream",
     "text": [
      "\n"
     ]
    },
    {
     "name": "stdout",
     "output_type": "stream",
     "text": [
      "\n",
      "      Epoch    GPU_mem   box_loss   cls_loss   dfl_loss  Instances       Size\n"
     ]
    },
    {
     "name": "stderr",
     "output_type": "stream",
     "text": [
      "      17/20      3.62G     0.9759     0.4529     0.8808         34        640: 100%|██████████| 347/347 [01:38<00:00,  3.51it/s]\n",
      "                 Class     Images  Instances      Box(P          R      mAP50  mAP50-95): 100%|██████████| 73/73 [00:22<00:00,  3.30it/s]"
     ]
    },
    {
     "name": "stdout",
     "output_type": "stream",
     "text": [
      "                   all       2320       6546      0.889      0.801      0.863      0.606\n"
     ]
    },
    {
     "name": "stderr",
     "output_type": "stream",
     "text": [
      "\n"
     ]
    },
    {
     "name": "stdout",
     "output_type": "stream",
     "text": [
      "\n",
      "      Epoch    GPU_mem   box_loss   cls_loss   dfl_loss  Instances       Size\n"
     ]
    },
    {
     "name": "stderr",
     "output_type": "stream",
     "text": [
      "      18/20       3.6G     0.9606     0.4425     0.8807         44        640: 100%|██████████| 347/347 [01:42<00:00,  3.39it/s]\n",
      "                 Class     Images  Instances      Box(P          R      mAP50  mAP50-95): 100%|██████████| 73/73 [00:20<00:00,  3.56it/s]"
     ]
    },
    {
     "name": "stdout",
     "output_type": "stream",
     "text": [
      "                   all       2320       6546      0.903      0.787      0.859      0.613\n"
     ]
    },
    {
     "name": "stderr",
     "output_type": "stream",
     "text": [
      "\n"
     ]
    },
    {
     "name": "stdout",
     "output_type": "stream",
     "text": [
      "\n",
      "      Epoch    GPU_mem   box_loss   cls_loss   dfl_loss  Instances       Size\n"
     ]
    },
    {
     "name": "stderr",
     "output_type": "stream",
     "text": [
      "      19/20      3.62G     0.9419     0.4331      0.873         38        640: 100%|██████████| 347/347 [01:38<00:00,  3.51it/s]\n",
      "                 Class     Images  Instances      Box(P          R      mAP50  mAP50-95): 100%|██████████| 73/73 [00:21<00:00,  3.47it/s]"
     ]
    },
    {
     "name": "stdout",
     "output_type": "stream",
     "text": [
      "                   all       2320       6546      0.903      0.784      0.855      0.607\n"
     ]
    },
    {
     "name": "stderr",
     "output_type": "stream",
     "text": [
      "\n"
     ]
    },
    {
     "name": "stdout",
     "output_type": "stream",
     "text": [
      "\n",
      "      Epoch    GPU_mem   box_loss   cls_loss   dfl_loss  Instances       Size\n"
     ]
    },
    {
     "name": "stderr",
     "output_type": "stream",
     "text": [
      "      20/20       3.6G     0.9326     0.4226     0.8722         31        640: 100%|██████████| 347/347 [01:39<00:00,  3.47it/s]\n",
      "                 Class     Images  Instances      Box(P          R      mAP50  mAP50-95): 100%|██████████| 73/73 [00:21<00:00,  3.45it/s]"
     ]
    },
    {
     "name": "stdout",
     "output_type": "stream",
     "text": [
      "                   all       2320       6546      0.892      0.793      0.856      0.609\n"
     ]
    },
    {
     "name": "stderr",
     "output_type": "stream",
     "text": [
      "\n"
     ]
    },
    {
     "name": "stdout",
     "output_type": "stream",
     "text": [
      "\n",
      "20 epochs completed in 0.668 hours.\n",
      "Optimizer stripped from Try2\\yolov8Test_model\\weights\\last.pt, 6.2MB\n",
      "Optimizer stripped from Try2\\yolov8Test_model\\weights\\best.pt, 6.2MB\n",
      "\n",
      "Validating Try2\\yolov8Test_model\\weights\\best.pt...\n",
      "Ultralytics 8.3.78  Python-3.12.9 torch-2.5.1+cu124 CUDA:0 (NVIDIA GeForce GTX 1660 Ti, 6144MiB)\n",
      "Model summary (fused): 72 layers, 3,005,843 parameters, 0 gradients, 8.1 GFLOPs\n"
     ]
    },
    {
     "name": "stderr",
     "output_type": "stream",
     "text": [
      "                 Class     Images  Instances      Box(P          R      mAP50  mAP50-95): 100%|██████████| 73/73 [00:21<00:00,  3.44it/s]\n"
     ]
    },
    {
     "name": "stdout",
     "output_type": "stream",
     "text": [
      "                   all       2320       6546      0.905      0.786      0.859      0.612\n",
      "Speed: 0.2ms preprocess, 3.1ms inference, 0.0ms loss, 1.2ms postprocess per image\n",
      "Results saved to \u001b[1mTry2\\yolov8Test_model\u001b[0m\n"
     ]
    },
    {
     "data": {
      "text/plain": [
       "ultralytics.utils.metrics.DetMetrics object with attributes:\n",
       "\n",
       "ap_class_index: array([0])\n",
       "box: ultralytics.utils.metrics.Metric object\n",
       "confusion_matrix: <ultralytics.utils.metrics.ConfusionMatrix object at 0x000002BF0BBC1CD0>\n",
       "curves: ['Precision-Recall(B)', 'F1-Confidence(B)', 'Precision-Confidence(B)', 'Recall-Confidence(B)']\n",
       "curves_results: [[array([          0,    0.001001,    0.002002,    0.003003,    0.004004,    0.005005,    0.006006,    0.007007,    0.008008,    0.009009,     0.01001,    0.011011,    0.012012,    0.013013,    0.014014,    0.015015,    0.016016,    0.017017,    0.018018,    0.019019,     0.02002,    0.021021,    0.022022,    0.023023,\n",
       "          0.024024,    0.025025,    0.026026,    0.027027,    0.028028,    0.029029,     0.03003,    0.031031,    0.032032,    0.033033,    0.034034,    0.035035,    0.036036,    0.037037,    0.038038,    0.039039,     0.04004,    0.041041,    0.042042,    0.043043,    0.044044,    0.045045,    0.046046,    0.047047,\n",
       "          0.048048,    0.049049,     0.05005,    0.051051,    0.052052,    0.053053,    0.054054,    0.055055,    0.056056,    0.057057,    0.058058,    0.059059,     0.06006,    0.061061,    0.062062,    0.063063,    0.064064,    0.065065,    0.066066,    0.067067,    0.068068,    0.069069,     0.07007,    0.071071,\n",
       "          0.072072,    0.073073,    0.074074,    0.075075,    0.076076,    0.077077,    0.078078,    0.079079,     0.08008,    0.081081,    0.082082,    0.083083,    0.084084,    0.085085,    0.086086,    0.087087,    0.088088,    0.089089,     0.09009,    0.091091,    0.092092,    0.093093,    0.094094,    0.095095,\n",
       "          0.096096,    0.097097,    0.098098,    0.099099,      0.1001,      0.1011,      0.1021,      0.1031,      0.1041,     0.10511,     0.10611,     0.10711,     0.10811,     0.10911,     0.11011,     0.11111,     0.11211,     0.11311,     0.11411,     0.11512,     0.11612,     0.11712,     0.11812,     0.11912,\n",
       "           0.12012,     0.12112,     0.12212,     0.12312,     0.12412,     0.12513,     0.12613,     0.12713,     0.12813,     0.12913,     0.13013,     0.13113,     0.13213,     0.13313,     0.13413,     0.13514,     0.13614,     0.13714,     0.13814,     0.13914,     0.14014,     0.14114,     0.14214,     0.14314,\n",
       "           0.14414,     0.14515,     0.14615,     0.14715,     0.14815,     0.14915,     0.15015,     0.15115,     0.15215,     0.15315,     0.15415,     0.15516,     0.15616,     0.15716,     0.15816,     0.15916,     0.16016,     0.16116,     0.16216,     0.16316,     0.16416,     0.16517,     0.16617,     0.16717,\n",
       "           0.16817,     0.16917,     0.17017,     0.17117,     0.17217,     0.17317,     0.17417,     0.17518,     0.17618,     0.17718,     0.17818,     0.17918,     0.18018,     0.18118,     0.18218,     0.18318,     0.18418,     0.18519,     0.18619,     0.18719,     0.18819,     0.18919,     0.19019,     0.19119,\n",
       "           0.19219,     0.19319,     0.19419,      0.1952,      0.1962,      0.1972,      0.1982,      0.1992,      0.2002,      0.2012,      0.2022,      0.2032,      0.2042,     0.20521,     0.20621,     0.20721,     0.20821,     0.20921,     0.21021,     0.21121,     0.21221,     0.21321,     0.21421,     0.21522,\n",
       "           0.21622,     0.21722,     0.21822,     0.21922,     0.22022,     0.22122,     0.22222,     0.22322,     0.22422,     0.22523,     0.22623,     0.22723,     0.22823,     0.22923,     0.23023,     0.23123,     0.23223,     0.23323,     0.23423,     0.23524,     0.23624,     0.23724,     0.23824,     0.23924,\n",
       "           0.24024,     0.24124,     0.24224,     0.24324,     0.24424,     0.24525,     0.24625,     0.24725,     0.24825,     0.24925,     0.25025,     0.25125,     0.25225,     0.25325,     0.25425,     0.25526,     0.25626,     0.25726,     0.25826,     0.25926,     0.26026,     0.26126,     0.26226,     0.26326,\n",
       "           0.26426,     0.26527,     0.26627,     0.26727,     0.26827,     0.26927,     0.27027,     0.27127,     0.27227,     0.27327,     0.27427,     0.27528,     0.27628,     0.27728,     0.27828,     0.27928,     0.28028,     0.28128,     0.28228,     0.28328,     0.28428,     0.28529,     0.28629,     0.28729,\n",
       "           0.28829,     0.28929,     0.29029,     0.29129,     0.29229,     0.29329,     0.29429,      0.2953,      0.2963,      0.2973,      0.2983,      0.2993,      0.3003,      0.3013,      0.3023,      0.3033,      0.3043,     0.30531,     0.30631,     0.30731,     0.30831,     0.30931,     0.31031,     0.31131,\n",
       "           0.31231,     0.31331,     0.31431,     0.31532,     0.31632,     0.31732,     0.31832,     0.31932,     0.32032,     0.32132,     0.32232,     0.32332,     0.32432,     0.32533,     0.32633,     0.32733,     0.32833,     0.32933,     0.33033,     0.33133,     0.33233,     0.33333,     0.33433,     0.33534,\n",
       "           0.33634,     0.33734,     0.33834,     0.33934,     0.34034,     0.34134,     0.34234,     0.34334,     0.34434,     0.34535,     0.34635,     0.34735,     0.34835,     0.34935,     0.35035,     0.35135,     0.35235,     0.35335,     0.35435,     0.35536,     0.35636,     0.35736,     0.35836,     0.35936,\n",
       "           0.36036,     0.36136,     0.36236,     0.36336,     0.36436,     0.36537,     0.36637,     0.36737,     0.36837,     0.36937,     0.37037,     0.37137,     0.37237,     0.37337,     0.37437,     0.37538,     0.37638,     0.37738,     0.37838,     0.37938,     0.38038,     0.38138,     0.38238,     0.38338,\n",
       "           0.38438,     0.38539,     0.38639,     0.38739,     0.38839,     0.38939,     0.39039,     0.39139,     0.39239,     0.39339,     0.39439,      0.3954,      0.3964,      0.3974,      0.3984,      0.3994,      0.4004,      0.4014,      0.4024,      0.4034,      0.4044,     0.40541,     0.40641,     0.40741,\n",
       "           0.40841,     0.40941,     0.41041,     0.41141,     0.41241,     0.41341,     0.41441,     0.41542,     0.41642,     0.41742,     0.41842,     0.41942,     0.42042,     0.42142,     0.42242,     0.42342,     0.42442,     0.42543,     0.42643,     0.42743,     0.42843,     0.42943,     0.43043,     0.43143,\n",
       "           0.43243,     0.43343,     0.43443,     0.43544,     0.43644,     0.43744,     0.43844,     0.43944,     0.44044,     0.44144,     0.44244,     0.44344,     0.44444,     0.44545,     0.44645,     0.44745,     0.44845,     0.44945,     0.45045,     0.45145,     0.45245,     0.45345,     0.45445,     0.45546,\n",
       "           0.45646,     0.45746,     0.45846,     0.45946,     0.46046,     0.46146,     0.46246,     0.46346,     0.46446,     0.46547,     0.46647,     0.46747,     0.46847,     0.46947,     0.47047,     0.47147,     0.47247,     0.47347,     0.47447,     0.47548,     0.47648,     0.47748,     0.47848,     0.47948,\n",
       "           0.48048,     0.48148,     0.48248,     0.48348,     0.48448,     0.48549,     0.48649,     0.48749,     0.48849,     0.48949,     0.49049,     0.49149,     0.49249,     0.49349,     0.49449,      0.4955,      0.4965,      0.4975,      0.4985,      0.4995,      0.5005,      0.5015,      0.5025,      0.5035,\n",
       "            0.5045,     0.50551,     0.50651,     0.50751,     0.50851,     0.50951,     0.51051,     0.51151,     0.51251,     0.51351,     0.51451,     0.51552,     0.51652,     0.51752,     0.51852,     0.51952,     0.52052,     0.52152,     0.52252,     0.52352,     0.52452,     0.52553,     0.52653,     0.52753,\n",
       "           0.52853,     0.52953,     0.53053,     0.53153,     0.53253,     0.53353,     0.53453,     0.53554,     0.53654,     0.53754,     0.53854,     0.53954,     0.54054,     0.54154,     0.54254,     0.54354,     0.54454,     0.54555,     0.54655,     0.54755,     0.54855,     0.54955,     0.55055,     0.55155,\n",
       "           0.55255,     0.55355,     0.55455,     0.55556,     0.55656,     0.55756,     0.55856,     0.55956,     0.56056,     0.56156,     0.56256,     0.56356,     0.56456,     0.56557,     0.56657,     0.56757,     0.56857,     0.56957,     0.57057,     0.57157,     0.57257,     0.57357,     0.57457,     0.57558,\n",
       "           0.57658,     0.57758,     0.57858,     0.57958,     0.58058,     0.58158,     0.58258,     0.58358,     0.58458,     0.58559,     0.58659,     0.58759,     0.58859,     0.58959,     0.59059,     0.59159,     0.59259,     0.59359,     0.59459,      0.5956,      0.5966,      0.5976,      0.5986,      0.5996,\n",
       "            0.6006,      0.6016,      0.6026,      0.6036,      0.6046,     0.60561,     0.60661,     0.60761,     0.60861,     0.60961,     0.61061,     0.61161,     0.61261,     0.61361,     0.61461,     0.61562,     0.61662,     0.61762,     0.61862,     0.61962,     0.62062,     0.62162,     0.62262,     0.62362,\n",
       "           0.62462,     0.62563,     0.62663,     0.62763,     0.62863,     0.62963,     0.63063,     0.63163,     0.63263,     0.63363,     0.63463,     0.63564,     0.63664,     0.63764,     0.63864,     0.63964,     0.64064,     0.64164,     0.64264,     0.64364,     0.64464,     0.64565,     0.64665,     0.64765,\n",
       "           0.64865,     0.64965,     0.65065,     0.65165,     0.65265,     0.65365,     0.65465,     0.65566,     0.65666,     0.65766,     0.65866,     0.65966,     0.66066,     0.66166,     0.66266,     0.66366,     0.66466,     0.66567,     0.66667,     0.66767,     0.66867,     0.66967,     0.67067,     0.67167,\n",
       "           0.67267,     0.67367,     0.67467,     0.67568,     0.67668,     0.67768,     0.67868,     0.67968,     0.68068,     0.68168,     0.68268,     0.68368,     0.68468,     0.68569,     0.68669,     0.68769,     0.68869,     0.68969,     0.69069,     0.69169,     0.69269,     0.69369,     0.69469,      0.6957,\n",
       "            0.6967,      0.6977,      0.6987,      0.6997,      0.7007,      0.7017,      0.7027,      0.7037,      0.7047,     0.70571,     0.70671,     0.70771,     0.70871,     0.70971,     0.71071,     0.71171,     0.71271,     0.71371,     0.71471,     0.71572,     0.71672,     0.71772,     0.71872,     0.71972,\n",
       "           0.72072,     0.72172,     0.72272,     0.72372,     0.72472,     0.72573,     0.72673,     0.72773,     0.72873,     0.72973,     0.73073,     0.73173,     0.73273,     0.73373,     0.73473,     0.73574,     0.73674,     0.73774,     0.73874,     0.73974,     0.74074,     0.74174,     0.74274,     0.74374,\n",
       "           0.74474,     0.74575,     0.74675,     0.74775,     0.74875,     0.74975,     0.75075,     0.75175,     0.75275,     0.75375,     0.75475,     0.75576,     0.75676,     0.75776,     0.75876,     0.75976,     0.76076,     0.76176,     0.76276,     0.76376,     0.76476,     0.76577,     0.76677,     0.76777,\n",
       "           0.76877,     0.76977,     0.77077,     0.77177,     0.77277,     0.77377,     0.77477,     0.77578,     0.77678,     0.77778,     0.77878,     0.77978,     0.78078,     0.78178,     0.78278,     0.78378,     0.78478,     0.78579,     0.78679,     0.78779,     0.78879,     0.78979,     0.79079,     0.79179,\n",
       "           0.79279,     0.79379,     0.79479,      0.7958,      0.7968,      0.7978,      0.7988,      0.7998,      0.8008,      0.8018,      0.8028,      0.8038,      0.8048,     0.80581,     0.80681,     0.80781,     0.80881,     0.80981,     0.81081,     0.81181,     0.81281,     0.81381,     0.81481,     0.81582,\n",
       "           0.81682,     0.81782,     0.81882,     0.81982,     0.82082,     0.82182,     0.82282,     0.82382,     0.82482,     0.82583,     0.82683,     0.82783,     0.82883,     0.82983,     0.83083,     0.83183,     0.83283,     0.83383,     0.83483,     0.83584,     0.83684,     0.83784,     0.83884,     0.83984,\n",
       "           0.84084,     0.84184,     0.84284,     0.84384,     0.84484,     0.84585,     0.84685,     0.84785,     0.84885,     0.84985,     0.85085,     0.85185,     0.85285,     0.85385,     0.85485,     0.85586,     0.85686,     0.85786,     0.85886,     0.85986,     0.86086,     0.86186,     0.86286,     0.86386,\n",
       "           0.86486,     0.86587,     0.86687,     0.86787,     0.86887,     0.86987,     0.87087,     0.87187,     0.87287,     0.87387,     0.87487,     0.87588,     0.87688,     0.87788,     0.87888,     0.87988,     0.88088,     0.88188,     0.88288,     0.88388,     0.88488,     0.88589,     0.88689,     0.88789,\n",
       "           0.88889,     0.88989,     0.89089,     0.89189,     0.89289,     0.89389,     0.89489,      0.8959,      0.8969,      0.8979,      0.8989,      0.8999,      0.9009,      0.9019,      0.9029,      0.9039,      0.9049,     0.90591,     0.90691,     0.90791,     0.90891,     0.90991,     0.91091,     0.91191,\n",
       "           0.91291,     0.91391,     0.91491,     0.91592,     0.91692,     0.91792,     0.91892,     0.91992,     0.92092,     0.92192,     0.92292,     0.92392,     0.92492,     0.92593,     0.92693,     0.92793,     0.92893,     0.92993,     0.93093,     0.93193,     0.93293,     0.93393,     0.93493,     0.93594,\n",
       "           0.93694,     0.93794,     0.93894,     0.93994,     0.94094,     0.94194,     0.94294,     0.94394,     0.94494,     0.94595,     0.94695,     0.94795,     0.94895,     0.94995,     0.95095,     0.95195,     0.95295,     0.95395,     0.95495,     0.95596,     0.95696,     0.95796,     0.95896,     0.95996,\n",
       "           0.96096,     0.96196,     0.96296,     0.96396,     0.96496,     0.96597,     0.96697,     0.96797,     0.96897,     0.96997,     0.97097,     0.97197,     0.97297,     0.97397,     0.97497,     0.97598,     0.97698,     0.97798,     0.97898,     0.97998,     0.98098,     0.98198,     0.98298,     0.98398,\n",
       "           0.98498,     0.98599,     0.98699,     0.98799,     0.98899,     0.98999,     0.99099,     0.99199,     0.99299,     0.99399,     0.99499,       0.996,       0.997,       0.998,       0.999,           1]), array([[          1,           1,           1,           1,           1,           1,           1,           1,           1,           1,           1,           1,           1,           1,           1,           1,           1,           1,           1,           1,           1,           1,           1,\n",
       "                  1,           1,           1,           1,           1,           1,           1,           1,           1,           1,           1,           1,           1,           1,           1,           1,           1,           1,           1,           1,           1,           1,           1,\n",
       "                  1,           1,           1,           1,           1,           1,           1,           1,           1,           1,           1,           1,           1,           1,           1,           1,           1,           1,           1,           1,           1,           1,           1,\n",
       "                  1,           1,           1,           1,           1,           1,           1,           1,           1,           1,           1,           1,           1,           1,           1,           1,           1,           1,           1,           1,           1,           1,           1,\n",
       "                  1,           1,           1,           1,           1,           1,           1,           1,           1,           1,           1,           1,           1,           1,           1,           1,           1,           1,           1,           1,           1,           1,           1,\n",
       "                  1,           1,           1,           1,           1,           1,           1,           1,           1,           1,           1,           1,           1,           1,     0.99939,     0.99939,     0.99939,     0.99939,     0.99939,     0.99939,     0.99939,     0.99939,     0.99939,\n",
       "            0.99939,     0.99939,     0.99939,     0.99939,     0.99939,     0.99939,     0.99939,     0.99939,     0.99939,     0.99939,     0.99939,     0.99939,     0.99939,     0.99939,     0.99939,     0.99939,     0.99939,     0.99939,     0.99939,     0.99939,     0.99939,     0.99939,     0.99939,\n",
       "            0.99939,     0.99939,     0.99939,     0.99939,     0.99939,     0.99939,     0.99939,     0.99939,     0.99939,     0.99939,     0.99939,     0.99939,     0.99939,     0.99939,     0.99939,     0.99939,     0.99939,     0.99939,     0.99939,     0.99939,     0.99939,     0.99939,     0.99939,\n",
       "            0.99939,     0.99939,     0.99939,     0.99939,     0.99939,     0.99939,     0.99939,     0.99939,     0.99939,     0.99939,     0.99939,     0.99939,     0.99939,     0.99939,     0.99939,     0.99939,     0.99939,     0.99939,     0.99939,     0.99939,     0.99939,     0.99939,     0.99939,\n",
       "            0.99939,     0.99939,     0.99939,     0.99939,     0.99939,     0.99939,     0.99939,     0.99939,     0.99939,     0.99939,     0.99939,     0.99939,     0.99939,     0.99939,     0.99939,     0.99939,     0.99939,     0.99939,     0.99939,     0.99939,     0.99939,     0.99939,     0.99939,\n",
       "            0.99939,     0.99939,     0.99939,     0.99939,     0.99939,     0.99939,     0.99939,     0.99939,     0.99939,     0.99939,     0.99939,     0.99939,     0.99939,     0.99939,     0.99939,     0.99939,     0.99939,     0.99939,     0.99939,     0.99939,     0.99893,     0.99893,     0.99893,\n",
       "            0.99893,     0.99893,     0.99893,     0.99893,     0.99893,     0.99893,     0.99893,     0.99893,     0.99893,     0.99893,     0.99893,     0.99893,     0.99893,     0.99893,     0.99893,     0.99893,     0.99893,     0.99893,     0.99893,     0.99893,     0.99893,     0.99893,     0.99893,\n",
       "            0.99893,     0.99893,     0.99893,     0.99893,     0.99893,     0.99893,     0.99893,     0.99893,     0.99893,     0.99893,     0.99795,     0.99795,     0.99795,     0.99795,     0.99795,     0.99795,     0.99795,     0.99795,     0.99795,     0.99795,     0.99795,     0.99795,     0.99747,\n",
       "            0.99747,     0.99747,     0.99747,     0.99703,     0.99703,     0.99703,     0.99703,     0.99703,     0.99703,     0.99672,     0.99672,     0.99672,     0.99672,     0.99672,     0.99672,     0.99672,     0.99672,     0.99672,     0.99672,     0.99672,     0.99672,     0.99672,     0.99672,\n",
       "            0.99672,     0.99672,     0.99672,     0.99638,     0.99638,     0.99638,     0.99638,     0.99638,     0.99638,     0.99638,     0.99638,     0.99638,     0.99638,     0.99638,     0.99638,     0.99616,     0.99616,     0.99616,     0.99616,     0.99616,     0.99616,     0.99616,     0.99616,\n",
       "            0.99616,     0.99616,     0.99616,     0.99616,     0.99616,     0.99616,     0.99616,     0.99616,     0.99616,     0.99616,     0.99616,     0.99616,     0.99616,     0.99616,     0.99616,     0.99616,     0.99616,     0.99616,     0.99616,     0.99616,     0.99616,     0.99616,     0.99616,\n",
       "            0.99616,     0.99616,     0.99616,     0.99616,     0.99616,     0.99616,     0.99616,     0.99616,     0.99616,     0.99616,     0.99616,     0.99616,     0.99616,     0.99616,     0.99616,     0.99616,     0.99616,     0.99616,     0.99616,     0.99616,     0.99616,     0.99616,     0.99616,\n",
       "            0.99616,     0.99616,     0.99616,     0.99616,     0.99616,     0.99585,     0.99585,     0.99585,     0.99585,     0.99585,     0.99585,     0.99585,     0.99585,     0.99515,     0.99515,     0.99515,     0.99515,     0.99515,     0.99515,     0.99515,     0.99515,     0.99515,     0.99515,\n",
       "            0.99515,     0.99515,     0.99515,     0.99515,     0.99515,     0.99515,     0.99515,     0.99515,     0.99515,     0.99515,     0.99515,     0.99515,     0.99515,     0.99515,     0.99515,     0.99515,     0.99515,     0.99515,     0.99515,     0.99515,     0.99515,     0.99515,     0.99515,\n",
       "            0.99515,     0.99515,     0.99496,     0.99496,     0.99496,     0.99496,     0.99496,     0.99496,     0.99496,     0.99496,     0.99496,     0.99496,     0.99496,     0.99496,     0.99496,     0.99496,     0.99475,     0.99475,     0.99475,     0.99475,     0.99475,     0.99475,     0.99475,\n",
       "            0.99475,     0.99475,     0.99475,     0.99446,     0.99446,     0.99446,      0.9942,      0.9942,      0.9942,      0.9942,      0.9942,     0.99391,     0.99391,     0.99391,     0.99337,     0.99337,     0.99337,     0.99337,     0.99337,     0.99337,     0.99337,     0.99313,     0.99313,\n",
       "            0.99313,     0.99313,     0.99313,     0.99293,     0.99293,     0.99293,     0.99293,     0.99293,     0.99293,     0.99293,     0.99285,     0.99285,     0.99285,     0.99285,     0.99285,     0.99285,     0.99285,     0.99285,     0.99285,     0.99285,     0.99285,     0.99285,     0.99285,\n",
       "            0.99285,     0.99285,     0.99285,     0.99261,     0.99261,     0.99261,     0.99261,     0.99234,     0.99234,     0.99195,     0.99195,     0.99195,     0.99195,     0.99195,     0.99195,     0.99195,     0.99195,     0.99195,     0.99195,     0.99195,     0.99195,     0.99171,     0.99171,\n",
       "            0.99171,     0.99144,     0.99124,     0.99124,     0.99124,     0.99124,     0.99124,     0.99104,     0.99104,     0.99104,     0.99104,     0.99104,     0.99083,     0.99083,     0.99083,     0.99083,     0.99062,     0.99062,     0.99062,     0.99062,     0.99039,     0.99039,     0.99013,\n",
       "            0.98988,     0.98945,     0.98945,     0.98945,     0.98945,     0.98945,     0.98918,     0.98869,     0.98869,     0.98845,     0.98822,     0.98822,     0.98789,     0.98789,     0.98789,     0.98789,     0.98789,     0.98789,     0.98789,     0.98789,     0.98789,     0.98782,     0.98782,\n",
       "            0.98782,     0.98782,     0.98782,     0.98782,     0.98782,     0.98782,     0.98782,     0.98757,      0.9871,     0.98685,     0.98662,      0.9864,     0.98629,     0.98629,     0.98629,     0.98629,     0.98629,     0.98629,     0.98604,     0.98586,     0.98586,     0.98564,      0.9854,\n",
       "            0.98493,      0.9847,     0.98452,     0.98452,      0.9843,     0.98422,     0.98422,     0.98422,     0.98422,     0.98422,     0.98422,     0.98422,     0.98377,     0.98358,     0.98358,     0.98335,     0.98267,     0.98245,     0.98229,     0.98229,     0.98206,     0.98165,     0.98165,\n",
       "             0.9812,     0.98076,     0.98063,     0.98063,     0.98063,     0.97994,     0.97953,     0.97907,     0.97891,     0.97891,     0.97824,     0.97818,     0.97818,     0.97818,     0.97818,     0.97818,     0.97799,     0.97758,     0.97736,      0.9773,      0.9773,      0.9773,      0.9773,\n",
       "            0.97712,     0.97712,       0.977,       0.977,       0.977,     0.97683,     0.97663,     0.97646,     0.97624,     0.97584,     0.97584,     0.97584,     0.97584,     0.97584,     0.97584,     0.97584,     0.97543,     0.97503,     0.97483,     0.97423,     0.97316,     0.97258,     0.97195,\n",
       "            0.97138,     0.97138,     0.97123,     0.97117,     0.97117,     0.97117,     0.97117,     0.97014,      0.9698,      0.9698,     0.96923,     0.96823,     0.96823,     0.96727,     0.96727,     0.96652,     0.96635,     0.96601,     0.96601,     0.96567,      0.9655,     0.96513,     0.96419,\n",
       "            0.96419,     0.96382,     0.96308,     0.96248,     0.96234,     0.96202,     0.96142,     0.96128,     0.96039,     0.96039,     0.95982,     0.95928,     0.95918,     0.95904,     0.95884,     0.95859,     0.95859,     0.95851,     0.95851,     0.95814,     0.95761,     0.95747,     0.95733,\n",
       "             0.9562,      0.9553,     0.95423,     0.95351,     0.95334,     0.95264,     0.95231,      0.9516,     0.95109,     0.95082,     0.95064,     0.94977,     0.94946,     0.94804,     0.94749,     0.94647,     0.94615,     0.94529,     0.94497,     0.94454,     0.94437,     0.94295,     0.94253,\n",
       "            0.94241,     0.94209,     0.94162,      0.9415,     0.94101,     0.94017,      0.9397,     0.93878,     0.93878,      0.9374,     0.93627,     0.93579,     0.93463,     0.93418,     0.93388,      0.9333,     0.93192,     0.93148,      0.9307,     0.92974,     0.92825,     0.92712,     0.92652,\n",
       "            0.92542,     0.92428,     0.92353,      0.9223,     0.92167,     0.92096,     0.92068,     0.92026,     0.91971,     0.91918,      0.9187,     0.91814,     0.91724,     0.91665,     0.91626,     0.91504,      0.9144,      0.9144,     0.91307,     0.91233,     0.91231,     0.91203,     0.90961,\n",
       "            0.90906,     0.90814,     0.90585,     0.90436,     0.90338,     0.90236,     0.90122,     0.89997,     0.89882,     0.89689,     0.89498,     0.89282,     0.89077,     0.88938,     0.88738,     0.88525,     0.88417,     0.88239,     0.88177,     0.87894,     0.87776,     0.87569,     0.87467,\n",
       "            0.87306,     0.87147,     0.86888,     0.86746,     0.86352,     0.86071,     0.85767,     0.85615,      0.8533,     0.85072,     0.84592,     0.84431,     0.84116,     0.83934,     0.83494,     0.82989,     0.82795,     0.82433,      0.8216,     0.81731,      0.8144,     0.80915,     0.80532,\n",
       "            0.79994,     0.79619,     0.79196,      0.7816,     0.77366,     0.76963,     0.76157,     0.75695,     0.75021,     0.74363,     0.72935,     0.72418,     0.71456,     0.70981,      0.6976,     0.69067,     0.68411,     0.67797,     0.66683,     0.65483,     0.64414,      0.6327,     0.62458,\n",
       "            0.60878,      0.5975,     0.58497,     0.56604,     0.55056,     0.54151,     0.52501,     0.50868,     0.49564,     0.48225,     0.45732,     0.43397,     0.42214,     0.40336,     0.38545,     0.34994,     0.33341,     0.33088,     0.32836,     0.32583,      0.3233,     0.32078,     0.31825,\n",
       "            0.31573,      0.3132,     0.31067,     0.30815,     0.30562,      0.3031,     0.30057,     0.29805,     0.29552,     0.29299,     0.29047,     0.28794,     0.28542,     0.28289,     0.28036,     0.27784,     0.27531,     0.27279,     0.27026,     0.26774,     0.26521,     0.26268,     0.26016,\n",
       "            0.25763,     0.25511,     0.25258,     0.25006,     0.24753,       0.245,     0.24248,     0.23995,     0.23743,      0.2349,     0.23237,     0.22985,     0.22732,      0.2248,     0.22227,     0.21975,     0.21722,     0.21469,     0.21217,     0.20964,     0.20712,     0.20459,     0.20206,\n",
       "            0.19954,     0.19701,     0.19449,     0.19196,     0.18944,     0.18691,     0.18438,     0.18186,     0.17933,     0.17681,     0.17428,     0.17176,     0.16923,      0.1667,     0.16418,     0.16165,     0.15913,      0.1566,     0.15407,     0.15155,     0.14902,      0.1465,     0.14397,\n",
       "            0.14145,     0.13892,     0.13639,     0.13387,     0.13134,     0.12882,     0.12629,     0.12376,     0.12124,     0.11871,     0.11619,     0.11366,     0.11114,     0.10861,     0.10608,     0.10356,     0.10103,    0.098507,    0.095981,    0.093455,    0.090929,    0.088403,    0.085878,\n",
       "           0.083352,    0.080826,      0.0783,    0.075774,    0.073248,    0.070723,    0.068197,    0.065671,    0.063145,    0.060619,    0.058094,    0.055568,    0.053042,    0.050516,     0.04799,    0.045465,    0.042939,    0.040413,    0.037887,    0.035361,    0.032836,     0.03031,    0.027784,\n",
       "           0.025258,    0.022732,    0.020206,    0.017681,    0.015155,    0.012629,    0.010103,   0.0075774,   0.0050516,   0.0025258,           0]]), 'Recall', 'Precision'], [array([          0,    0.001001,    0.002002,    0.003003,    0.004004,    0.005005,    0.006006,    0.007007,    0.008008,    0.009009,     0.01001,    0.011011,    0.012012,    0.013013,    0.014014,    0.015015,    0.016016,    0.017017,    0.018018,    0.019019,     0.02002,    0.021021,    0.022022,    0.023023,\n",
       "          0.024024,    0.025025,    0.026026,    0.027027,    0.028028,    0.029029,     0.03003,    0.031031,    0.032032,    0.033033,    0.034034,    0.035035,    0.036036,    0.037037,    0.038038,    0.039039,     0.04004,    0.041041,    0.042042,    0.043043,    0.044044,    0.045045,    0.046046,    0.047047,\n",
       "          0.048048,    0.049049,     0.05005,    0.051051,    0.052052,    0.053053,    0.054054,    0.055055,    0.056056,    0.057057,    0.058058,    0.059059,     0.06006,    0.061061,    0.062062,    0.063063,    0.064064,    0.065065,    0.066066,    0.067067,    0.068068,    0.069069,     0.07007,    0.071071,\n",
       "          0.072072,    0.073073,    0.074074,    0.075075,    0.076076,    0.077077,    0.078078,    0.079079,     0.08008,    0.081081,    0.082082,    0.083083,    0.084084,    0.085085,    0.086086,    0.087087,    0.088088,    0.089089,     0.09009,    0.091091,    0.092092,    0.093093,    0.094094,    0.095095,\n",
       "          0.096096,    0.097097,    0.098098,    0.099099,      0.1001,      0.1011,      0.1021,      0.1031,      0.1041,     0.10511,     0.10611,     0.10711,     0.10811,     0.10911,     0.11011,     0.11111,     0.11211,     0.11311,     0.11411,     0.11512,     0.11612,     0.11712,     0.11812,     0.11912,\n",
       "           0.12012,     0.12112,     0.12212,     0.12312,     0.12412,     0.12513,     0.12613,     0.12713,     0.12813,     0.12913,     0.13013,     0.13113,     0.13213,     0.13313,     0.13413,     0.13514,     0.13614,     0.13714,     0.13814,     0.13914,     0.14014,     0.14114,     0.14214,     0.14314,\n",
       "           0.14414,     0.14515,     0.14615,     0.14715,     0.14815,     0.14915,     0.15015,     0.15115,     0.15215,     0.15315,     0.15415,     0.15516,     0.15616,     0.15716,     0.15816,     0.15916,     0.16016,     0.16116,     0.16216,     0.16316,     0.16416,     0.16517,     0.16617,     0.16717,\n",
       "           0.16817,     0.16917,     0.17017,     0.17117,     0.17217,     0.17317,     0.17417,     0.17518,     0.17618,     0.17718,     0.17818,     0.17918,     0.18018,     0.18118,     0.18218,     0.18318,     0.18418,     0.18519,     0.18619,     0.18719,     0.18819,     0.18919,     0.19019,     0.19119,\n",
       "           0.19219,     0.19319,     0.19419,      0.1952,      0.1962,      0.1972,      0.1982,      0.1992,      0.2002,      0.2012,      0.2022,      0.2032,      0.2042,     0.20521,     0.20621,     0.20721,     0.20821,     0.20921,     0.21021,     0.21121,     0.21221,     0.21321,     0.21421,     0.21522,\n",
       "           0.21622,     0.21722,     0.21822,     0.21922,     0.22022,     0.22122,     0.22222,     0.22322,     0.22422,     0.22523,     0.22623,     0.22723,     0.22823,     0.22923,     0.23023,     0.23123,     0.23223,     0.23323,     0.23423,     0.23524,     0.23624,     0.23724,     0.23824,     0.23924,\n",
       "           0.24024,     0.24124,     0.24224,     0.24324,     0.24424,     0.24525,     0.24625,     0.24725,     0.24825,     0.24925,     0.25025,     0.25125,     0.25225,     0.25325,     0.25425,     0.25526,     0.25626,     0.25726,     0.25826,     0.25926,     0.26026,     0.26126,     0.26226,     0.26326,\n",
       "           0.26426,     0.26527,     0.26627,     0.26727,     0.26827,     0.26927,     0.27027,     0.27127,     0.27227,     0.27327,     0.27427,     0.27528,     0.27628,     0.27728,     0.27828,     0.27928,     0.28028,     0.28128,     0.28228,     0.28328,     0.28428,     0.28529,     0.28629,     0.28729,\n",
       "           0.28829,     0.28929,     0.29029,     0.29129,     0.29229,     0.29329,     0.29429,      0.2953,      0.2963,      0.2973,      0.2983,      0.2993,      0.3003,      0.3013,      0.3023,      0.3033,      0.3043,     0.30531,     0.30631,     0.30731,     0.30831,     0.30931,     0.31031,     0.31131,\n",
       "           0.31231,     0.31331,     0.31431,     0.31532,     0.31632,     0.31732,     0.31832,     0.31932,     0.32032,     0.32132,     0.32232,     0.32332,     0.32432,     0.32533,     0.32633,     0.32733,     0.32833,     0.32933,     0.33033,     0.33133,     0.33233,     0.33333,     0.33433,     0.33534,\n",
       "           0.33634,     0.33734,     0.33834,     0.33934,     0.34034,     0.34134,     0.34234,     0.34334,     0.34434,     0.34535,     0.34635,     0.34735,     0.34835,     0.34935,     0.35035,     0.35135,     0.35235,     0.35335,     0.35435,     0.35536,     0.35636,     0.35736,     0.35836,     0.35936,\n",
       "           0.36036,     0.36136,     0.36236,     0.36336,     0.36436,     0.36537,     0.36637,     0.36737,     0.36837,     0.36937,     0.37037,     0.37137,     0.37237,     0.37337,     0.37437,     0.37538,     0.37638,     0.37738,     0.37838,     0.37938,     0.38038,     0.38138,     0.38238,     0.38338,\n",
       "           0.38438,     0.38539,     0.38639,     0.38739,     0.38839,     0.38939,     0.39039,     0.39139,     0.39239,     0.39339,     0.39439,      0.3954,      0.3964,      0.3974,      0.3984,      0.3994,      0.4004,      0.4014,      0.4024,      0.4034,      0.4044,     0.40541,     0.40641,     0.40741,\n",
       "           0.40841,     0.40941,     0.41041,     0.41141,     0.41241,     0.41341,     0.41441,     0.41542,     0.41642,     0.41742,     0.41842,     0.41942,     0.42042,     0.42142,     0.42242,     0.42342,     0.42442,     0.42543,     0.42643,     0.42743,     0.42843,     0.42943,     0.43043,     0.43143,\n",
       "           0.43243,     0.43343,     0.43443,     0.43544,     0.43644,     0.43744,     0.43844,     0.43944,     0.44044,     0.44144,     0.44244,     0.44344,     0.44444,     0.44545,     0.44645,     0.44745,     0.44845,     0.44945,     0.45045,     0.45145,     0.45245,     0.45345,     0.45445,     0.45546,\n",
       "           0.45646,     0.45746,     0.45846,     0.45946,     0.46046,     0.46146,     0.46246,     0.46346,     0.46446,     0.46547,     0.46647,     0.46747,     0.46847,     0.46947,     0.47047,     0.47147,     0.47247,     0.47347,     0.47447,     0.47548,     0.47648,     0.47748,     0.47848,     0.47948,\n",
       "           0.48048,     0.48148,     0.48248,     0.48348,     0.48448,     0.48549,     0.48649,     0.48749,     0.48849,     0.48949,     0.49049,     0.49149,     0.49249,     0.49349,     0.49449,      0.4955,      0.4965,      0.4975,      0.4985,      0.4995,      0.5005,      0.5015,      0.5025,      0.5035,\n",
       "            0.5045,     0.50551,     0.50651,     0.50751,     0.50851,     0.50951,     0.51051,     0.51151,     0.51251,     0.51351,     0.51451,     0.51552,     0.51652,     0.51752,     0.51852,     0.51952,     0.52052,     0.52152,     0.52252,     0.52352,     0.52452,     0.52553,     0.52653,     0.52753,\n",
       "           0.52853,     0.52953,     0.53053,     0.53153,     0.53253,     0.53353,     0.53453,     0.53554,     0.53654,     0.53754,     0.53854,     0.53954,     0.54054,     0.54154,     0.54254,     0.54354,     0.54454,     0.54555,     0.54655,     0.54755,     0.54855,     0.54955,     0.55055,     0.55155,\n",
       "           0.55255,     0.55355,     0.55455,     0.55556,     0.55656,     0.55756,     0.55856,     0.55956,     0.56056,     0.56156,     0.56256,     0.56356,     0.56456,     0.56557,     0.56657,     0.56757,     0.56857,     0.56957,     0.57057,     0.57157,     0.57257,     0.57357,     0.57457,     0.57558,\n",
       "           0.57658,     0.57758,     0.57858,     0.57958,     0.58058,     0.58158,     0.58258,     0.58358,     0.58458,     0.58559,     0.58659,     0.58759,     0.58859,     0.58959,     0.59059,     0.59159,     0.59259,     0.59359,     0.59459,      0.5956,      0.5966,      0.5976,      0.5986,      0.5996,\n",
       "            0.6006,      0.6016,      0.6026,      0.6036,      0.6046,     0.60561,     0.60661,     0.60761,     0.60861,     0.60961,     0.61061,     0.61161,     0.61261,     0.61361,     0.61461,     0.61562,     0.61662,     0.61762,     0.61862,     0.61962,     0.62062,     0.62162,     0.62262,     0.62362,\n",
       "           0.62462,     0.62563,     0.62663,     0.62763,     0.62863,     0.62963,     0.63063,     0.63163,     0.63263,     0.63363,     0.63463,     0.63564,     0.63664,     0.63764,     0.63864,     0.63964,     0.64064,     0.64164,     0.64264,     0.64364,     0.64464,     0.64565,     0.64665,     0.64765,\n",
       "           0.64865,     0.64965,     0.65065,     0.65165,     0.65265,     0.65365,     0.65465,     0.65566,     0.65666,     0.65766,     0.65866,     0.65966,     0.66066,     0.66166,     0.66266,     0.66366,     0.66466,     0.66567,     0.66667,     0.66767,     0.66867,     0.66967,     0.67067,     0.67167,\n",
       "           0.67267,     0.67367,     0.67467,     0.67568,     0.67668,     0.67768,     0.67868,     0.67968,     0.68068,     0.68168,     0.68268,     0.68368,     0.68468,     0.68569,     0.68669,     0.68769,     0.68869,     0.68969,     0.69069,     0.69169,     0.69269,     0.69369,     0.69469,      0.6957,\n",
       "            0.6967,      0.6977,      0.6987,      0.6997,      0.7007,      0.7017,      0.7027,      0.7037,      0.7047,     0.70571,     0.70671,     0.70771,     0.70871,     0.70971,     0.71071,     0.71171,     0.71271,     0.71371,     0.71471,     0.71572,     0.71672,     0.71772,     0.71872,     0.71972,\n",
       "           0.72072,     0.72172,     0.72272,     0.72372,     0.72472,     0.72573,     0.72673,     0.72773,     0.72873,     0.72973,     0.73073,     0.73173,     0.73273,     0.73373,     0.73473,     0.73574,     0.73674,     0.73774,     0.73874,     0.73974,     0.74074,     0.74174,     0.74274,     0.74374,\n",
       "           0.74474,     0.74575,     0.74675,     0.74775,     0.74875,     0.74975,     0.75075,     0.75175,     0.75275,     0.75375,     0.75475,     0.75576,     0.75676,     0.75776,     0.75876,     0.75976,     0.76076,     0.76176,     0.76276,     0.76376,     0.76476,     0.76577,     0.76677,     0.76777,\n",
       "           0.76877,     0.76977,     0.77077,     0.77177,     0.77277,     0.77377,     0.77477,     0.77578,     0.77678,     0.77778,     0.77878,     0.77978,     0.78078,     0.78178,     0.78278,     0.78378,     0.78478,     0.78579,     0.78679,     0.78779,     0.78879,     0.78979,     0.79079,     0.79179,\n",
       "           0.79279,     0.79379,     0.79479,      0.7958,      0.7968,      0.7978,      0.7988,      0.7998,      0.8008,      0.8018,      0.8028,      0.8038,      0.8048,     0.80581,     0.80681,     0.80781,     0.80881,     0.80981,     0.81081,     0.81181,     0.81281,     0.81381,     0.81481,     0.81582,\n",
       "           0.81682,     0.81782,     0.81882,     0.81982,     0.82082,     0.82182,     0.82282,     0.82382,     0.82482,     0.82583,     0.82683,     0.82783,     0.82883,     0.82983,     0.83083,     0.83183,     0.83283,     0.83383,     0.83483,     0.83584,     0.83684,     0.83784,     0.83884,     0.83984,\n",
       "           0.84084,     0.84184,     0.84284,     0.84384,     0.84484,     0.84585,     0.84685,     0.84785,     0.84885,     0.84985,     0.85085,     0.85185,     0.85285,     0.85385,     0.85485,     0.85586,     0.85686,     0.85786,     0.85886,     0.85986,     0.86086,     0.86186,     0.86286,     0.86386,\n",
       "           0.86486,     0.86587,     0.86687,     0.86787,     0.86887,     0.86987,     0.87087,     0.87187,     0.87287,     0.87387,     0.87487,     0.87588,     0.87688,     0.87788,     0.87888,     0.87988,     0.88088,     0.88188,     0.88288,     0.88388,     0.88488,     0.88589,     0.88689,     0.88789,\n",
       "           0.88889,     0.88989,     0.89089,     0.89189,     0.89289,     0.89389,     0.89489,      0.8959,      0.8969,      0.8979,      0.8989,      0.8999,      0.9009,      0.9019,      0.9029,      0.9039,      0.9049,     0.90591,     0.90691,     0.90791,     0.90891,     0.90991,     0.91091,     0.91191,\n",
       "           0.91291,     0.91391,     0.91491,     0.91592,     0.91692,     0.91792,     0.91892,     0.91992,     0.92092,     0.92192,     0.92292,     0.92392,     0.92492,     0.92593,     0.92693,     0.92793,     0.92893,     0.92993,     0.93093,     0.93193,     0.93293,     0.93393,     0.93493,     0.93594,\n",
       "           0.93694,     0.93794,     0.93894,     0.93994,     0.94094,     0.94194,     0.94294,     0.94394,     0.94494,     0.94595,     0.94695,     0.94795,     0.94895,     0.94995,     0.95095,     0.95195,     0.95295,     0.95395,     0.95495,     0.95596,     0.95696,     0.95796,     0.95896,     0.95996,\n",
       "           0.96096,     0.96196,     0.96296,     0.96396,     0.96496,     0.96597,     0.96697,     0.96797,     0.96897,     0.96997,     0.97097,     0.97197,     0.97297,     0.97397,     0.97497,     0.97598,     0.97698,     0.97798,     0.97898,     0.97998,     0.98098,     0.98198,     0.98298,     0.98398,\n",
       "           0.98498,     0.98599,     0.98699,     0.98799,     0.98899,     0.98999,     0.99099,     0.99199,     0.99299,     0.99399,     0.99499,       0.996,       0.997,       0.998,       0.999,           1]), array([[    0.48177,     0.48186,     0.56055,     0.60139,     0.63004,     0.65005,     0.66514,     0.67745,     0.68798,      0.6974,      0.7047,      0.7117,     0.71775,     0.72328,     0.72759,     0.73169,     0.73542,      0.7396,     0.74259,     0.74557,     0.74826,     0.75091,     0.75309,\n",
       "            0.75531,     0.75741,     0.75944,     0.76133,     0.76339,     0.76551,     0.76774,     0.76995,     0.77149,     0.77313,     0.77445,     0.77588,     0.77764,      0.7785,     0.77986,     0.78048,     0.78167,     0.78267,     0.78383,     0.78511,     0.78681,     0.78788,     0.78931,\n",
       "            0.79004,     0.79087,     0.79112,     0.79196,      0.7928,     0.79397,     0.79476,     0.79539,     0.79642,      0.7969,     0.79765,     0.79866,     0.79955,     0.80026,     0.80093,     0.80151,     0.80216,     0.80267,     0.80382,     0.80448,     0.80553,     0.80599,     0.80611,\n",
       "            0.80659,     0.80764,     0.80808,     0.80878,     0.80916,     0.80974,     0.81043,     0.81093,     0.81108,     0.81164,     0.81195,     0.81271,     0.81305,     0.81313,     0.81363,     0.81417,     0.81414,     0.81466,     0.81483,     0.81524,     0.81546,     0.81581,     0.81613,\n",
       "            0.81681,     0.81701,     0.81711,     0.81743,       0.818,     0.81784,     0.81786,     0.81847,      0.8187,      0.8193,     0.81944,     0.81979,     0.82014,     0.82034,     0.82046,     0.82075,     0.82135,     0.82152,     0.82176,     0.82189,     0.82235,     0.82266,     0.82287,\n",
       "            0.82324,     0.82329,     0.82327,     0.82355,     0.82364,     0.82387,     0.82389,     0.82435,      0.8242,     0.82441,     0.82468,     0.82485,     0.82504,     0.82546,     0.82535,     0.82579,     0.82608,     0.82628,      0.8262,     0.82644,     0.82661,      0.8272,     0.82738,\n",
       "            0.82766,     0.82791,     0.82805,      0.8281,     0.82858,     0.82862,     0.82875,     0.82881,     0.82901,     0.82921,     0.82927,     0.82933,     0.82935,     0.82942,     0.82963,     0.82999,     0.83035,      0.8303,     0.83028,     0.83035,      0.8307,     0.83058,      0.8309,\n",
       "            0.83104,      0.8313,     0.83165,     0.83185,     0.83191,     0.83205,     0.83236,      0.8324,      0.8323,     0.83224,     0.83242,     0.83284,     0.83308,     0.83334,     0.83347,     0.83339,     0.83353,     0.83349,     0.83378,     0.83389,     0.83401,     0.83391,     0.83407,\n",
       "             0.8341,     0.83436,     0.83443,     0.83451,     0.83458,     0.83489,     0.83496,     0.83513,     0.83512,     0.83515,     0.83548,     0.83564,     0.83575,       0.836,     0.83616,     0.83638,     0.83655,     0.83675,     0.83683,     0.83679,      0.8367,     0.83687,      0.8371,\n",
       "            0.83704,     0.83708,     0.83706,     0.83725,     0.83719,     0.83716,     0.83718,     0.83716,     0.83728,      0.8374,     0.83757,     0.83789,     0.83788,     0.83782,     0.83779,     0.83793,     0.83802,     0.83793,     0.83812,     0.83832,     0.83816,     0.83824,     0.83828,\n",
       "            0.83817,      0.8381,     0.83806,     0.83806,     0.83823,     0.83824,     0.83828,     0.83837,     0.83839,     0.83831,     0.83827,     0.83852,     0.83852,     0.83849,     0.83833,     0.83859,     0.83865,     0.83856,     0.83869,     0.83874,      0.8388,     0.83867,     0.83881,\n",
       "            0.83912,     0.83913,     0.83914,     0.83932,     0.83916,     0.83924,     0.83914,     0.83891,     0.83896,     0.83914,     0.83911,     0.83913,     0.83922,     0.83909,     0.83927,     0.83926,     0.83939,     0.83942,     0.83957,     0.83968,     0.83979,     0.83963,      0.8396,\n",
       "            0.83986,     0.84011,     0.84007,     0.83992,     0.83993,     0.84005,     0.83993,     0.83996,     0.83987,     0.84005,      0.8401,     0.84028,     0.84024,     0.84034,     0.84044,     0.84048,     0.84038,     0.84053,     0.84078,     0.84054,     0.84067,      0.8407,     0.84063,\n",
       "            0.84083,     0.84095,       0.841,     0.84101,     0.84108,     0.84089,     0.84098,     0.84122,     0.84122,     0.84149,     0.84148,     0.84151,     0.84135,     0.84149,      0.8416,     0.84144,     0.84128,     0.84115,     0.84127,     0.84125,     0.84134,     0.84122,      0.8412,\n",
       "            0.84112,     0.84112,     0.84135,     0.84126,     0.84119,      0.8412,     0.84116,     0.84108,     0.84085,     0.84077,     0.84088,     0.84096,     0.84103,     0.84099,     0.84101,     0.84097,     0.84104,     0.84107,     0.84102,     0.84106,      0.8411,     0.84135,      0.8414,\n",
       "            0.84135,     0.84133,     0.84132,     0.84142,     0.84136,     0.84136,     0.84136,     0.84134,      0.8415,     0.84121,     0.84124,     0.84109,     0.84094,     0.84087,     0.84075,     0.84071,      0.8406,     0.84073,     0.84077,     0.84082,     0.84091,      0.8412,     0.84114,\n",
       "            0.84112,     0.84081,     0.84072,     0.84033,     0.84019,     0.84011,      0.8402,     0.84019,     0.83998,     0.84002,     0.84007,     0.84025,     0.84024,      0.8402,     0.83999,     0.83999,     0.83978,     0.83945,     0.83936,     0.83939,     0.83936,     0.83937,     0.83918,\n",
       "            0.83901,     0.83916,     0.83917,     0.83908,     0.83902,     0.83911,     0.83914,     0.83911,     0.83906,     0.83901,     0.83902,     0.83895,     0.83878,      0.8386,     0.83862,     0.83841,     0.83835,      0.8384,     0.83821,     0.83815,     0.83819,     0.83804,     0.83811,\n",
       "            0.83805,     0.83785,     0.83786,     0.83778,     0.83778,      0.8377,     0.83774,     0.83745,     0.83725,     0.83701,     0.83716,     0.83686,     0.83653,     0.83656,     0.83642,     0.83619,     0.83604,     0.83561,     0.83547,     0.83554,     0.83544,     0.83539,     0.83527,\n",
       "            0.83528,     0.83521,     0.83495,     0.83499,     0.83505,     0.83504,     0.83499,     0.83486,       0.835,     0.83464,     0.83467,     0.83455,     0.83441,     0.83452,     0.83459,     0.83467,     0.83421,      0.8344,     0.83439,      0.8342,     0.83402,     0.83405,     0.83392,\n",
       "            0.83396,     0.83372,     0.83365,     0.83359,     0.83375,      0.8337,     0.83386,     0.83379,      0.8338,     0.83384,     0.83372,     0.83354,     0.83365,     0.83364,     0.83361,     0.83348,     0.83335,      0.8334,     0.83319,     0.83283,     0.83276,     0.83285,     0.83278,\n",
       "            0.83282,     0.83302,     0.83286,     0.83259,     0.83239,     0.83244,     0.83236,     0.83204,     0.83213,     0.83182,     0.83175,     0.83165,     0.83144,     0.83142,      0.8314,     0.83143,     0.83128,     0.83145,      0.8313,     0.83121,     0.83106,     0.83072,      0.8307,\n",
       "            0.83066,     0.83071,     0.83072,     0.83059,     0.83038,     0.82993,     0.82999,     0.82986,     0.82979,     0.82969,      0.8296,     0.82931,     0.82929,     0.82902,     0.82886,     0.82885,     0.82896,     0.82863,     0.82846,     0.82809,     0.82784,     0.82769,     0.82773,\n",
       "            0.82754,     0.82726,     0.82733,     0.82719,     0.82696,     0.82696,     0.82654,     0.82637,     0.82629,      0.8259,     0.82587,     0.82591,      0.8259,     0.82576,     0.82584,     0.82588,     0.82545,     0.82531,     0.82514,      0.8252,     0.82484,      0.8246,      0.8245,\n",
       "            0.82443,     0.82425,     0.82422,     0.82411,     0.82408,     0.82374,     0.82379,     0.82361,     0.82323,     0.82309,     0.82319,     0.82313,     0.82294,     0.82286,     0.82282,     0.82286,     0.82251,     0.82227,     0.82196,     0.82177,     0.82175,     0.82182,     0.82144,\n",
       "            0.82075,      0.8205,     0.82045,      0.8202,     0.82019,     0.82015,     0.81997,     0.81992,     0.81949,     0.81949,      0.8195,     0.81873,     0.81882,     0.81889,     0.81871,     0.81833,     0.81847,     0.81793,     0.81777,     0.81778,     0.81771,      0.8177,     0.81749,\n",
       "            0.81727,     0.81703,     0.81726,     0.81687,     0.81673,     0.81654,       0.816,     0.81587,     0.81576,     0.81539,      0.8154,     0.81499,     0.81429,     0.81409,     0.81393,     0.81382,     0.81327,     0.81269,      0.8126,      0.8124,     0.81182,     0.81163,     0.81132,\n",
       "            0.81071,     0.81054,     0.81024,     0.80999,     0.80963,     0.80878,     0.80843,     0.80844,     0.80799,     0.80796,     0.80777,     0.80728,     0.80709,     0.80677,     0.80624,     0.80619,     0.80617,     0.80579,     0.80545,     0.80511,       0.805,     0.80448,     0.80412,\n",
       "            0.80412,     0.80404,     0.80363,     0.80313,     0.80261,     0.80183,     0.80132,      0.8011,     0.80071,     0.79992,     0.79977,     0.79943,     0.79899,     0.79871,     0.79877,     0.79798,     0.79801,     0.79758,     0.79732,     0.79659,     0.79622,     0.79604,     0.79582,\n",
       "            0.79591,     0.79552,     0.79465,     0.79424,     0.79332,     0.79302,     0.79232,     0.79198,      0.7912,     0.79125,     0.79101,     0.79086,     0.79052,     0.78997,     0.78959,     0.78967,     0.78951,      0.7894,     0.78881,     0.78811,     0.78758,     0.78718,      0.7866,\n",
       "             0.7857,     0.78426,     0.78348,     0.78316,     0.78256,     0.78247,     0.78142,      0.7809,     0.78072,     0.77986,     0.77893,     0.77789,     0.77719,     0.77673,     0.77559,     0.77461,     0.77424,     0.77346,     0.77285,      0.7719,     0.77132,     0.77029,      0.7689,\n",
       "             0.7678,     0.76737,     0.76614,     0.76579,     0.76465,     0.76441,     0.76338,     0.76206,     0.76141,     0.76078,     0.76008,     0.75947,      0.7581,     0.75729,      0.7568,     0.75613,     0.75567,     0.75507,     0.75397,     0.75309,     0.75226,     0.75098,      0.7496,\n",
       "            0.74793,     0.74691,     0.74546,      0.7443,     0.74339,     0.74221,     0.74085,     0.73965,     0.73789,     0.73618,     0.73432,     0.73341,      0.7328,     0.73164,     0.73005,      0.7281,     0.72656,      0.7256,     0.72424,     0.72199,     0.72018,     0.71868,     0.71775,\n",
       "            0.71592,     0.71425,       0.713,     0.71076,     0.70926,     0.70797,      0.7065,      0.7045,     0.70295,     0.70054,     0.69874,     0.69693,     0.69405,     0.69193,     0.69015,     0.68793,     0.68505,     0.68193,     0.67972,     0.67774,     0.67518,     0.67353,     0.67191,\n",
       "            0.66839,     0.66631,     0.66346,     0.66121,     0.65836,     0.65388,     0.65028,     0.64681,     0.64525,     0.64311,     0.64013,     0.63726,     0.63448,     0.63105,     0.62751,     0.62388,     0.62079,     0.61768,     0.61325,      0.6094,     0.60578,     0.60173,      0.5969,\n",
       "            0.59119,     0.58571,     0.58262,     0.57781,     0.57393,     0.57009,     0.56576,     0.56124,     0.55614,     0.55183,     0.54688,     0.54106,     0.53546,     0.53091,     0.52698,     0.52127,     0.51605,     0.51057,     0.50502,     0.49996,     0.49423,     0.48621,     0.48268,\n",
       "            0.47696,     0.47079,      0.4639,     0.45936,     0.45499,     0.44923,     0.44475,     0.44027,     0.43362,     0.42618,     0.41676,     0.40812,     0.40078,     0.39358,     0.38671,     0.37936,     0.37165,     0.36408,      0.3572,     0.34971,     0.34325,     0.33624,     0.32829,\n",
       "            0.32127,      0.3109,     0.30238,     0.29563,     0.28877,     0.27882,     0.26907,     0.26328,     0.25484,     0.24403,     0.23571,     0.22719,     0.21861,      0.2108,     0.20298,     0.19671,     0.18995,     0.18407,     0.17847,     0.17109,     0.16249,     0.15711,     0.15016,\n",
       "            0.14233,      0.1346,     0.12881,     0.12396,     0.11742,     0.11067,     0.10496,     0.10105,    0.095444,    0.090443,    0.084693,    0.080039,    0.074443,    0.071123,    0.065998,    0.061033,    0.055409,    0.053119,    0.047566,    0.044672,    0.041456,    0.038611,    0.035318,\n",
       "           0.032374,    0.030221,    0.028527,    0.024575,     0.02131,    0.019291,     0.01795,     0.01648,    0.014447,    0.012696,    0.010073,   0.0094772,    0.008265,    0.007247,   0.0070149,   0.0061392,   0.0054976,   0.0051979,   0.0047727,   0.0043684,   0.0039706,   0.0027353,   0.0023938,\n",
       "          0.0018593,    0.001646,   0.0013736,   0.0011848,   0.0011239,    0.001063,   0.0010022,  0.00094127,  0.00058572,  0.00048133,  0.00037692,           0,           0,           0,           0,           0,           0,           0,           0,           0,           0,           0,           0,\n",
       "                  0,           0,           0,           0,           0,           0,           0,           0,           0,           0,           0,           0,           0,           0,           0,           0,           0,           0,           0,           0,           0,           0,           0,\n",
       "                  0,           0,           0,           0,           0,           0,           0,           0,           0,           0,           0,           0,           0,           0,           0,           0,           0,           0,           0,           0,           0,           0,           0,\n",
       "                  0,           0,           0,           0,           0,           0,           0,           0,           0,           0,           0]]), 'Confidence', 'F1'], [array([          0,    0.001001,    0.002002,    0.003003,    0.004004,    0.005005,    0.006006,    0.007007,    0.008008,    0.009009,     0.01001,    0.011011,    0.012012,    0.013013,    0.014014,    0.015015,    0.016016,    0.017017,    0.018018,    0.019019,     0.02002,    0.021021,    0.022022,    0.023023,\n",
       "          0.024024,    0.025025,    0.026026,    0.027027,    0.028028,    0.029029,     0.03003,    0.031031,    0.032032,    0.033033,    0.034034,    0.035035,    0.036036,    0.037037,    0.038038,    0.039039,     0.04004,    0.041041,    0.042042,    0.043043,    0.044044,    0.045045,    0.046046,    0.047047,\n",
       "          0.048048,    0.049049,     0.05005,    0.051051,    0.052052,    0.053053,    0.054054,    0.055055,    0.056056,    0.057057,    0.058058,    0.059059,     0.06006,    0.061061,    0.062062,    0.063063,    0.064064,    0.065065,    0.066066,    0.067067,    0.068068,    0.069069,     0.07007,    0.071071,\n",
       "          0.072072,    0.073073,    0.074074,    0.075075,    0.076076,    0.077077,    0.078078,    0.079079,     0.08008,    0.081081,    0.082082,    0.083083,    0.084084,    0.085085,    0.086086,    0.087087,    0.088088,    0.089089,     0.09009,    0.091091,    0.092092,    0.093093,    0.094094,    0.095095,\n",
       "          0.096096,    0.097097,    0.098098,    0.099099,      0.1001,      0.1011,      0.1021,      0.1031,      0.1041,     0.10511,     0.10611,     0.10711,     0.10811,     0.10911,     0.11011,     0.11111,     0.11211,     0.11311,     0.11411,     0.11512,     0.11612,     0.11712,     0.11812,     0.11912,\n",
       "           0.12012,     0.12112,     0.12212,     0.12312,     0.12412,     0.12513,     0.12613,     0.12713,     0.12813,     0.12913,     0.13013,     0.13113,     0.13213,     0.13313,     0.13413,     0.13514,     0.13614,     0.13714,     0.13814,     0.13914,     0.14014,     0.14114,     0.14214,     0.14314,\n",
       "           0.14414,     0.14515,     0.14615,     0.14715,     0.14815,     0.14915,     0.15015,     0.15115,     0.15215,     0.15315,     0.15415,     0.15516,     0.15616,     0.15716,     0.15816,     0.15916,     0.16016,     0.16116,     0.16216,     0.16316,     0.16416,     0.16517,     0.16617,     0.16717,\n",
       "           0.16817,     0.16917,     0.17017,     0.17117,     0.17217,     0.17317,     0.17417,     0.17518,     0.17618,     0.17718,     0.17818,     0.17918,     0.18018,     0.18118,     0.18218,     0.18318,     0.18418,     0.18519,     0.18619,     0.18719,     0.18819,     0.18919,     0.19019,     0.19119,\n",
       "           0.19219,     0.19319,     0.19419,      0.1952,      0.1962,      0.1972,      0.1982,      0.1992,      0.2002,      0.2012,      0.2022,      0.2032,      0.2042,     0.20521,     0.20621,     0.20721,     0.20821,     0.20921,     0.21021,     0.21121,     0.21221,     0.21321,     0.21421,     0.21522,\n",
       "           0.21622,     0.21722,     0.21822,     0.21922,     0.22022,     0.22122,     0.22222,     0.22322,     0.22422,     0.22523,     0.22623,     0.22723,     0.22823,     0.22923,     0.23023,     0.23123,     0.23223,     0.23323,     0.23423,     0.23524,     0.23624,     0.23724,     0.23824,     0.23924,\n",
       "           0.24024,     0.24124,     0.24224,     0.24324,     0.24424,     0.24525,     0.24625,     0.24725,     0.24825,     0.24925,     0.25025,     0.25125,     0.25225,     0.25325,     0.25425,     0.25526,     0.25626,     0.25726,     0.25826,     0.25926,     0.26026,     0.26126,     0.26226,     0.26326,\n",
       "           0.26426,     0.26527,     0.26627,     0.26727,     0.26827,     0.26927,     0.27027,     0.27127,     0.27227,     0.27327,     0.27427,     0.27528,     0.27628,     0.27728,     0.27828,     0.27928,     0.28028,     0.28128,     0.28228,     0.28328,     0.28428,     0.28529,     0.28629,     0.28729,\n",
       "           0.28829,     0.28929,     0.29029,     0.29129,     0.29229,     0.29329,     0.29429,      0.2953,      0.2963,      0.2973,      0.2983,      0.2993,      0.3003,      0.3013,      0.3023,      0.3033,      0.3043,     0.30531,     0.30631,     0.30731,     0.30831,     0.30931,     0.31031,     0.31131,\n",
       "           0.31231,     0.31331,     0.31431,     0.31532,     0.31632,     0.31732,     0.31832,     0.31932,     0.32032,     0.32132,     0.32232,     0.32332,     0.32432,     0.32533,     0.32633,     0.32733,     0.32833,     0.32933,     0.33033,     0.33133,     0.33233,     0.33333,     0.33433,     0.33534,\n",
       "           0.33634,     0.33734,     0.33834,     0.33934,     0.34034,     0.34134,     0.34234,     0.34334,     0.34434,     0.34535,     0.34635,     0.34735,     0.34835,     0.34935,     0.35035,     0.35135,     0.35235,     0.35335,     0.35435,     0.35536,     0.35636,     0.35736,     0.35836,     0.35936,\n",
       "           0.36036,     0.36136,     0.36236,     0.36336,     0.36436,     0.36537,     0.36637,     0.36737,     0.36837,     0.36937,     0.37037,     0.37137,     0.37237,     0.37337,     0.37437,     0.37538,     0.37638,     0.37738,     0.37838,     0.37938,     0.38038,     0.38138,     0.38238,     0.38338,\n",
       "           0.38438,     0.38539,     0.38639,     0.38739,     0.38839,     0.38939,     0.39039,     0.39139,     0.39239,     0.39339,     0.39439,      0.3954,      0.3964,      0.3974,      0.3984,      0.3994,      0.4004,      0.4014,      0.4024,      0.4034,      0.4044,     0.40541,     0.40641,     0.40741,\n",
       "           0.40841,     0.40941,     0.41041,     0.41141,     0.41241,     0.41341,     0.41441,     0.41542,     0.41642,     0.41742,     0.41842,     0.41942,     0.42042,     0.42142,     0.42242,     0.42342,     0.42442,     0.42543,     0.42643,     0.42743,     0.42843,     0.42943,     0.43043,     0.43143,\n",
       "           0.43243,     0.43343,     0.43443,     0.43544,     0.43644,     0.43744,     0.43844,     0.43944,     0.44044,     0.44144,     0.44244,     0.44344,     0.44444,     0.44545,     0.44645,     0.44745,     0.44845,     0.44945,     0.45045,     0.45145,     0.45245,     0.45345,     0.45445,     0.45546,\n",
       "           0.45646,     0.45746,     0.45846,     0.45946,     0.46046,     0.46146,     0.46246,     0.46346,     0.46446,     0.46547,     0.46647,     0.46747,     0.46847,     0.46947,     0.47047,     0.47147,     0.47247,     0.47347,     0.47447,     0.47548,     0.47648,     0.47748,     0.47848,     0.47948,\n",
       "           0.48048,     0.48148,     0.48248,     0.48348,     0.48448,     0.48549,     0.48649,     0.48749,     0.48849,     0.48949,     0.49049,     0.49149,     0.49249,     0.49349,     0.49449,      0.4955,      0.4965,      0.4975,      0.4985,      0.4995,      0.5005,      0.5015,      0.5025,      0.5035,\n",
       "            0.5045,     0.50551,     0.50651,     0.50751,     0.50851,     0.50951,     0.51051,     0.51151,     0.51251,     0.51351,     0.51451,     0.51552,     0.51652,     0.51752,     0.51852,     0.51952,     0.52052,     0.52152,     0.52252,     0.52352,     0.52452,     0.52553,     0.52653,     0.52753,\n",
       "           0.52853,     0.52953,     0.53053,     0.53153,     0.53253,     0.53353,     0.53453,     0.53554,     0.53654,     0.53754,     0.53854,     0.53954,     0.54054,     0.54154,     0.54254,     0.54354,     0.54454,     0.54555,     0.54655,     0.54755,     0.54855,     0.54955,     0.55055,     0.55155,\n",
       "           0.55255,     0.55355,     0.55455,     0.55556,     0.55656,     0.55756,     0.55856,     0.55956,     0.56056,     0.56156,     0.56256,     0.56356,     0.56456,     0.56557,     0.56657,     0.56757,     0.56857,     0.56957,     0.57057,     0.57157,     0.57257,     0.57357,     0.57457,     0.57558,\n",
       "           0.57658,     0.57758,     0.57858,     0.57958,     0.58058,     0.58158,     0.58258,     0.58358,     0.58458,     0.58559,     0.58659,     0.58759,     0.58859,     0.58959,     0.59059,     0.59159,     0.59259,     0.59359,     0.59459,      0.5956,      0.5966,      0.5976,      0.5986,      0.5996,\n",
       "            0.6006,      0.6016,      0.6026,      0.6036,      0.6046,     0.60561,     0.60661,     0.60761,     0.60861,     0.60961,     0.61061,     0.61161,     0.61261,     0.61361,     0.61461,     0.61562,     0.61662,     0.61762,     0.61862,     0.61962,     0.62062,     0.62162,     0.62262,     0.62362,\n",
       "           0.62462,     0.62563,     0.62663,     0.62763,     0.62863,     0.62963,     0.63063,     0.63163,     0.63263,     0.63363,     0.63463,     0.63564,     0.63664,     0.63764,     0.63864,     0.63964,     0.64064,     0.64164,     0.64264,     0.64364,     0.64464,     0.64565,     0.64665,     0.64765,\n",
       "           0.64865,     0.64965,     0.65065,     0.65165,     0.65265,     0.65365,     0.65465,     0.65566,     0.65666,     0.65766,     0.65866,     0.65966,     0.66066,     0.66166,     0.66266,     0.66366,     0.66466,     0.66567,     0.66667,     0.66767,     0.66867,     0.66967,     0.67067,     0.67167,\n",
       "           0.67267,     0.67367,     0.67467,     0.67568,     0.67668,     0.67768,     0.67868,     0.67968,     0.68068,     0.68168,     0.68268,     0.68368,     0.68468,     0.68569,     0.68669,     0.68769,     0.68869,     0.68969,     0.69069,     0.69169,     0.69269,     0.69369,     0.69469,      0.6957,\n",
       "            0.6967,      0.6977,      0.6987,      0.6997,      0.7007,      0.7017,      0.7027,      0.7037,      0.7047,     0.70571,     0.70671,     0.70771,     0.70871,     0.70971,     0.71071,     0.71171,     0.71271,     0.71371,     0.71471,     0.71572,     0.71672,     0.71772,     0.71872,     0.71972,\n",
       "           0.72072,     0.72172,     0.72272,     0.72372,     0.72472,     0.72573,     0.72673,     0.72773,     0.72873,     0.72973,     0.73073,     0.73173,     0.73273,     0.73373,     0.73473,     0.73574,     0.73674,     0.73774,     0.73874,     0.73974,     0.74074,     0.74174,     0.74274,     0.74374,\n",
       "           0.74474,     0.74575,     0.74675,     0.74775,     0.74875,     0.74975,     0.75075,     0.75175,     0.75275,     0.75375,     0.75475,     0.75576,     0.75676,     0.75776,     0.75876,     0.75976,     0.76076,     0.76176,     0.76276,     0.76376,     0.76476,     0.76577,     0.76677,     0.76777,\n",
       "           0.76877,     0.76977,     0.77077,     0.77177,     0.77277,     0.77377,     0.77477,     0.77578,     0.77678,     0.77778,     0.77878,     0.77978,     0.78078,     0.78178,     0.78278,     0.78378,     0.78478,     0.78579,     0.78679,     0.78779,     0.78879,     0.78979,     0.79079,     0.79179,\n",
       "           0.79279,     0.79379,     0.79479,      0.7958,      0.7968,      0.7978,      0.7988,      0.7998,      0.8008,      0.8018,      0.8028,      0.8038,      0.8048,     0.80581,     0.80681,     0.80781,     0.80881,     0.80981,     0.81081,     0.81181,     0.81281,     0.81381,     0.81481,     0.81582,\n",
       "           0.81682,     0.81782,     0.81882,     0.81982,     0.82082,     0.82182,     0.82282,     0.82382,     0.82482,     0.82583,     0.82683,     0.82783,     0.82883,     0.82983,     0.83083,     0.83183,     0.83283,     0.83383,     0.83483,     0.83584,     0.83684,     0.83784,     0.83884,     0.83984,\n",
       "           0.84084,     0.84184,     0.84284,     0.84384,     0.84484,     0.84585,     0.84685,     0.84785,     0.84885,     0.84985,     0.85085,     0.85185,     0.85285,     0.85385,     0.85485,     0.85586,     0.85686,     0.85786,     0.85886,     0.85986,     0.86086,     0.86186,     0.86286,     0.86386,\n",
       "           0.86486,     0.86587,     0.86687,     0.86787,     0.86887,     0.86987,     0.87087,     0.87187,     0.87287,     0.87387,     0.87487,     0.87588,     0.87688,     0.87788,     0.87888,     0.87988,     0.88088,     0.88188,     0.88288,     0.88388,     0.88488,     0.88589,     0.88689,     0.88789,\n",
       "           0.88889,     0.88989,     0.89089,     0.89189,     0.89289,     0.89389,     0.89489,      0.8959,      0.8969,      0.8979,      0.8989,      0.8999,      0.9009,      0.9019,      0.9029,      0.9039,      0.9049,     0.90591,     0.90691,     0.90791,     0.90891,     0.90991,     0.91091,     0.91191,\n",
       "           0.91291,     0.91391,     0.91491,     0.91592,     0.91692,     0.91792,     0.91892,     0.91992,     0.92092,     0.92192,     0.92292,     0.92392,     0.92492,     0.92593,     0.92693,     0.92793,     0.92893,     0.92993,     0.93093,     0.93193,     0.93293,     0.93393,     0.93493,     0.93594,\n",
       "           0.93694,     0.93794,     0.93894,     0.93994,     0.94094,     0.94194,     0.94294,     0.94394,     0.94494,     0.94595,     0.94695,     0.94795,     0.94895,     0.94995,     0.95095,     0.95195,     0.95295,     0.95395,     0.95495,     0.95596,     0.95696,     0.95796,     0.95896,     0.95996,\n",
       "           0.96096,     0.96196,     0.96296,     0.96396,     0.96496,     0.96597,     0.96697,     0.96797,     0.96897,     0.96997,     0.97097,     0.97197,     0.97297,     0.97397,     0.97497,     0.97598,     0.97698,     0.97798,     0.97898,     0.97998,     0.98098,     0.98198,     0.98298,     0.98398,\n",
       "           0.98498,     0.98599,     0.98699,     0.98799,     0.98899,     0.98999,     0.99099,     0.99199,     0.99299,     0.99399,     0.99499,       0.996,       0.997,       0.998,       0.999,           1]), array([[    0.33343,     0.33354,      0.4147,     0.46192,     0.49724,     0.52326,     0.54366,     0.56082,     0.57582,     0.58943,     0.60061,     0.61117,     0.62039,     0.62928,     0.63627,     0.64291,     0.64906,     0.65595,     0.66077,     0.66559,     0.67037,     0.67493,     0.67876,\n",
       "            0.68268,     0.68671,     0.69037,     0.69391,     0.69765,      0.7012,      0.7055,     0.70934,     0.71239,     0.71564,     0.71801,     0.72047,     0.72385,     0.72568,     0.72817,     0.72972,     0.73198,     0.73402,     0.73619,     0.73857,     0.74159,     0.74359,     0.74615,\n",
       "            0.74782,     0.74944,     0.75025,     0.75202,     0.75389,     0.75602,      0.7577,      0.7591,     0.76123,     0.76237,     0.76376,     0.76573,     0.76775,     0.76919,     0.77108,     0.77242,     0.77363,     0.77471,       0.777,      0.7785,      0.7806,     0.78145,      0.7821,\n",
       "            0.78326,     0.78538,     0.78634,     0.78768,      0.7884,     0.78951,     0.79082,     0.79193,     0.79234,     0.79341,     0.79441,     0.79597,     0.79695,     0.79725,     0.79849,     0.79975,     0.80005,     0.80104,     0.80151,     0.80245,     0.80315,     0.80385,     0.80461,\n",
       "            0.80621,     0.80676,     0.80696,     0.80785,     0.80914,      0.8091,     0.80944,     0.81063,     0.81123,     0.81241,     0.81268,     0.81367,     0.81466,     0.81552,      0.8159,     0.81661,     0.81794,     0.81845,     0.81937,     0.81993,     0.82084,     0.82162,     0.82218,\n",
       "            0.82292,     0.82305,     0.82314,     0.82388,     0.82422,     0.82496,     0.82515,     0.82623,     0.82633,     0.82696,     0.82751,       0.828,     0.82869,      0.8297,     0.83004,     0.83099,     0.83158,     0.83197,     0.83229,     0.83278,     0.83328,     0.83464,     0.83529,\n",
       "             0.8359,     0.83641,     0.83686,      0.8371,      0.8381,     0.83845,     0.83876,     0.83904,     0.83961,     0.84018,     0.84031,      0.8406,     0.84079,     0.84142,     0.84218,     0.84292,     0.84366,     0.84421,     0.84466,     0.84514,     0.84587,     0.84611,     0.84677,\n",
       "            0.84722,     0.84778,     0.84863,     0.84924,     0.84969,        0.85,     0.85063,     0.85096,     0.85102,      0.8514,     0.85177,     0.85265,     0.85315,     0.85395,     0.85431,     0.85456,     0.85494,      0.8552,     0.85581,     0.85614,     0.85646,     0.85658,     0.85728,\n",
       "             0.8575,     0.85822,     0.85859,     0.85905,     0.85954,      0.8602,     0.86069,      0.8611,     0.86122,     0.86177,     0.86249,     0.86284,     0.86324,     0.86394,     0.86428,     0.86476,     0.86513,     0.86554,     0.86587,     0.86612,     0.86648,     0.86685,     0.86752,\n",
       "            0.86756,     0.86783,     0.86796,     0.86837,      0.8686,     0.86889,     0.86899,     0.86911,     0.86967,     0.86994,     0.87047,     0.87116,     0.87146,     0.87173,      0.8722,     0.87268,     0.87304,     0.87322,     0.87364,     0.87407,     0.87426,     0.87444,     0.87465,\n",
       "            0.87476,     0.87474,     0.87473,     0.87494,     0.87551,     0.87589,     0.87609,     0.87653,     0.87677,     0.87675,     0.87686,     0.87741,     0.87777,     0.87811,     0.87809,     0.87865,     0.87878,     0.87895,     0.87924,     0.87936,     0.87968,     0.87987,     0.88024,\n",
       "            0.88092,     0.88104,     0.88117,     0.88155,     0.88195,     0.88227,     0.88227,      0.8825,     0.88288,     0.88339,      0.8835,     0.88374,     0.88393,     0.88426,     0.88516,     0.88534,     0.88563,     0.88582,     0.88622,     0.88665,      0.8869,     0.88696,     0.88741,\n",
       "              0.888,     0.88856,     0.88866,     0.88894,     0.88911,     0.88938,     0.88963,     0.89014,     0.89032,     0.89077,     0.89103,     0.89163,     0.89172,     0.89213,     0.89255,     0.89266,     0.89281,     0.89323,      0.8939,     0.89394,     0.89424,      0.8947,     0.89508,\n",
       "            0.89559,     0.89585,     0.89635,     0.89658,     0.89672,     0.89689,      0.8971,     0.89764,     0.89775,     0.89845,     0.89861,     0.89881,     0.89878,     0.89944,     0.89968,     0.89994,     0.89992,     0.90018,     0.90071,     0.90106,     0.90152,      0.9016,     0.90175,\n",
       "            0.90206,     0.90236,     0.90297,      0.9031,     0.90309,     0.90338,     0.90337,     0.90336,     0.90347,     0.90378,     0.90443,     0.90481,     0.90519,      0.9055,     0.90576,     0.90585,     0.90602,      0.9061,     0.90614,     0.90648,     0.90658,     0.90714,     0.90728,\n",
       "            0.90755,     0.90768,     0.90783,     0.90813,     0.90813,     0.90828,     0.90841,     0.90856,     0.90894,     0.90915,     0.90945,     0.90958,     0.90955,     0.90995,     0.91008,     0.91012,      0.9101,     0.91045,     0.91053,     0.91074,     0.91106,     0.91174,       0.912,\n",
       "             0.9123,     0.91225,     0.91223,     0.91222,      0.9123,     0.91228,     0.91275,     0.91306,     0.91302,     0.91337,     0.91349,     0.91391,     0.91414,     0.91428,     0.91425,      0.9144,     0.91437,     0.91431,      0.9143,     0.91442,     0.91445,     0.91458,     0.91458,\n",
       "            0.91458,     0.91494,     0.91504,     0.91502,     0.91501,     0.91523,      0.9153,     0.91534,     0.91556,     0.91563,      0.9161,     0.91637,     0.91637,     0.91649,     0.91665,     0.91662,     0.91692,     0.91724,     0.91721,     0.91751,     0.91777,     0.91783,     0.91801,\n",
       "            0.91812,     0.91826,      0.9184,     0.91839,     0.91855,     0.91854,     0.91906,     0.91912,     0.91909,     0.91922,     0.91971,     0.91982,     0.91993,     0.92016,     0.92039,      0.9206,     0.92065,      0.9209,     0.92107,     0.92123,     0.92135,     0.92166,      0.9219,\n",
       "            0.92215,     0.92228,     0.92225,     0.92235,     0.92257,     0.92268,     0.92301,     0.92303,     0.92347,     0.92348,     0.92396,     0.92411,     0.92429,     0.92454,     0.92518,     0.92542,     0.92538,      0.9262,     0.92651,     0.92649,     0.92649,     0.92658,     0.92671,\n",
       "            0.92711,     0.92708,     0.92723,     0.92727,     0.92767,     0.92778,     0.92817,      0.9289,     0.92922,     0.92951,     0.92971,      0.9299,      0.9304,     0.93061,     0.93069,     0.93067,     0.93083,     0.93116,     0.93146,     0.93142,     0.93169,     0.93191,     0.93243,\n",
       "            0.93255,     0.93304,     0.93326,     0.93337,     0.93354,      0.9337,     0.93387,     0.93389,     0.93411,     0.93414,     0.93433,     0.93456,      0.9346,     0.93468,     0.93493,     0.93519,     0.93529,     0.93579,     0.93577,     0.93606,     0.93625,     0.93621,     0.93706,\n",
       "            0.93731,     0.93793,     0.93827,     0.93859,     0.93874,     0.93869,     0.93899,      0.9392,     0.93954,     0.93969,     0.93969,     0.93983,     0.94017,     0.94032,      0.9405,     0.94064,       0.941,     0.94149,     0.94147,     0.94161,     0.94158,     0.94194,     0.94209,\n",
       "            0.94207,     0.94204,      0.9424,     0.94238,     0.94236,     0.94253,     0.94249,      0.9425,     0.94263,     0.94278,     0.94296,     0.94348,     0.94379,     0.94382,     0.94439,     0.94454,     0.94449,     0.94448,     0.94446,     0.94474,     0.94496,     0.94494,     0.94529,\n",
       "            0.94528,     0.94526,     0.94543,     0.94597,     0.94614,     0.94628,     0.94642,     0.94645,     0.94675,     0.94714,     0.94767,     0.94803,     0.94801,     0.94834,     0.94903,     0.94946,     0.94942,     0.94965,     0.94973,     0.94987,     0.95037,     0.95064,     0.95079,\n",
       "            0.95072,     0.95106,     0.95124,     0.95123,     0.95159,      0.9519,      0.9522,      0.9523,     0.95226,     0.95253,     0.95264,     0.95261,     0.95286,     0.95333,      0.9535,     0.95346,     0.95423,     0.95422,     0.95454,     0.95473,     0.95472,     0.95529,     0.95575,\n",
       "            0.95619,     0.95668,     0.95733,      0.9573,     0.95729,     0.95746,     0.95742,      0.9576,     0.95778,     0.95794,      0.9583,     0.95848,     0.95842,     0.95841,      0.9584,     0.95858,     0.95853,     0.95848,     0.95865,     0.95865,     0.95899,     0.95908,     0.95915,\n",
       "             0.9591,     0.95947,     0.95964,     0.95982,     0.96038,     0.96031,     0.96028,     0.96126,     0.96123,     0.96169,       0.962,     0.96196,     0.96195,     0.96232,     0.96234,     0.96279,     0.96307,     0.96304,     0.96362,     0.96379,     0.96419,     0.96415,     0.96412,\n",
       "            0.96459,     0.96512,     0.96528,     0.96566,     0.96563,     0.96598,     0.96595,     0.96634,     0.96652,     0.96667,     0.96727,     0.96725,     0.96731,     0.96782,     0.96819,     0.96818,     0.96922,     0.96919,     0.96959,     0.96975,     0.96973,     0.96993,     0.97012,\n",
       "            0.97071,     0.97115,      0.9711,     0.97108,     0.97102,     0.97122,     0.97117,     0.97137,     0.97134,     0.97154,     0.97195,     0.97225,     0.97256,     0.97274,     0.97336,     0.97387,     0.97421,     0.97436,     0.97482,     0.97543,     0.97562,     0.97582,     0.97579,\n",
       "            0.97575,     0.97568,     0.97564,     0.97562,     0.97559,     0.97624,     0.97641,     0.97673,     0.97682,       0.977,     0.97696,     0.97691,      0.9771,     0.97718,     0.97724,      0.9772,     0.97718,     0.97714,     0.97757,     0.97797,     0.97817,     0.97813,     0.97806,\n",
       "            0.97801,     0.97891,     0.97885,     0.97952,     0.97971,     0.98058,     0.98058,     0.98053,     0.98083,     0.98142,     0.98162,     0.98183,     0.98225,     0.98222,     0.98244,     0.98289,     0.98321,     0.98357,     0.98375,     0.98398,     0.98419,     0.98415,     0.98411,\n",
       "            0.98429,      0.9845,     0.98466,     0.98515,     0.98562,     0.98583,     0.98628,     0.98625,      0.9862,     0.98636,      0.9866,     0.98723,     0.98757,     0.98779,     0.98775,      0.9877,     0.98766,     0.98789,     0.98786,      0.9878,     0.98775,     0.98771,     0.98821,\n",
       "            0.98843,     0.98865,     0.98942,     0.98937,     0.98956,     0.99012,     0.99036,     0.99059,      0.9906,     0.99078,     0.99102,     0.99099,     0.99121,     0.99117,      0.9917,     0.99194,     0.99189,     0.99183,     0.99179,     0.99234,     0.99259,     0.99256,     0.99283,\n",
       "            0.99277,     0.99274,     0.99269,     0.99266,     0.99292,     0.99284,      0.9931,     0.99335,     0.99333,      0.9933,     0.99389,     0.99417,     0.99446,     0.99474,      0.9947,     0.99465,     0.99495,     0.99491,     0.99486,     0.99496,     0.99511,     0.99507,     0.99501,\n",
       "            0.99494,     0.99487,     0.99483,     0.99477,     0.99585,     0.99581,     0.99615,      0.9961,     0.99606,     0.99601,     0.99596,      0.9959,     0.99585,      0.9958,     0.99575,     0.99569,     0.99563,     0.99557,     0.99595,     0.99635,     0.99629,     0.99669,     0.99665,\n",
       "             0.9966,     0.99654,     0.99698,     0.99745,     0.99793,      0.9979,     0.99787,     0.99892,      0.9989,     0.99887,     0.99884,     0.99881,     0.99878,     0.99938,     0.99936,     0.99935,     0.99933,     0.99931,      0.9993,     0.99928,     0.99926,     0.99924,     0.99922,\n",
       "             0.9992,     0.99917,     0.99914,     0.99912,      0.9991,     0.99906,     0.99902,     0.99899,     0.99896,      0.9989,     0.99886,           1,           1,           1,           1,           1,           1,           1,           1,           1,           1,           1,           1,\n",
       "                  1,           1,           1,           1,           1,           1,           1,           1,           1,           1,           1,           1,           1,           1,           1,           1,           1,           1,           1,           1,           1,           1,           1,\n",
       "                  1,           1,           1,           1,           1,           1,           1,           1,           1,           1,           1,           1,           1,           1,           1,           1,           1,           1,           1,           1,           1,           1,           1,\n",
       "                  1,           1,           1,           1,           1,           1,           1,           1,           1,           1,           1,           1,           1,           1,           1,           1,           1,           1,           1,           1,           1,           1,           1,\n",
       "                  1,           1,           1,           1,           1,           1,           1,           1,           1,           1,           1,           1,           1,           1,           1,           1,           1,           1,           1,           1,           1,           1,           1,\n",
       "                  1,           1,           1,           1,           1,           1,           1,           1,           1,           1,           1,           1,           1,           1,           1,           1,           1,           1,           1,           1,           1,           1,           1,\n",
       "                  1,           1,           1,           1,           1,           1,           1,           1,           1,           1,           1]]), 'Confidence', 'Precision'], [array([          0,    0.001001,    0.002002,    0.003003,    0.004004,    0.005005,    0.006006,    0.007007,    0.008008,    0.009009,     0.01001,    0.011011,    0.012012,    0.013013,    0.014014,    0.015015,    0.016016,    0.017017,    0.018018,    0.019019,     0.02002,    0.021021,    0.022022,    0.023023,\n",
       "          0.024024,    0.025025,    0.026026,    0.027027,    0.028028,    0.029029,     0.03003,    0.031031,    0.032032,    0.033033,    0.034034,    0.035035,    0.036036,    0.037037,    0.038038,    0.039039,     0.04004,    0.041041,    0.042042,    0.043043,    0.044044,    0.045045,    0.046046,    0.047047,\n",
       "          0.048048,    0.049049,     0.05005,    0.051051,    0.052052,    0.053053,    0.054054,    0.055055,    0.056056,    0.057057,    0.058058,    0.059059,     0.06006,    0.061061,    0.062062,    0.063063,    0.064064,    0.065065,    0.066066,    0.067067,    0.068068,    0.069069,     0.07007,    0.071071,\n",
       "          0.072072,    0.073073,    0.074074,    0.075075,    0.076076,    0.077077,    0.078078,    0.079079,     0.08008,    0.081081,    0.082082,    0.083083,    0.084084,    0.085085,    0.086086,    0.087087,    0.088088,    0.089089,     0.09009,    0.091091,    0.092092,    0.093093,    0.094094,    0.095095,\n",
       "          0.096096,    0.097097,    0.098098,    0.099099,      0.1001,      0.1011,      0.1021,      0.1031,      0.1041,     0.10511,     0.10611,     0.10711,     0.10811,     0.10911,     0.11011,     0.11111,     0.11211,     0.11311,     0.11411,     0.11512,     0.11612,     0.11712,     0.11812,     0.11912,\n",
       "           0.12012,     0.12112,     0.12212,     0.12312,     0.12412,     0.12513,     0.12613,     0.12713,     0.12813,     0.12913,     0.13013,     0.13113,     0.13213,     0.13313,     0.13413,     0.13514,     0.13614,     0.13714,     0.13814,     0.13914,     0.14014,     0.14114,     0.14214,     0.14314,\n",
       "           0.14414,     0.14515,     0.14615,     0.14715,     0.14815,     0.14915,     0.15015,     0.15115,     0.15215,     0.15315,     0.15415,     0.15516,     0.15616,     0.15716,     0.15816,     0.15916,     0.16016,     0.16116,     0.16216,     0.16316,     0.16416,     0.16517,     0.16617,     0.16717,\n",
       "           0.16817,     0.16917,     0.17017,     0.17117,     0.17217,     0.17317,     0.17417,     0.17518,     0.17618,     0.17718,     0.17818,     0.17918,     0.18018,     0.18118,     0.18218,     0.18318,     0.18418,     0.18519,     0.18619,     0.18719,     0.18819,     0.18919,     0.19019,     0.19119,\n",
       "           0.19219,     0.19319,     0.19419,      0.1952,      0.1962,      0.1972,      0.1982,      0.1992,      0.2002,      0.2012,      0.2022,      0.2032,      0.2042,     0.20521,     0.20621,     0.20721,     0.20821,     0.20921,     0.21021,     0.21121,     0.21221,     0.21321,     0.21421,     0.21522,\n",
       "           0.21622,     0.21722,     0.21822,     0.21922,     0.22022,     0.22122,     0.22222,     0.22322,     0.22422,     0.22523,     0.22623,     0.22723,     0.22823,     0.22923,     0.23023,     0.23123,     0.23223,     0.23323,     0.23423,     0.23524,     0.23624,     0.23724,     0.23824,     0.23924,\n",
       "           0.24024,     0.24124,     0.24224,     0.24324,     0.24424,     0.24525,     0.24625,     0.24725,     0.24825,     0.24925,     0.25025,     0.25125,     0.25225,     0.25325,     0.25425,     0.25526,     0.25626,     0.25726,     0.25826,     0.25926,     0.26026,     0.26126,     0.26226,     0.26326,\n",
       "           0.26426,     0.26527,     0.26627,     0.26727,     0.26827,     0.26927,     0.27027,     0.27127,     0.27227,     0.27327,     0.27427,     0.27528,     0.27628,     0.27728,     0.27828,     0.27928,     0.28028,     0.28128,     0.28228,     0.28328,     0.28428,     0.28529,     0.28629,     0.28729,\n",
       "           0.28829,     0.28929,     0.29029,     0.29129,     0.29229,     0.29329,     0.29429,      0.2953,      0.2963,      0.2973,      0.2983,      0.2993,      0.3003,      0.3013,      0.3023,      0.3033,      0.3043,     0.30531,     0.30631,     0.30731,     0.30831,     0.30931,     0.31031,     0.31131,\n",
       "           0.31231,     0.31331,     0.31431,     0.31532,     0.31632,     0.31732,     0.31832,     0.31932,     0.32032,     0.32132,     0.32232,     0.32332,     0.32432,     0.32533,     0.32633,     0.32733,     0.32833,     0.32933,     0.33033,     0.33133,     0.33233,     0.33333,     0.33433,     0.33534,\n",
       "           0.33634,     0.33734,     0.33834,     0.33934,     0.34034,     0.34134,     0.34234,     0.34334,     0.34434,     0.34535,     0.34635,     0.34735,     0.34835,     0.34935,     0.35035,     0.35135,     0.35235,     0.35335,     0.35435,     0.35536,     0.35636,     0.35736,     0.35836,     0.35936,\n",
       "           0.36036,     0.36136,     0.36236,     0.36336,     0.36436,     0.36537,     0.36637,     0.36737,     0.36837,     0.36937,     0.37037,     0.37137,     0.37237,     0.37337,     0.37437,     0.37538,     0.37638,     0.37738,     0.37838,     0.37938,     0.38038,     0.38138,     0.38238,     0.38338,\n",
       "           0.38438,     0.38539,     0.38639,     0.38739,     0.38839,     0.38939,     0.39039,     0.39139,     0.39239,     0.39339,     0.39439,      0.3954,      0.3964,      0.3974,      0.3984,      0.3994,      0.4004,      0.4014,      0.4024,      0.4034,      0.4044,     0.40541,     0.40641,     0.40741,\n",
       "           0.40841,     0.40941,     0.41041,     0.41141,     0.41241,     0.41341,     0.41441,     0.41542,     0.41642,     0.41742,     0.41842,     0.41942,     0.42042,     0.42142,     0.42242,     0.42342,     0.42442,     0.42543,     0.42643,     0.42743,     0.42843,     0.42943,     0.43043,     0.43143,\n",
       "           0.43243,     0.43343,     0.43443,     0.43544,     0.43644,     0.43744,     0.43844,     0.43944,     0.44044,     0.44144,     0.44244,     0.44344,     0.44444,     0.44545,     0.44645,     0.44745,     0.44845,     0.44945,     0.45045,     0.45145,     0.45245,     0.45345,     0.45445,     0.45546,\n",
       "           0.45646,     0.45746,     0.45846,     0.45946,     0.46046,     0.46146,     0.46246,     0.46346,     0.46446,     0.46547,     0.46647,     0.46747,     0.46847,     0.46947,     0.47047,     0.47147,     0.47247,     0.47347,     0.47447,     0.47548,     0.47648,     0.47748,     0.47848,     0.47948,\n",
       "           0.48048,     0.48148,     0.48248,     0.48348,     0.48448,     0.48549,     0.48649,     0.48749,     0.48849,     0.48949,     0.49049,     0.49149,     0.49249,     0.49349,     0.49449,      0.4955,      0.4965,      0.4975,      0.4985,      0.4995,      0.5005,      0.5015,      0.5025,      0.5035,\n",
       "            0.5045,     0.50551,     0.50651,     0.50751,     0.50851,     0.50951,     0.51051,     0.51151,     0.51251,     0.51351,     0.51451,     0.51552,     0.51652,     0.51752,     0.51852,     0.51952,     0.52052,     0.52152,     0.52252,     0.52352,     0.52452,     0.52553,     0.52653,     0.52753,\n",
       "           0.52853,     0.52953,     0.53053,     0.53153,     0.53253,     0.53353,     0.53453,     0.53554,     0.53654,     0.53754,     0.53854,     0.53954,     0.54054,     0.54154,     0.54254,     0.54354,     0.54454,     0.54555,     0.54655,     0.54755,     0.54855,     0.54955,     0.55055,     0.55155,\n",
       "           0.55255,     0.55355,     0.55455,     0.55556,     0.55656,     0.55756,     0.55856,     0.55956,     0.56056,     0.56156,     0.56256,     0.56356,     0.56456,     0.56557,     0.56657,     0.56757,     0.56857,     0.56957,     0.57057,     0.57157,     0.57257,     0.57357,     0.57457,     0.57558,\n",
       "           0.57658,     0.57758,     0.57858,     0.57958,     0.58058,     0.58158,     0.58258,     0.58358,     0.58458,     0.58559,     0.58659,     0.58759,     0.58859,     0.58959,     0.59059,     0.59159,     0.59259,     0.59359,     0.59459,      0.5956,      0.5966,      0.5976,      0.5986,      0.5996,\n",
       "            0.6006,      0.6016,      0.6026,      0.6036,      0.6046,     0.60561,     0.60661,     0.60761,     0.60861,     0.60961,     0.61061,     0.61161,     0.61261,     0.61361,     0.61461,     0.61562,     0.61662,     0.61762,     0.61862,     0.61962,     0.62062,     0.62162,     0.62262,     0.62362,\n",
       "           0.62462,     0.62563,     0.62663,     0.62763,     0.62863,     0.62963,     0.63063,     0.63163,     0.63263,     0.63363,     0.63463,     0.63564,     0.63664,     0.63764,     0.63864,     0.63964,     0.64064,     0.64164,     0.64264,     0.64364,     0.64464,     0.64565,     0.64665,     0.64765,\n",
       "           0.64865,     0.64965,     0.65065,     0.65165,     0.65265,     0.65365,     0.65465,     0.65566,     0.65666,     0.65766,     0.65866,     0.65966,     0.66066,     0.66166,     0.66266,     0.66366,     0.66466,     0.66567,     0.66667,     0.66767,     0.66867,     0.66967,     0.67067,     0.67167,\n",
       "           0.67267,     0.67367,     0.67467,     0.67568,     0.67668,     0.67768,     0.67868,     0.67968,     0.68068,     0.68168,     0.68268,     0.68368,     0.68468,     0.68569,     0.68669,     0.68769,     0.68869,     0.68969,     0.69069,     0.69169,     0.69269,     0.69369,     0.69469,      0.6957,\n",
       "            0.6967,      0.6977,      0.6987,      0.6997,      0.7007,      0.7017,      0.7027,      0.7037,      0.7047,     0.70571,     0.70671,     0.70771,     0.70871,     0.70971,     0.71071,     0.71171,     0.71271,     0.71371,     0.71471,     0.71572,     0.71672,     0.71772,     0.71872,     0.71972,\n",
       "           0.72072,     0.72172,     0.72272,     0.72372,     0.72472,     0.72573,     0.72673,     0.72773,     0.72873,     0.72973,     0.73073,     0.73173,     0.73273,     0.73373,     0.73473,     0.73574,     0.73674,     0.73774,     0.73874,     0.73974,     0.74074,     0.74174,     0.74274,     0.74374,\n",
       "           0.74474,     0.74575,     0.74675,     0.74775,     0.74875,     0.74975,     0.75075,     0.75175,     0.75275,     0.75375,     0.75475,     0.75576,     0.75676,     0.75776,     0.75876,     0.75976,     0.76076,     0.76176,     0.76276,     0.76376,     0.76476,     0.76577,     0.76677,     0.76777,\n",
       "           0.76877,     0.76977,     0.77077,     0.77177,     0.77277,     0.77377,     0.77477,     0.77578,     0.77678,     0.77778,     0.77878,     0.77978,     0.78078,     0.78178,     0.78278,     0.78378,     0.78478,     0.78579,     0.78679,     0.78779,     0.78879,     0.78979,     0.79079,     0.79179,\n",
       "           0.79279,     0.79379,     0.79479,      0.7958,      0.7968,      0.7978,      0.7988,      0.7998,      0.8008,      0.8018,      0.8028,      0.8038,      0.8048,     0.80581,     0.80681,     0.80781,     0.80881,     0.80981,     0.81081,     0.81181,     0.81281,     0.81381,     0.81481,     0.81582,\n",
       "           0.81682,     0.81782,     0.81882,     0.81982,     0.82082,     0.82182,     0.82282,     0.82382,     0.82482,     0.82583,     0.82683,     0.82783,     0.82883,     0.82983,     0.83083,     0.83183,     0.83283,     0.83383,     0.83483,     0.83584,     0.83684,     0.83784,     0.83884,     0.83984,\n",
       "           0.84084,     0.84184,     0.84284,     0.84384,     0.84484,     0.84585,     0.84685,     0.84785,     0.84885,     0.84985,     0.85085,     0.85185,     0.85285,     0.85385,     0.85485,     0.85586,     0.85686,     0.85786,     0.85886,     0.85986,     0.86086,     0.86186,     0.86286,     0.86386,\n",
       "           0.86486,     0.86587,     0.86687,     0.86787,     0.86887,     0.86987,     0.87087,     0.87187,     0.87287,     0.87387,     0.87487,     0.87588,     0.87688,     0.87788,     0.87888,     0.87988,     0.88088,     0.88188,     0.88288,     0.88388,     0.88488,     0.88589,     0.88689,     0.88789,\n",
       "           0.88889,     0.88989,     0.89089,     0.89189,     0.89289,     0.89389,     0.89489,      0.8959,      0.8969,      0.8979,      0.8989,      0.8999,      0.9009,      0.9019,      0.9029,      0.9039,      0.9049,     0.90591,     0.90691,     0.90791,     0.90891,     0.90991,     0.91091,     0.91191,\n",
       "           0.91291,     0.91391,     0.91491,     0.91592,     0.91692,     0.91792,     0.91892,     0.91992,     0.92092,     0.92192,     0.92292,     0.92392,     0.92492,     0.92593,     0.92693,     0.92793,     0.92893,     0.92993,     0.93093,     0.93193,     0.93293,     0.93393,     0.93493,     0.93594,\n",
       "           0.93694,     0.93794,     0.93894,     0.93994,     0.94094,     0.94194,     0.94294,     0.94394,     0.94494,     0.94595,     0.94695,     0.94795,     0.94895,     0.94995,     0.95095,     0.95195,     0.95295,     0.95395,     0.95495,     0.95596,     0.95696,     0.95796,     0.95896,     0.95996,\n",
       "           0.96096,     0.96196,     0.96296,     0.96396,     0.96496,     0.96597,     0.96697,     0.96797,     0.96897,     0.96997,     0.97097,     0.97197,     0.97297,     0.97397,     0.97497,     0.97598,     0.97698,     0.97798,     0.97898,     0.97998,     0.98098,     0.98198,     0.98298,     0.98398,\n",
       "           0.98498,     0.98599,     0.98699,     0.98799,     0.98899,     0.98999,     0.99099,     0.99199,     0.99299,     0.99399,     0.99499,       0.996,       0.997,       0.998,       0.999,           1]), array([[    0.86786,     0.86771,     0.86465,     0.86149,     0.85961,     0.85793,     0.85655,     0.85533,     0.85441,      0.8538,     0.85243,     0.85182,     0.85136,     0.85029,     0.84953,     0.84892,      0.8483,     0.84769,     0.84754,     0.84739,     0.84662,     0.84617,     0.84571,\n",
       "            0.84525,     0.84433,     0.84387,     0.84326,      0.8428,      0.8428,     0.84204,     0.84189,     0.84128,     0.84067,     0.84051,     0.84051,     0.84005,      0.8396,     0.83944,     0.83883,      0.8386,     0.83822,     0.83807,     0.83792,     0.83792,     0.83777,     0.83776,\n",
       "            0.83731,     0.83715,     0.83669,     0.83639,     0.83593,     0.83593,     0.83562,     0.83532,     0.83501,     0.83471,     0.83469,     0.83456,      0.8341,     0.83394,     0.83318,     0.83288,     0.83288,     0.83272,     0.83257,     0.83226,     0.83211,     0.83211,     0.83165,\n",
       "            0.83135,     0.83119,     0.83104,     0.83104,     0.83104,     0.83104,     0.83104,     0.83086,     0.83074,     0.83074,     0.83028,     0.83018,     0.82982,     0.82967,     0.82936,     0.82912,     0.82875,     0.82875,      0.8286,     0.82844,     0.82814,     0.82814,     0.82799,\n",
       "            0.82768,     0.82753,     0.82753,     0.82724,     0.82705,     0.82676,     0.82646,     0.82646,     0.82631,     0.82631,     0.82631,       0.826,      0.8257,     0.82522,     0.82508,     0.82493,     0.82478,     0.82463,     0.82417,     0.82386,     0.82386,     0.82371,     0.82356,\n",
       "            0.82356,     0.82353,      0.8234,     0.82323,     0.82306,     0.82279,     0.82264,     0.82249,     0.82209,     0.82188,     0.82188,     0.82172,     0.82142,     0.82126,      0.8207,     0.82065,     0.82065,     0.82065,      0.8202,      0.8202,     0.82005,     0.81989,     0.81962,\n",
       "            0.81958,     0.81958,     0.81943,     0.81928,     0.81928,     0.81903,     0.81897,     0.81882,     0.81867,     0.81852,     0.81852,     0.81836,     0.81821,     0.81775,     0.81745,     0.81745,     0.81745,     0.81683,     0.81638,     0.81607,     0.81607,     0.81561,     0.81561,\n",
       "            0.81546,     0.81546,     0.81533,     0.81515,     0.81485,     0.81485,     0.81485,     0.81464,     0.81439,     0.81393,     0.81393,     0.81393,     0.81393,      0.8137,     0.81363,     0.81324,     0.81317,     0.81286,     0.81286,     0.81277,     0.81271,      0.8124,     0.81209,\n",
       "            0.81195,     0.81179,     0.81158,     0.81134,     0.81103,     0.81103,     0.81072,     0.81067,     0.81056,     0.81011,     0.81011,     0.81011,     0.80997,     0.80981,     0.80981,     0.80981,     0.80981,     0.80981,     0.80967,     0.80939,     0.80889,     0.80889,     0.80874,\n",
       "            0.80859,     0.80843,     0.80828,     0.80828,     0.80797,     0.80767,     0.80761,     0.80747,     0.80721,     0.80721,     0.80706,     0.80706,     0.80679,     0.80645,     0.80599,     0.80584,     0.80571,     0.80538,     0.80538,     0.80538,     0.80492,     0.80492,     0.80481,\n",
       "            0.80451,      0.8044,     0.80434,     0.80416,       0.804,      0.8037,      0.8036,     0.80339,     0.80324,      0.8031,     0.80293,     0.80293,     0.80263,      0.8023,     0.80202,     0.80202,     0.80202,     0.80171,     0.80171,     0.80171,     0.80156,     0.80115,      0.8011,\n",
       "             0.8011,     0.80102,     0.80095,     0.80095,     0.80034,     0.80021,     0.80003,     0.79942,     0.79921,     0.79911,     0.79896,     0.79881,     0.79881,      0.7983,     0.79789,     0.79774,     0.79774,     0.79763,     0.79759,     0.79743,     0.79743,     0.79709,     0.79667,\n",
       "            0.79667,     0.79667,     0.79652,     0.79602,     0.79591,      0.7959,     0.79548,     0.79514,     0.79484,     0.79479,     0.79468,     0.79453,     0.79438,     0.79423,     0.79407,     0.79407,     0.79377,     0.79369,     0.79361,     0.79316,     0.79316,     0.79285,     0.79241,\n",
       "            0.79239,     0.79239,     0.79209,     0.79193,     0.79193,     0.79148,     0.79148,     0.79148,     0.79139,     0.79132,     0.79117,     0.79108,     0.79082,     0.79056,     0.79056,     0.79007,     0.78982,     0.78938,     0.78918,     0.78888,      0.7887,     0.78842,     0.78827,\n",
       "            0.78789,     0.78766,      0.7876,     0.78735,     0.78723,     0.78703,     0.78695,     0.78684,     0.78635,     0.78598,     0.78567,     0.78552,     0.78537,     0.78506,     0.78491,     0.78475,     0.78475,     0.78475,     0.78463,     0.78445,     0.78445,     0.78445,     0.78445,\n",
       "            0.78414,     0.78402,      0.7839,     0.78384,     0.78374,     0.78363,     0.78353,     0.78338,     0.78338,     0.78272,     0.78254,      0.7822,     0.78196,     0.78155,     0.78124,     0.78114,     0.78096,     0.78093,     0.78093,     0.78087,     0.78078,     0.78078,      0.7805,\n",
       "            0.78025,     0.77976,      0.7796,     0.77895,     0.77865,     0.77852,     0.77833,      0.7781,     0.77777,     0.77757,     0.77757,     0.77757,     0.77741,     0.77722,     0.77688,     0.77677,     0.77644,     0.77592,     0.77578,     0.77574,     0.77566,     0.77559,     0.77527,\n",
       "            0.77498,     0.77498,     0.77492,     0.77477,     0.77469,     0.77467,     0.77467,      0.7746,     0.77437,     0.77423,     0.77391,      0.7736,     0.77331,      0.7729,     0.77283,      0.7725,     0.77218,     0.77205,     0.77174,     0.77143,     0.77131,     0.77101,     0.77101,\n",
       "            0.77082,     0.77039,      0.7703,     0.77017,     0.77007,     0.76994,     0.76963,      0.7691,      0.7688,      0.7683,      0.7682,     0.76762,     0.76699,     0.76688,     0.76649,     0.76596,     0.76567,     0.76478,     0.76444,     0.76444,     0.76418,     0.76389,     0.76352,\n",
       "            0.76337,     0.76317,     0.76276,     0.76276,      0.7627,      0.7626,      0.7623,     0.76207,     0.76199,      0.7614,     0.76111,     0.76082,     0.76046,     0.76046,     0.76016,     0.76012,      0.7594,     0.75916,     0.75894,     0.75863,     0.75833,     0.75833,     0.75802,\n",
       "            0.75782,     0.75745,     0.75722,      0.7571,      0.7571,     0.75695,     0.75695,     0.75634,     0.75614,     0.75603,      0.7557,     0.75527,     0.75512,     0.75496,     0.75488,     0.75467,     0.75435,     0.75422,     0.75367,     0.75311,     0.75283,     0.75283,     0.75237,\n",
       "            0.75237,     0.75237,     0.75196,     0.75145,     0.75102,     0.75099,     0.75075,     0.75023,     0.75023,     0.74971,     0.74947,     0.74916,      0.7488,      0.7487,     0.74851,      0.7484,     0.74809,     0.74804,     0.74781,     0.74748,     0.74713,     0.74659,     0.74602,\n",
       "             0.7458,     0.74549,      0.7453,     0.74488,     0.74444,     0.74375,     0.74366,     0.74332,       0.743,     0.74274,     0.74261,     0.74205,      0.7418,     0.74128,     0.74091,     0.74081,     0.74076,     0.73992,     0.73967,     0.73899,     0.73862,     0.73816,     0.73813,\n",
       "            0.73783,     0.73741,      0.7373,     0.73709,     0.73675,     0.73663,       0.736,     0.73572,     0.73551,      0.7348,     0.73465,      0.7344,     0.73419,     0.73395,     0.73373,      0.7337,     0.73306,     0.73285,     0.73259,     0.73251,     0.73181,     0.73145,     0.73108,\n",
       "            0.73099,     0.73071,     0.73055,     0.73006,     0.72992,      0.7293,      0.7293,       0.729,     0.72823,     0.72777,     0.72762,     0.72732,     0.72702,      0.7267,     0.72625,     0.72606,     0.72552,     0.72502,     0.72449,     0.72411,      0.7238,     0.72375,     0.72308,\n",
       "            0.72205,     0.72145,     0.72128,      0.7209,     0.72067,     0.72044,     0.71998,     0.71984,     0.71921,     0.71907,     0.71901,     0.71784,     0.71784,     0.71769,      0.7173,     0.71674,     0.71653,      0.7157,     0.71529,     0.71519,     0.71509,     0.71476,     0.71418,\n",
       "            0.71359,     0.71295,     0.71295,     0.71237,     0.71216,     0.71178,     0.71098,     0.71069,     0.71043,     0.70977,     0.70959,     0.70886,     0.70783,     0.70755,      0.7073,     0.70705,     0.70624,     0.70539,     0.70516,     0.70486,     0.70381,     0.70348,     0.70297,\n",
       "            0.70208,     0.70164,     0.70108,     0.70062,     0.69978,     0.69856,     0.69805,     0.69754,     0.69689,     0.69661,     0.69615,     0.69545,     0.69517,      0.6945,     0.69371,      0.6934,     0.69323,     0.69268,     0.69189,     0.69129,     0.69093,     0.69019,     0.68967,\n",
       "            0.68943,     0.68903,     0.68836,     0.68742,     0.68669,     0.68536,     0.68464,     0.68412,     0.68347,     0.68224,     0.68171,     0.68124,     0.68057,      0.6799,      0.6798,     0.67868,      0.6782,      0.6776,     0.67703,      0.6759,     0.67538,     0.67502,     0.67461,\n",
       "            0.67446,     0.67369,     0.67246,     0.67189,      0.6706,     0.67007,      0.6691,     0.66853,     0.66743,     0.66741,     0.66687,     0.66651,     0.66588,     0.66502,     0.66419,     0.66407,     0.66368,     0.66346,     0.66242,     0.66114,     0.66031,     0.65966,     0.65886,\n",
       "            0.65762,     0.65563,     0.65456,     0.65412,      0.6533,     0.65288,     0.65134,     0.65047,     0.65019,     0.64893,     0.64765,     0.64624,     0.64519,     0.64452,     0.64292,     0.64159,     0.64109,     0.64005,     0.63903,     0.63756,     0.63669,      0.6353,     0.63344,\n",
       "            0.63197,     0.63102,     0.62938,     0.62863,     0.62701,     0.62634,     0.62496,      0.6232,     0.62221,     0.62114,     0.62013,     0.61923,     0.61724,     0.61618,     0.61544,     0.61438,     0.61366,     0.61272,     0.61121,     0.60996,     0.60879,     0.60713,     0.60534,\n",
       "            0.60311,      0.6017,     0.59976,     0.59808,     0.59674,     0.59514,     0.59323,     0.59171,     0.58947,     0.58723,     0.58479,     0.58341,     0.58253,     0.58098,     0.57899,     0.57656,     0.57464,     0.57336,     0.57168,     0.56891,     0.56667,     0.56483,     0.56352,\n",
       "            0.56119,     0.55907,     0.55731,     0.55459,      0.5527,     0.55096,     0.54912,     0.54663,     0.54476,     0.54182,     0.53959,     0.53745,     0.53397,     0.53147,     0.52923,     0.52655,      0.5232,     0.51959,     0.51703,     0.51459,     0.51158,      0.5097,     0.50778,\n",
       "            0.50378,     0.50143,     0.49822,      0.4957,     0.49243,     0.48746,     0.48341,     0.47952,     0.47782,     0.47548,     0.47209,     0.46892,     0.46585,      0.4621,     0.45832,     0.45447,     0.45114,     0.44787,     0.44324,      0.4392,     0.43542,     0.43126,     0.42633,\n",
       "            0.42053,     0.41503,     0.41193,     0.40715,     0.40314,     0.39936,     0.39507,     0.39068,     0.38576,     0.38163,     0.37692,     0.37142,     0.36617,     0.36194,      0.3583,     0.35305,     0.34828,     0.34332,     0.33828,     0.33371,     0.32862,     0.32153,     0.31846,\n",
       "             0.3135,     0.30819,     0.30227,     0.29839,     0.29467,     0.28986,     0.28614,     0.28236,     0.27692,     0.27088,     0.26331,     0.25646,     0.25069,     0.24505,     0.23974,     0.23412,     0.22827,     0.22259,     0.21747,     0.21194,     0.20722,     0.20213,     0.19641,\n",
       "            0.19141,     0.18409,     0.17815,     0.17348,     0.16878,     0.16202,     0.15548,     0.15162,     0.14605,     0.13899,     0.13362,     0.12815,     0.12272,     0.11782,     0.11295,     0.10908,     0.10494,     0.10137,    0.097979,    0.093546,    0.088428,    0.085252,    0.081175,\n",
       "            0.07662,    0.072157,    0.068839,    0.066078,    0.062373,    0.058578,    0.055385,    0.053216,    0.050113,    0.047363,    0.044219,    0.041688,    0.038661,    0.036873,    0.034125,    0.031477,    0.028494,    0.027284,    0.024363,    0.022846,    0.021167,    0.019686,    0.017976,\n",
       "           0.016453,    0.015343,     0.01447,    0.012441,     0.01077,   0.0097392,    0.009056,   0.0083083,   0.0072761,   0.0063884,   0.0050618,   0.0047612,   0.0041497,   0.0036367,   0.0035198,   0.0030791,   0.0027564,   0.0026057,   0.0023921,    0.002189,   0.0019893,   0.0013695,   0.0011983,\n",
       "         0.00093053,   0.0008237,  0.00068728,  0.00059274,  0.00056227,   0.0005318,  0.00050133,  0.00047086,  0.00029295,  0.00024072,   0.0001885,           0,           0,           0,           0,           0,           0,           0,           0,           0,           0,           0,           0,\n",
       "                  0,           0,           0,           0,           0,           0,           0,           0,           0,           0,           0,           0,           0,           0,           0,           0,           0,           0,           0,           0,           0,           0,           0,\n",
       "                  0,           0,           0,           0,           0,           0,           0,           0,           0,           0,           0,           0,           0,           0,           0,           0,           0,           0,           0,           0,           0,           0,           0,\n",
       "                  0,           0,           0,           0,           0,           0,           0,           0,           0,           0,           0]]), 'Confidence', 'Recall']]\n",
       "fitness: 0.6370619383390075\n",
       "keys: ['metrics/precision(B)', 'metrics/recall(B)', 'metrics/mAP50(B)', 'metrics/mAP50-95(B)']\n",
       "maps: array([    0.61237])\n",
       "names: {0: 'person'}\n",
       "plot: True\n",
       "results_dict: {'metrics/precision(B)': 0.9048126261164309, 'metrics/recall(B)': 0.7855178735105408, 'metrics/mAP50(B)': 0.8593198311758081, 'metrics/mAP50-95(B)': 0.6123666169126963, 'fitness': 0.6370619383390075}\n",
       "save_dir: WindowsPath('Try2/yolov8Test_model')\n",
       "speed: {'preprocess': 0.21375155172336235, 'inference': 3.1459651293105173, 'loss': 0.00046525862028923666, 'postprocess': 1.1534841810352003}\n",
       "task: 'detect'"
      ]
     },
     "execution_count": 9,
     "metadata": {},
     "output_type": "execute_result"
    }
   ],
   "source": [
    "# Load the pretrained Yolov8 nano model.\n",
    "model = YOLO(\"yolov8n.pt\")\n",
    "\n",
    "# Train the YOLOv8 model\n",
    "model.train(\n",
    "    data=\"POPYolo/POPYolo.yaml\",     # Dataset path\n",
    "    epochs=20,                       # Number of epochs to train\n",
    "    imgsz=640,                       # Image size\n",
    "    project=\"Try2\",     \n",
    "    name=\"yolov8Test_model\",                               \n",
    "    exist_ok=True,                                      \n",
    ")"
   ]
  },
  {
   "cell_type": "code",
   "execution_count": 8,
   "id": "3cc4ee93-f846-415a-af6e-5afc0e24a4d5",
   "metadata": {},
   "outputs": [
    {
     "name": "stdout",
     "output_type": "stream",
     "text": [
      "Ultralytics 8.3.78  Python-3.12.9 torch-2.5.1+cu124 CUDA:0 (NVIDIA GeForce GTX 1660 Ti, 6144MiB)\n",
      "Model summary (fused): 72 layers, 3,005,843 parameters, 0 gradients, 8.1 GFLOPs\n"
     ]
    },
    {
     "name": "stderr",
     "output_type": "stream",
     "text": [
      "\u001b[34m\u001b[1mval: \u001b[0mScanning C:\\Users\\crazy\\OneDrive\\Desktop\\Coding\\Projects\\HackAI\\POPYolo\\labels\\val.cache... 2320 images, 0 backgrounds, 0 corrupt: 100%|██████████| 2320/2320 [00:00<?, ?it/\u001b[0m\n",
      "                 Class     Images  Instances      Box(P          R      mAP50  mAP50-95): 100%|██████████| 145/145 [00:18<00:00,  8.01it/s]\n"
     ]
    },
    {
     "name": "stdout",
     "output_type": "stream",
     "text": [
      "                   all       2320       6546       0.91      0.756      0.833       0.56\n",
      "Speed: 0.1ms preprocess, 1.8ms inference, 0.0ms loss, 1.0ms postprocess per image\n",
      "Results saved to \u001b[1mruns\\detect\\val2\u001b[0m\n"
     ]
    }
   ],
   "source": [
    "\n",
    "bestModel = YOLO(\"Results/yolov8Test_model/weights/best.pt\")\n",
    "metrics = bestModel.val(\n",
    "    data = \"POPYolo/POPYolo.yaml\"\n",
    ")\n",
    "\n"
   ]
  },
  {
   "cell_type": "code",
   "execution_count": null,
   "id": "9fba4704-5027-49bf-a742-1c0ff01ac214",
   "metadata": {},
   "outputs": [],
   "source": [
    "print(metrics.box.map)  # map50-95\n",
    "print(metrics.box.map50)  # map50\n",
    "print(metrics.box.map75)  # map75\n",
    "print(metrics.box.maps)  # a list contains map50-95 of each category"
   ]
  },
  {
   "cell_type": "code",
   "execution_count": 4,
   "id": "bef6169d-a0c0-4dd0-a741-5c53deac87a0",
   "metadata": {},
   "outputs": [],
   "source": [
    "from glob import glob\n",
    "\n",
    "testImages = glob(\"POPClean/test/JPEGImages/*.JPG\")"
   ]
  },
  {
   "cell_type": "code",
   "execution_count": 5,
   "id": "6152331f-9345-4ce6-9688-5d2e1820f9a0",
   "metadata": {},
   "outputs": [],
   "source": [
    "import random\n",
    "from PIL import Image"
   ]
  },
  {
   "cell_type": "code",
   "execution_count": 6,
   "id": "b72343d7-f16c-4b11-ac74-ab7a58174463",
   "metadata": {},
   "outputs": [
    {
     "name": "stdout",
     "output_type": "stream",
     "text": [
      "\n",
      "0: 352x416 2 persons, 4.0ms\n",
      "1: 352x416 (no detections), 4.0ms\n",
      "2: 352x416 2 persons, 4.0ms\n",
      "3: 352x416 1 person, 4.0ms\n",
      "4: 352x416 (no detections), 4.0ms\n",
      "5: 352x416 1 person, 4.0ms\n",
      "6: 352x416 2 persons, 4.0ms\n",
      "7: 352x416 (no detections), 4.0ms\n",
      "8: 352x416 1 person, 4.0ms\n",
      "9: 352x416 1 person, 4.0ms\n",
      "10: 352x416 (no detections), 4.0ms\n",
      "11: 352x416 (no detections), 4.0ms\n",
      "12: 352x416 2 persons, 4.0ms\n",
      "13: 352x416 (no detections), 4.0ms\n",
      "14: 352x416 (no detections), 4.0ms\n",
      "Speed: 1.9ms preprocess, 4.0ms inference, 16.2ms postprocess per image at shape (1, 3, 352, 416)\n",
      "15\n",
      "Finished\n"
     ]
    }
   ],
   "source": [
    "# Run inference on 'bus.jpg'\n",
    "results = bestModel(random.sample(testImages, 15))  # results list\n",
    "\n",
    "print(len(results))\n",
    "# Visualize the results\n",
    "for i, r in enumerate(results):\n",
    "    # Plot results image\n",
    "    im_bgr = r.plot()  # BGR-order numpy array\n",
    "    im_rgb = Image.fromarray(im_bgr[..., ::-1])  # RGB-order PIL image\n",
    "\n",
    "    # Show results to screen (in supported environments)\n",
    "    #r.show()\n",
    "\n",
    "    # Save results to disk\n",
    "    im_rgb.save(f\"Predicted/results1{i}.jpg\")\n",
    "\n",
    "print(\"Finished\")"
   ]
  },
  {
   "cell_type": "code",
   "execution_count": null,
   "id": "3a10cc73-e295-4c6d-b8d6-8ccb5923410b",
   "metadata": {},
   "outputs": [],
   "source": []
  }
 ],
 "metadata": {
  "kernelspec": {
   "display_name": "Python 3 (ipykernel)",
   "language": "python",
   "name": "python3"
  },
  "language_info": {
   "codemirror_mode": {
    "name": "ipython",
    "version": 3
   },
   "file_extension": ".py",
   "mimetype": "text/x-python",
   "name": "python",
   "nbconvert_exporter": "python",
   "pygments_lexer": "ipython3",
   "version": "3.12.9"
  }
 },
 "nbformat": 4,
 "nbformat_minor": 5
}
